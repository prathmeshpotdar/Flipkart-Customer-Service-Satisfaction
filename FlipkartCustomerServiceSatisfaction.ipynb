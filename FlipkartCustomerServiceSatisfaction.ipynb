{
  "nbformat": 4,
  "nbformat_minor": 0,
  "metadata": {
    "colab": {
      "provenance": []
    },
    "kernelspec": {
      "name": "python3",
      "display_name": "Python 3"
    },
    "language_info": {
      "name": "python"
    }
  },
  "cells": [
    {
      "cell_type": "markdown",
      "source": [
        "# **Project Name**    - Flipkart Customer Service Satisfaction\n",
        "\n"
      ],
      "metadata": {
        "id": "vncDsAP0Gaoa"
      }
    },
    {
      "cell_type": "markdown",
      "source": [
        "##### **Project Type**    - EDA\n",
        "##### **Contribution**    - Individual"
      ],
      "metadata": {
        "id": "beRrZCGUAJYm"
      }
    },
    {
      "cell_type": "markdown",
      "source": [
        "# **Project Summary -**"
      ],
      "metadata": {
        "id": "FJNUwmbgGyua"
      }
    },
    {
      "cell_type": "markdown",
      "source": [
        "This project focuses on analyzing customer interactions, feedback, and satisfaction scores from Flipkart to identify key factors influencing customer experience and service quality. By leveraging Python, Pandas, NumPy, Matplotlib, Seaborn, and Scikit-learn, the project aims to uncover trends in customer sentiment, improve support strategies, and enhance overall satisfaction."
      ],
      "metadata": {
        "id": "F6v_1wHtG2nS"
      }
    },
    {
      "cell_type": "markdown",
      "source": [
        "# **GitHub Link -**"
      ],
      "metadata": {
        "id": "w6K7xa23Elo4"
      }
    },
    {
      "cell_type": "markdown",
      "source": [
        "https://github.com/prathmeshpotdar/Flipkart-Customer-Service-Satisfaction"
      ],
      "metadata": {
        "id": "h1o69JH3Eqqn"
      }
    },
    {
      "cell_type": "markdown",
      "source": [
        "# **Problem Statement**\n"
      ],
      "metadata": {
        "id": "yQaldy8SH6Dl"
      }
    },
    {
      "cell_type": "markdown",
      "source": [
        "**Write Problem Statement Here.**"
      ],
      "metadata": {
        "id": "DpeJGUA3kjGy"
      }
    },
    {
      "cell_type": "markdown",
      "source": [
        "#### **Define Your Business Objective?**"
      ],
      "metadata": {
        "id": "PH-0ReGfmX4f"
      }
    },
    {
      "cell_type": "markdown",
      "source": [
        "Answer Here."
      ],
      "metadata": {
        "id": "PhDvGCAqmjP1"
      }
    },
    {
      "cell_type": "markdown",
      "source": [
        "# **General Guidelines** : -  "
      ],
      "metadata": {
        "id": "mDgbUHAGgjLW"
      }
    },
    {
      "cell_type": "markdown",
      "source": [
        "1.   Well-structured, formatted, and commented code is required.\n",
        "2.   Exception Handling, Production Grade Code & Deployment Ready Code will be a plus. Those students will be awarded some additional credits.\n",
        "     \n",
        "     The additional credits will have advantages over other students during Star Student selection.\n",
        "       \n",
        "             [ Note: - Deployment Ready Code is defined as, the whole .ipynb notebook should be executable in one go\n",
        "                       without a single error logged. ]\n",
        "\n",
        "3.   Each and every logic should have proper comments.\n",
        "4. You may add as many number of charts you want. Make Sure for each and every chart the following format should be answered.\n",
        "        \n",
        "\n",
        "```\n",
        "# Chart visualization code\n",
        "```\n",
        "            \n",
        "\n",
        "*   Why did you pick the specific chart?\n",
        "*   What is/are the insight(s) found from the chart?\n",
        "* Will the gained insights help creating a positive business impact?\n",
        "Are there any insights that lead to negative growth? Justify with specific reason.\n",
        "\n",
        "5. You have to create at least 20 logical & meaningful charts having important insights.\n",
        "\n",
        "\n",
        "[ Hints : - Do the Vizualization in  a structured way while following \"UBM\" Rule.\n",
        "\n",
        "U - Univariate Analysis,\n",
        "\n",
        "B - Bivariate Analysis (Numerical - Categorical, Numerical - Numerical, Categorical - Categorical)\n",
        "\n",
        "M - Multivariate Analysis\n",
        " ]\n",
        "\n",
        "\n",
        "\n"
      ],
      "metadata": {
        "id": "ZrxVaUj-hHfC"
      }
    },
    {
      "cell_type": "markdown",
      "source": [
        "# ***Let's Begin !***"
      ],
      "metadata": {
        "id": "O_i_v8NEhb9l"
      }
    },
    {
      "cell_type": "markdown",
      "source": [
        "## ***1. Know Your Data***"
      ],
      "metadata": {
        "id": "HhfV-JJviCcP"
      }
    },
    {
      "cell_type": "markdown",
      "source": [
        "### Import Libraries"
      ],
      "metadata": {
        "id": "Y3lxredqlCYt"
      }
    },
    {
      "cell_type": "code",
      "source": [
        "# Import Libraries\n",
        "import pandas as pd # importing pandas for  handling and data manuplation\n",
        "import numpy as np  #importing numpy for mathematical operation\n",
        "import matplotlib.pyplot as plt #for data visualisation\n",
        "import seaborn as sns   #for data visualisation\n",
        "from sklearn.model_selection import train_test_split #  splitting the dataset into traning and test sets\n",
        "from sklearn.ensemble import RandomForestClassifier  #machine learning model for classification\n",
        "from sklearn.metrics import accuracy_score , classification_report    #TO eevaluate model performance"
      ],
      "metadata": {
        "id": "M8Vqi-pPk-HR"
      },
      "execution_count": 1,
      "outputs": []
    },
    {
      "cell_type": "markdown",
      "source": [
        "### Dataset Loading"
      ],
      "metadata": {
        "id": "3RnN4peoiCZX"
      }
    },
    {
      "cell_type": "code",
      "source": [
        "# Load Dataset\n",
        "file_path = \"/content/Customer_support_data.csv\"\n",
        "df = pd.read_csv(file_path)"
      ],
      "metadata": {
        "id": "4CkvbW_SlZ_R"
      },
      "execution_count": 2,
      "outputs": []
    },
    {
      "cell_type": "markdown",
      "source": [
        "Data Cleaning and Preprocessing"
      ],
      "metadata": {
        "id": "oEmUErrnc2v_"
      }
    },
    {
      "cell_type": "code",
      "source": [
        "#Converting date and columns to datetime format\n",
        "date_cols = [\"order_date_time\" , \"Issue_reported at\", \"issue_responded\", \"Survey_response_Date\"]\n",
        "for col in date_cols:\n",
        "  df[col] = pd.to_datetime(df[col], errors = \"coerce\")         #error = coerce ensures invalid date values are converted to NaT i.e. not a time"
      ],
      "metadata": {
        "colab": {
          "base_uri": "https://localhost:8080/"
        },
        "id": "dss2EGkWc_qv",
        "outputId": "8232608e-c4e3-40b8-a381-a983fd6a7548"
      },
      "execution_count": 3,
      "outputs": [
        {
          "output_type": "stream",
          "name": "stderr",
          "text": [
            "/tmp/ipython-input-3459950817.py:4: UserWarning: Parsing dates in %d/%m/%Y %H:%M format when dayfirst=False (the default) was specified. Pass `dayfirst=True` or specify a format to silence this warning.\n",
            "  df[col] = pd.to_datetime(df[col], errors = \"coerce\")         #error = coerce ensures invalid date values are converted to NaT i.e. not a time\n",
            "/tmp/ipython-input-3459950817.py:4: UserWarning: Could not infer format, so each element will be parsed individually, falling back to `dateutil`. To ensure parsing is consistent and as-expected, please specify a format.\n",
            "  df[col] = pd.to_datetime(df[col], errors = \"coerce\")         #error = coerce ensures invalid date values are converted to NaT i.e. not a time\n"
          ]
        }
      ]
    },
    {
      "cell_type": "markdown",
      "source": [
        "Handle Missing Values"
      ],
      "metadata": {
        "id": "raf8jOJFdRRh"
      }
    },
    {
      "cell_type": "code",
      "source": [
        "#df['Customer Remarks'].fillna(\"No Remarks\", inplace=True)\n",
        "#df['Item_price'].fillna(df['Item_price'].median(), inplace=True)\n",
        "#df.drop(columns=['Customer_City', 'connected_handling_time'], inplace=True)  # Too many missing values\n",
        "\n",
        "df['Customer Remarks'] = df['Customer Remarks'].fillna(\"No Remarks\")     #Filling missing values in customer remarks with no remarks\n",
        "df['Item_price'] = df['Item_price'].fillna(df['Item_price'].median())    # fills missing values\n"
      ],
      "metadata": {
        "id": "CI9f-RYUdW3H"
      },
      "execution_count": 4,
      "outputs": []
    },
    {
      "cell_type": "markdown",
      "source": [
        "Dropping columns that have too many missing values"
      ],
      "metadata": {
        "id": "UMgGuzLIdr05"
      }
    },
    {
      "cell_type": "code",
      "source": [
        "#if 'Customer_City' in df.columns:\n",
        "    #df.drop(columns=['Customer_City'], inplace=True)  # Too many missing values\n",
        "if 'connected_handling_time' in df.columns:\n",
        "    df.drop(columns=['connected_handling_time'], inplace=True)"
      ],
      "metadata": {
        "id": "3gNkelBndzyU"
      },
      "execution_count": 5,
      "outputs": []
    },
    {
      "cell_type": "code",
      "source": [
        "#Feature enginnering\n",
        "#Calculating Response time\n",
        "\n",
        "df[\"response_time\"] = (df[\"issue_responded\"] - df[\"Issue_reported at\"]).dt.total_seconds()\n",
        "df[\"response_time\"] = df[\"response_time\"].fillna(df[\"response_time\"].median())"
      ],
      "metadata": {
        "id": "Tzd3agL9d191"
      },
      "execution_count": 6,
      "outputs": []
    },
    {
      "cell_type": "markdown",
      "source": [
        "Analyzing and Visulaizing data"
      ],
      "metadata": {
        "id": "e46uCTYdegm8"
      }
    },
    {
      "cell_type": "code",
      "source": [
        "#For CSAT Score distribution\n",
        "plt.figure(figsize=(10,5))\n",
        "sns.countplot(x=\"CSAT Score\", data = df , palette = \"viridis\")\n",
        "plt.title(\"Distribution of CSAT Scores\")\n",
        "plt.show"
      ],
      "metadata": {
        "colab": {
          "base_uri": "https://localhost:8080/",
          "height": 763
        },
        "id": "iFrPN070elfj",
        "outputId": "fdf4dba3-189e-4684-fe9d-637d932ee1b7"
      },
      "execution_count": 7,
      "outputs": [
        {
          "output_type": "stream",
          "name": "stderr",
          "text": [
            "/tmp/ipython-input-826799858.py:3: FutureWarning: \n",
            "\n",
            "Passing `palette` without assigning `hue` is deprecated and will be removed in v0.14.0. Assign the `x` variable to `hue` and set `legend=False` for the same effect.\n",
            "\n",
            "  sns.countplot(x=\"CSAT Score\", data = df , palette = \"viridis\")\n"
          ]
        },
        {
          "output_type": "execute_result",
          "data": {
            "text/plain": [
              "<function matplotlib.pyplot.show(close=None, block=None)>"
            ],
            "text/html": [
              "<div style=\"max-width:800px; border: 1px solid var(--colab-border-color);\"><style>\n",
              "      pre.function-repr-contents {\n",
              "        overflow-x: auto;\n",
              "        padding: 8px 12px;\n",
              "        max-height: 500px;\n",
              "      }\n",
              "\n",
              "      pre.function-repr-contents.function-repr-contents-collapsed {\n",
              "        cursor: pointer;\n",
              "        max-height: 100px;\n",
              "      }\n",
              "    </style>\n",
              "    <pre style=\"white-space: initial; background:\n",
              "         var(--colab-secondary-surface-color); padding: 8px 12px;\n",
              "         border-bottom: 1px solid var(--colab-border-color);\"><b>matplotlib.pyplot.show</b><br/>def show(*args, **kwargs) -&gt; None</pre><pre class=\"function-repr-contents function-repr-contents-collapsed\" style=\"\"><a class=\"filepath\" style=\"display:none\" href=\"#\">/usr/local/lib/python3.12/dist-packages/matplotlib/pyplot.py</a>Display all open figures.\n",
              "\n",
              "Parameters\n",
              "----------\n",
              "block : bool, optional\n",
              "    Whether to wait for all figures to be closed before returning.\n",
              "\n",
              "    If `True` block and run the GUI main loop until all figure windows\n",
              "    are closed.\n",
              "\n",
              "    If `False` ensure that all figure windows are displayed and return\n",
              "    immediately.  In this case, you are responsible for ensuring\n",
              "    that the event loop is running to have responsive figures.\n",
              "\n",
              "    Defaults to True in non-interactive mode and to False in interactive\n",
              "    mode (see `.pyplot.isinteractive`).\n",
              "\n",
              "See Also\n",
              "--------\n",
              "ion : Enable interactive mode, which shows / updates the figure after\n",
              "      every plotting command, so that calling ``show()`` is not necessary.\n",
              "ioff : Disable interactive mode.\n",
              "savefig : Save the figure to an image file instead of showing it on screen.\n",
              "\n",
              "Notes\n",
              "-----\n",
              "**Saving figures to file and showing a window at the same time**\n",
              "\n",
              "If you want an image file as well as a user interface window, use\n",
              "`.pyplot.savefig` before `.pyplot.show`. At the end of (a blocking)\n",
              "``show()`` the figure is closed and thus unregistered from pyplot. Calling\n",
              "`.pyplot.savefig` afterwards would save a new and thus empty figure. This\n",
              "limitation of command order does not apply if the show is non-blocking or\n",
              "if you keep a reference to the figure and use `.Figure.savefig`.\n",
              "\n",
              "**Auto-show in jupyter notebooks**\n",
              "\n",
              "The jupyter backends (activated via ``%matplotlib inline``,\n",
              "``%matplotlib notebook``, or ``%matplotlib widget``), call ``show()`` at\n",
              "the end of every cell by default. Thus, you usually don&#x27;t have to call it\n",
              "explicitly there.</pre>\n",
              "      <script>\n",
              "      if (google.colab.kernel.accessAllowed && google.colab.files && google.colab.files.view) {\n",
              "        for (const element of document.querySelectorAll('.filepath')) {\n",
              "          element.style.display = 'block'\n",
              "          element.onclick = (event) => {\n",
              "            event.preventDefault();\n",
              "            event.stopPropagation();\n",
              "            google.colab.files.view(element.textContent, 569);\n",
              "          };\n",
              "        }\n",
              "      }\n",
              "      for (const element of document.querySelectorAll('.function-repr-contents')) {\n",
              "        element.onclick = (event) => {\n",
              "          event.preventDefault();\n",
              "          event.stopPropagation();\n",
              "          element.classList.toggle('function-repr-contents-collapsed');\n",
              "        };\n",
              "      }\n",
              "      </script>\n",
              "      </div>"
            ]
          },
          "metadata": {},
          "execution_count": 7
        },
        {
          "output_type": "display_data",
          "data": {
            "text/plain": [
              "<Figure size 1000x500 with 1 Axes>"
            ],
            "image/png": "[encoded data removed]"
          },
          "metadata": {}
        }
      ]
    },
    {
      "cell_type": "code",
      "source": [
        "#Satisfaction across different support channels/ differnet mediums;\n",
        "plt.figure(figsize = (12,6))\n",
        "sns.boxplot(x = \"channel_name\", y = \"CSAT Score\" , data = df)\n",
        "plt.xticks(rotation = 45)\n",
        "plt.title(\"Customer Satisfaction Across Channels\")\n",
        "plt.show()"
      ],
      "metadata": {
        "colab": {
          "base_uri": "https://localhost:8080/",
          "height": 600
        },
        "id": "dcoVzMeBfLrt",
        "outputId": "c64eeb90-8267-466d-c266-8861b6254cfe"
      },
      "execution_count": 8,
      "outputs": [
        {
          "output_type": "display_data",
          "data": {
            "text/plain": [
              "<Figure size 1200x600 with 1 Axes>"
            ],
            "image/png": "[encoded data removed]"
          },
          "metadata": {}
        }
      ]
    },
    {
      "cell_type": "code",
      "source": [
        "# Comparing Response Time vs Csat Score\n",
        "plt.figure(figsize = (10 , 5))\n",
        "sns.scatterplot(x = \"response_time\" , y = \"CSAT Score\" , data = df)\n",
        "plt.title(\"Response Time vs CSAT Score\")\n",
        "plt.show()"
      ],
      "metadata": {
        "colab": {
          "base_uri": "https://localhost:8080/",
          "height": 487
        },
        "id": "F8AEzIkffVhc",
        "outputId": "922f46aa-3dc0-4d20-ecd5-0d8af2b83c63"
      },
      "execution_count": 9,
      "outputs": [
        {
          "output_type": "display_data",
          "data": {
            "text/plain": [
              "<Figure size 1000x500 with 1 Axes>"
            ],
            "image/png": "[encoded data removed]"
          },
          "metadata": {}
        }
      ]
    },
    {
      "cell_type": "markdown",
      "source": [
        "Model Training"
      ],
      "metadata": {
        "id": "sdps_lPZfnSp"
      }
    },
    {
      "cell_type": "code",
      "source": [
        "#Selcting relevant features for predictions\n",
        "features = [\"response_time\" , \"Item_price\", \"channel_name\", \"category\" , \"Tenure Bucket\" , \"Agent Shift\"]\n",
        "df_model = df[features + [\"CSAT Score\"]]\n",
        "df_model = pd.get_dummies(df_model , drop_first = True) #One hot encoding for categorial features"
      ],
      "metadata": {
        "id": "ln2BA1jOfwxc"
      },
      "execution_count": 10,
      "outputs": []
    },
    {
      "cell_type": "code",
      "source": [
        "#Spitting Data Into Train and Test Sets\n",
        "X = df_model.drop(columns=['CSAT Score'])\n",
        "y = df_model['CSAT Score']\n",
        "X_train, X_test, y_train, y_test = train_test_split(X, y, test_size=0.2, random_state=42)\n"
      ],
      "metadata": {
        "id": "s_VWMqthf26G"
      },
      "execution_count": 11,
      "outputs": []
    },
    {
      "cell_type": "markdown",
      "source": [
        "### Dataset First View"
      ],
      "metadata": {
        "id": "x71ZqKXriCWQ"
      }
    },
    {
      "cell_type": "code",
      "source": [
        "# Dataset First Look\n",
        "df.head()"
      ],
      "metadata": {
        "id": "LWNFOSvLl09H",
        "colab": {
          "base_uri": "https://localhost:8080/",
          "height": 504
        },
        "outputId": "da2d44b8-5dac-41b4-a1d2-215c304c4755"
      },
      "execution_count": 12,
      "outputs": [
        {
          "output_type": "execute_result",
          "data": {
            "text/plain": [
              "                              Unique id channel_name         category  \\\n",
              "0  7e9ae164-6a8b-4521-a2d4-58f7c9fff13f      Outcall  Product Queries   \n",
              "1  b07ec1b0-f376-43b6-86df-ec03da3b2e16      Outcall  Product Queries   \n",
              "2  200814dd-27c7-4149-ba2b-bd3af3092880      Inbound    Order Related   \n",
              "3  eb0d3e53-c1ca-42d3-8486-e42c8d622135      Inbound          Returns   \n",
              "4  ba903143-1e54-406c-b969-46c52f92e5df      Inbound     Cancellation   \n",
              "\n",
              "                   Sub-category Customer Remarks  \\\n",
              "0                Life Insurance       No Remarks   \n",
              "1  Product Specific Information       No Remarks   \n",
              "2             Installation/demo       No Remarks   \n",
              "3        Reverse Pickup Enquiry       No Remarks   \n",
              "4                    Not Needed       No Remarks   \n",
              "\n",
              "                               Order_id order_date_time   Issue_reported at  \\\n",
              "0  c27c9bb4-fa36-4140-9f1f-21009254ffdb             NaT 2023-01-08 11:13:00   \n",
              "1  d406b0c7-ce17-4654-b9de-f08d421254bd             NaT 2023-01-08 12:52:00   \n",
              "2  c273368d-b961-44cb-beaf-62d6fd6c00d5             NaT 2023-01-08 20:16:00   \n",
              "3  5aed0059-55a4-4ec6-bb54-97942092020a             NaT 2023-01-08 20:56:00   \n",
              "4  e8bed5a9-6933-4aff-9dc6-ccefd7dcde59             NaT 2023-01-08 10:30:00   \n",
              "\n",
              "      issue_responded Survey_response_Date Customer_City Product_category  \\\n",
              "0 2023-01-08 11:47:00           2023-08-01           NaN              NaN   \n",
              "1 2023-01-08 12:54:00           2023-08-01           NaN              NaN   \n",
              "2 2023-01-08 20:38:00           2023-08-01           NaN              NaN   \n",
              "3 2023-01-08 21:16:00           2023-08-01           NaN              NaN   \n",
              "4 2023-01-08 10:32:00           2023-08-01           NaN              NaN   \n",
              "\n",
              "   Item_price           Agent_name      Supervisor          Manager  \\\n",
              "0       979.0     Richard Buchanan     Mason Gupta  Jennifer Nguyen   \n",
              "1       979.0        Vicki Collins       Dylan Kim      Michael Lee   \n",
              "2       979.0         Duane Norman    Jackson Park      William Kim   \n",
              "3       979.0       Patrick Flores     Olivia Wang       John Smith   \n",
              "4       979.0  Christopher Sanchez  Austin Johnson      Michael Lee   \n",
              "\n",
              "     Tenure Bucket Agent Shift  CSAT Score  response_time  \n",
              "0  On Job Training     Morning           5         2040.0  \n",
              "1              >90     Morning           5          120.0  \n",
              "2  On Job Training     Evening           5         1320.0  \n",
              "3              >90     Evening           5         1200.0  \n",
              "4             0-30     Morning           5          120.0  "
            ],
            "text/html": [
              "\n",
              "  <div id=\"df-22242a39-1781-47ad-a011-ab8dac96496e\" class=\"colab-df-container\">\n",
              "    <div>\n",
              "<style scoped>\n",
              "    .dataframe tbody tr th:only-of-type {\n",
              "        vertical-align: middle;\n",
              "    }\n",
              "\n",
              "    .dataframe tbody tr th {\n",
              "        vertical-align: top;\n",
              "    }\n",
              "\n",
              "    .dataframe thead th {\n",
              "        text-align: right;\n",
              "    }\n",
              "</style>\n",
              "<table border=\"1\" class=\"dataframe\">\n",
              "  <thead>\n",
              "    <tr style=\"text-align: right;\">\n",
              "      <th></th>\n",
              "      <th>Unique id</th>\n",
              "      <th>channel_name</th>\n",
              "      <th>category</th>\n",
              "      <th>Sub-category</th>\n",
              "      <th>Customer Remarks</th>\n",
              "      <th>Order_id</th>\n",
              "      <th>order_date_time</th>\n",
              "      <th>Issue_reported at</th>\n",
              "      <th>issue_responded</th>\n",
              "      <th>Survey_response_Date</th>\n",
              "      <th>Customer_City</th>\n",
              "      <th>Product_category</th>\n",
              "      <th>Item_price</th>\n",
              "      <th>Agent_name</th>\n",
              "      <th>Supervisor</th>\n",
              "      <th>Manager</th>\n",
              "      <th>Tenure Bucket</th>\n",
              "      <th>Agent Shift</th>\n",
              "      <th>CSAT Score</th>\n",
              "      <th>response_time</th>\n",
              "    </tr>\n",
              "  </thead>\n",
              "  <tbody>\n",
              "    <tr>\n",
              "      <th>0</th>\n",
              "      <td>7e9ae164-6a8b-4521-a2d4-58f7c9fff13f</td>\n",
              "      <td>Outcall</td>\n",
              "      <td>Product Queries</td>\n",
              "      <td>Life Insurance</td>\n",
              "      <td>No Remarks</td>\n",
              "      <td>c27c9bb4-fa36-4140-9f1f-21009254ffdb</td>\n",
              "      <td>NaT</td>\n",
              "      <td>2023-01-08 11:13:00</td>\n",
              "      <td>2023-01-08 11:47:00</td>\n",
              "      <td>2023-08-01</td>\n",
              "      <td>NaN</td>\n",
              "      <td>NaN</td>\n",
              "      <td>979.0</td>\n",
              "      <td>Richard Buchanan</td>\n",
              "      <td>Mason Gupta</td>\n",
              "      <td>Jennifer Nguyen</td>\n",
              "      <td>On Job Training</td>\n",
              "      <td>Morning</td>\n",
              "      <td>5</td>\n",
              "      <td>2040.0</td>\n",
              "    </tr>\n",
              "    <tr>\n",
              "      <th>1</th>\n",
              "      <td>b07ec1b0-f376-43b6-86df-ec03da3b2e16</td>\n",
              "      <td>Outcall</td>\n",
              "      <td>Product Queries</td>\n",
              "      <td>Product Specific Information</td>\n",
              "      <td>No Remarks</td>\n",
              "      <td>d406b0c7-ce17-4654-b9de-f08d421254bd</td>\n",
              "      <td>NaT</td>\n",
              "      <td>2023-01-08 12:52:00</td>\n",
              "      <td>2023-01-08 12:54:00</td>\n",
              "      <td>2023-08-01</td>\n",
              "      <td>NaN</td>\n",
              "      <td>NaN</td>\n",
              "      <td>979.0</td>\n",
              "      <td>Vicki Collins</td>\n",
              "      <td>Dylan Kim</td>\n",
              "      <td>Michael Lee</td>\n",
              "      <td>&gt;90</td>\n",
              "      <td>Morning</td>\n",
              "      <td>5</td>\n",
              "      <td>120.0</td>\n",
              "    </tr>\n",
              "    <tr>\n",
              "      <th>2</th>\n",
              "      <td>200814dd-27c7-4149-ba2b-bd3af3092880</td>\n",
              "      <td>Inbound</td>\n",
              "      <td>Order Related</td>\n",
              "      <td>Installation/demo</td>\n",
              "      <td>No Remarks</td>\n",
              "      <td>c273368d-b961-44cb-beaf-62d6fd6c00d5</td>\n",
              "      <td>NaT</td>\n",
              "      <td>2023-01-08 20:16:00</td>\n",
              "      <td>2023-01-08 20:38:00</td>\n",
              "      <td>2023-08-01</td>\n",
              "      <td>NaN</td>\n",
              "      <td>NaN</td>\n",
              "      <td>979.0</td>\n",
              "      <td>Duane Norman</td>\n",
              "      <td>Jackson Park</td>\n",
              "      <td>William Kim</td>\n",
              "      <td>On Job Training</td>\n",
              "      <td>Evening</td>\n",
              "      <td>5</td>\n",
              "      <td>1320.0</td>\n",
              "    </tr>\n",
              "    <tr>\n",
              "      <th>3</th>\n",
              "      <td>eb0d3e53-c1ca-42d3-8486-e42c8d622135</td>\n",
              "      <td>Inbound</td>\n",
              "      <td>Returns</td>\n",
              "      <td>Reverse Pickup Enquiry</td>\n",
              "      <td>No Remarks</td>\n",
              "      <td>5aed0059-55a4-4ec6-bb54-97942092020a</td>\n",
              "      <td>NaT</td>\n",
              "      <td>2023-01-08 20:56:00</td>\n",
              "      <td>2023-01-08 21:16:00</td>\n",
              "      <td>2023-08-01</td>\n",
              "      <td>NaN</td>\n",
              "      <td>NaN</td>\n",
              "      <td>979.0</td>\n",
              "      <td>Patrick Flores</td>\n",
              "      <td>Olivia Wang</td>\n",
              "      <td>John Smith</td>\n",
              "      <td>&gt;90</td>\n",
              "      <td>Evening</td>\n",
              "      <td>5</td>\n",
              "      <td>1200.0</td>\n",
              "    </tr>\n",
              "    <tr>\n",
              "      <th>4</th>\n",
              "      <td>ba903143-1e54-406c-b969-46c52f92e5df</td>\n",
              "      <td>Inbound</td>\n",
              "      <td>Cancellation</td>\n",
              "      <td>Not Needed</td>\n",
              "      <td>No Remarks</td>\n",
              "      <td>e8bed5a9-6933-4aff-9dc6-ccefd7dcde59</td>\n",
              "      <td>NaT</td>\n",
              "      <td>2023-01-08 10:30:00</td>\n",
              "      <td>2023-01-08 10:32:00</td>\n",
              "      <td>2023-08-01</td>\n",
              "      <td>NaN</td>\n",
              "      <td>NaN</td>\n",
              "      <td>979.0</td>\n",
              "      <td>Christopher Sanchez</td>\n",
              "      <td>Austin Johnson</td>\n",
              "      <td>Michael Lee</td>\n",
              "      <td>0-30</td>\n",
              "      <td>Morning</td>\n",
              "      <td>5</td>\n",
              "      <td>120.0</td>\n",
              "    </tr>\n",
              "  </tbody>\n",
              "</table>\n",
              "</div>\n",
              "    <div class=\"colab-df-buttons\">\n",
              "\n",
              "  <div class=\"colab-df-container\">\n",
              "    <button class=\"colab-df-convert\" onclick=\"convertToInteractive('df-22242a39-1781-47ad-a011-ab8dac96496e')\"\n",
              "            title=\"Convert this dataframe to an interactive table.\"\n",
              "            style=\"display:none;\">\n",
              "\n",
              "  <svg xmlns=\"http://www.w3.org/2000/svg\" height=\"24px\" viewBox=\"0 -960 960 960\">\n",
              "    <path d=\"M120-120v-720h720v720H120Zm60-500h600v-160H180v160Zm220 220h160v-160H400v160Zm0 220h160v-160H400v160ZM180-400h160v-160H180v160Zm440 0h160v-160H620v160ZM180-180h160v-160H180v160Zm440 0h160v-160H620v160Z\"/>\n",
              "  </svg>\n",
              "    </button>\n",
              "\n",
              "  <style>\n",
              "    .colab-df-container {\n",
              "      display:flex;\n",
              "      gap: 12px;\n",
              "    }\n",
              "\n",
              "    .colab-df-convert {\n",
              "      background-color: #E8F0FE;\n",
              "      border: none;\n",
              "      border-radius: 50%;\n",
              "      cursor: pointer;\n",
              "      display: none;\n",
              "      fill: #1967D2;\n",
              "      height: 32px;\n",
              "      padding: 0 0 0 0;\n",
              "      width: 32px;\n",
              "    }\n",
              "\n",
              "    .colab-df-convert:hover {\n",
              "      background-color: #E2EBFA;\n",
              "      box-shadow: 0px 1px 2px rgba(60, 64, 67, 0.3), 0px 1px 3px 1px rgba(60, 64, 67, 0.15);\n",
              "      fill: #174EA6;\n",
              "    }\n",
              "\n",
              "    .colab-df-buttons div {\n",
              "      margin-bottom: 4px;\n",
              "    }\n",
              "\n",
              "    [theme=dark] .colab-df-convert {\n",
              "      background-color: #3B4455;\n",
              "      fill: #D2E3FC;\n",
              "    }\n",
              "\n",
              "    [theme=dark] .colab-df-convert:hover {\n",
              "      background-color: #434B5C;\n",
              "      box-shadow: 0px 1px 3px 1px rgba(0, 0, 0, 0.15);\n",
              "      filter: drop-shadow(0px 1px 2px rgba(0, 0, 0, 0.3));\n",
              "      fill: #FFFFFF;\n",
              "    }\n",
              "  </style>\n",
              "\n",
              "    <script>\n",
              "      const buttonEl =\n",
              "        document.querySelector('#df-22242a39-1781-47ad-a011-ab8dac96496e button.colab-df-convert');\n",
              "      buttonEl.style.display =\n",
              "        google.colab.kernel.accessAllowed ? 'block' : 'none';\n",
              "\n",
              "      async function convertToInteractive(key) {\n",
              "        const element = document.querySelector('#df-22242a39-1781-47ad-a011-ab8dac96496e');\n",
              "        const dataTable =\n",
              "          await google.colab.kernel.invokeFunction('convertToInteractive',\n",
              "                                                    [key], {});\n",
              "        if (!dataTable) return;\n",
              "\n",
              "        const docLinkHtml = 'Like what you see? Visit the ' +\n",
              "          '<a target=\"_blank\" href=https://colab.research.google.com/notebooks/data_table.ipynb>data table notebook</a>'\n",
              "          + ' to learn more about interactive tables.';\n",
              "        element.innerHTML = '';\n",
              "        dataTable['output_type'] = 'display_data';\n",
              "        await google.colab.output.renderOutput(dataTable, element);\n",
              "        const docLink = document.createElement('div');\n",
              "        docLink.innerHTML = docLinkHtml;\n",
              "        element.appendChild(docLink);\n",
              "      }\n",
              "    </script>\n",
              "  </div>\n",
              "\n",
              "\n",
              "    <div id=\"df-efdd2433-1093-4aea-811c-3ea29c126655\">\n",
              "      <button class=\"colab-df-quickchart\" onclick=\"quickchart('df-efdd2433-1093-4aea-811c-3ea29c126655')\"\n",
              "                title=\"Suggest charts\"\n",
              "                style=\"display:none;\">\n",
              "\n",
              "<svg xmlns=\"http://www.w3.org/2000/svg\" height=\"24px\"viewBox=\"0 0 24 24\"\n",
              "     width=\"24px\">\n",
              "    <g>\n",
              "        <path d=\"M19 3H5c-1.1 0-2 .9-2 2v14c0 1.1.9 2 2 2h14c1.1 0 2-.9 2-2V5c0-1.1-.9-2-2-2zM9 17H7v-7h2v7zm4 0h-2V7h2v10zm4 0h-2v-4h2v4z\"/>\n",
              "    </g>\n",
              "</svg>\n",
              "      </button>\n",
              "\n",
              "<style>\n",
              "  .colab-df-quickchart {\n",
              "      --bg-color: #E8F0FE;\n",
              "      --fill-color: #1967D2;\n",
              "      --hover-bg-color: #E2EBFA;\n",
              "      --hover-fill-color: #174EA6;\n",
              "      --disabled-fill-color: #AAA;\n",
              "      --disabled-bg-color: #DDD;\n",
              "  }\n",
              "\n",
              "  [theme=dark] .colab-df-quickchart {\n",
              "      --bg-color: #3B4455;\n",
              "      --fill-color: #D2E3FC;\n",
              "      --hover-bg-color: #434B5C;\n",
              "      --hover-fill-color: #FFFFFF;\n",
              "      --disabled-bg-color: #3B4455;\n",
              "      --disabled-fill-color: #666;\n",
              "  }\n",
              "\n",
              "  .colab-df-quickchart {\n",
              "    background-color: var(--bg-color);\n",
              "    border: none;\n",
              "    border-radius: 50%;\n",
              "    cursor: pointer;\n",
              "    display: none;\n",
              "    fill: var(--fill-color);\n",
              "    height: 32px;\n",
              "    padding: 0;\n",
              "    width: 32px;\n",
              "  }\n",
              "\n",
              "  .colab-df-quickchart:hover {\n",
              "    background-color: var(--hover-bg-color);\n",
              "    box-shadow: 0 1px 2px rgba(60, 64, 67, 0.3), 0 1px 3px 1px rgba(60, 64, 67, 0.15);\n",
              "    fill: var(--button-hover-fill-color);\n",
              "  }\n",
              "\n",
              "  .colab-df-quickchart-complete:disabled,\n",
              "  .colab-df-quickchart-complete:disabled:hover {\n",
              "    background-color: var(--disabled-bg-color);\n",
              "    fill: var(--disabled-fill-color);\n",
              "    box-shadow: none;\n",
              "  }\n",
              "\n",
              "  .colab-df-spinner {\n",
              "    border: 2px solid var(--fill-color);\n",
              "    border-color: transparent;\n",
              "    border-bottom-color: var(--fill-color);\n",
              "    animation:\n",
              "      spin 1s steps(1) infinite;\n",
              "  }\n",
              "\n",
              "  @keyframes spin {\n",
              "    0% {\n",
              "      border-color: transparent;\n",
              "      border-bottom-color: var(--fill-color);\n",
              "      border-left-color: var(--fill-color);\n",
              "    }\n",
              "    20% {\n",
              "      border-color: transparent;\n",
              "      border-left-color: var(--fill-color);\n",
              "      border-top-color: var(--fill-color);\n",
              "    }\n",
              "    30% {\n",
              "      border-color: transparent;\n",
              "      border-left-color: var(--fill-color);\n",
              "      border-top-color: var(--fill-color);\n",
              "      border-right-color: var(--fill-color);\n",
              "    }\n",
              "    40% {\n",
              "      border-color: transparent;\n",
              "      border-right-color: var(--fill-color);\n",
              "      border-top-color: var(--fill-color);\n",
              "    }\n",
              "    60% {\n",
              "      border-color: transparent;\n",
              "      border-right-color: var(--fill-color);\n",
              "    }\n",
              "    80% {\n",
              "      border-color: transparent;\n",
              "      border-right-color: var(--fill-color);\n",
              "      border-bottom-color: var(--fill-color);\n",
              "    }\n",
              "    90% {\n",
              "      border-color: transparent;\n",
              "      border-bottom-color: var(--fill-color);\n",
              "    }\n",
              "  }\n",
              "</style>\n",
              "\n",
              "      <script>\n",
              "        async function quickchart(key) {\n",
              "          const quickchartButtonEl =\n",
              "            document.querySelector('#' + key + ' button');\n",
              "          quickchartButtonEl.disabled = true;  // To prevent multiple clicks.\n",
              "          quickchartButtonEl.classList.add('colab-df-spinner');\n",
              "          try {\n",
              "            const charts = await google.colab.kernel.invokeFunction(\n",
              "                'suggestCharts', [key], {});\n",
              "          } catch (error) {\n",
              "            console.error('Error during call to suggestCharts:', error);\n",
              "          }\n",
              "          quickchartButtonEl.classList.remove('colab-df-spinner');\n",
              "          quickchartButtonEl.classList.add('colab-df-quickchart-complete');\n",
              "        }\n",
              "        (() => {\n",
              "          let quickchartButtonEl =\n",
              "            document.querySelector('#df-efdd2433-1093-4aea-811c-3ea29c126655 button');\n",
              "          quickchartButtonEl.style.display =\n",
              "            google.colab.kernel.accessAllowed ? 'block' : 'none';\n",
              "        })();\n",
              "      </script>\n",
              "    </div>\n",
              "\n",
              "    </div>\n",
              "  </div>\n"
            ],
            "application/vnd.google.colaboratory.intrinsic+json": {
              "type": "dataframe",
              "variable_name": "df",
              "summary": "{\n  \"name\": \"df\",\n  \"rows\": 85907,\n  \"fields\": [\n    {\n      \"column\": \"Unique id\",\n      \"properties\": {\n        \"dtype\": \"string\",\n        \"num_unique_values\": 85907,\n        \"samples\": [\n          \"fc42f862-7521-472c-b569-8bce866ebe8c\",\n          \"a7bb8900-a120-430f-b573-55ed6c16faab\",\n          \"b697f809-0d10-4839-9ccd-152ab6a179f4\"\n        ],\n        \"semantic_type\": \"\",\n        \"description\": \"\"\n      }\n    },\n    {\n      \"column\": \"channel_name\",\n      \"properties\": {\n        \"dtype\": \"category\",\n        \"num_unique_values\": 3,\n        \"samples\": [\n          \"Outcall\",\n          \"Inbound\",\n          \"Email\"\n        ],\n        \"semantic_type\": \"\",\n        \"description\": \"\"\n      }\n    },\n    {\n      \"column\": \"category\",\n      \"properties\": {\n        \"dtype\": \"category\",\n        \"num_unique_values\": 12,\n        \"samples\": [\n          \"Others\",\n          \"Onboarding related\",\n          \"Product Queries\"\n        ],\n        \"semantic_type\": \"\",\n        \"description\": \"\"\n      }\n    },\n    {\n      \"column\": \"Sub-category\",\n      \"properties\": {\n        \"dtype\": \"category\",\n        \"num_unique_values\": 57,\n        \"samples\": [\n          \"Life Insurance\",\n          \"Fraudulent User\",\n          \"Card/EMI\"\n        ],\n        \"semantic_type\": \"\",\n        \"description\": \"\"\n      }\n    },\n    {\n      \"column\": \"Customer Remarks\",\n      \"properties\": {\n        \"dtype\": \"category\",\n        \"num_unique_values\": 18232,\n        \"samples\": [\n          \"Solv immmideately\",\n          \"She listen my issue carefully and resolve me in wonderful way... ????\",\n          \"Its so broken, hard to write anything constructive...\"\n        ],\n        \"semantic_type\": \"\",\n        \"description\": \"\"\n      }\n    },\n    {\n      \"column\": \"Order_id\",\n      \"properties\": {\n        \"dtype\": \"string\",\n        \"num_unique_values\": 67675,\n        \"samples\": [\n          \"414c0688-adaf-4123-b342-e8bd2c050638\",\n          \"110cba2e-b988-40b8-9967-716c8d6e7a71\",\n          \"0058ad82-75ed-4253-821b-86553937658b\"\n        ],\n        \"semantic_type\": \"\",\n        \"description\": \"\"\n      }\n    },\n    {\n      \"column\": \"order_date_time\",\n      \"properties\": {\n        \"dtype\": \"date\",\n        \"min\": \"2022-01-16 13:15:00\",\n        \"max\": \"2023-12-08 23:36:00\",\n        \"num_unique_values\": 13766,\n        \"samples\": [\n          \"2023-06-27 08:27:00\",\n          \"2023-08-09 06:19:00\",\n          \"2023-07-28 19:02:00\"\n        ],\n        \"semantic_type\": \"\",\n        \"description\": \"\"\n      }\n    },\n    {\n      \"column\": \"Issue_reported at\",\n      \"properties\": {\n        \"dtype\": \"date\",\n        \"min\": \"2023-01-08 00:00:00\",\n        \"max\": \"2023-12-08 23:59:00\",\n        \"num_unique_values\": 11937,\n        \"samples\": [\n          \"2023-04-08 06:06:00\",\n          \"2023-12-08 02:48:00\",\n          \"2023-04-08 14:23:00\"\n        ],\n        \"semantic_type\": \"\",\n        \"description\": \"\"\n      }\n    },\n    {\n      \"column\": \"issue_responded\",\n      \"properties\": {\n        \"dtype\": \"date\",\n        \"min\": \"2023-01-08 00:00:00\",\n        \"max\": \"2023-12-08 23:59:00\",\n        \"num_unique_values\": 12032,\n        \"samples\": [\n          \"2023-06-08 10:12:00\",\n          \"2023-12-08 09:49:00\",\n          \"2023-06-08 19:18:00\"\n        ],\n        \"semantic_type\": \"\",\n        \"description\": \"\"\n      }\n    },\n    {\n      \"column\": \"Survey_response_Date\",\n      \"properties\": {\n        \"dtype\": \"date\",\n        \"min\": \"2023-08-01 00:00:00\",\n        \"max\": \"2023-08-31 00:00:00\",\n        \"num_unique_values\": 31,\n        \"samples\": [\n          \"2023-08-28 00:00:00\",\n          \"2023-08-16 00:00:00\",\n          \"2023-08-24 00:00:00\"\n        ],\n        \"semantic_type\": \"\",\n        \"description\": \"\"\n      }\n    },\n    {\n      \"column\": \"Customer_City\",\n      \"properties\": {\n        \"dtype\": \"category\",\n        \"num_unique_values\": 1782,\n        \"samples\": [\n          \"FEROZEPUR JHIRKA\",\n          \"NAMRUP\",\n          \"MUZAFFARPUR\"\n        ],\n        \"semantic_type\": \"\",\n        \"description\": \"\"\n      }\n    },\n    {\n      \"column\": \"Product_category\",\n      \"properties\": {\n        \"dtype\": \"category\",\n        \"num_unique_values\": 9,\n        \"samples\": [\n          \"GiftCard\",\n          \"Electronics\",\n          \"Home\"\n        ],\n        \"semantic_type\": \"\",\n        \"description\": \"\"\n      }\n    },\n    {\n      \"column\": \"Item_price\",\n      \"properties\": {\n        \"dtype\": \"number\",\n        \"std\": 6037.903896870598,\n        \"min\": 0.0,\n        \"max\": 164999.0,\n        \"num_unique_values\": 2789,\n        \"samples\": [\n          764.0,\n          1055.0,\n          2386.0\n        ],\n        \"semantic_type\": \"\",\n        \"description\": \"\"\n      }\n    },\n    {\n      \"column\": \"Agent_name\",\n      \"properties\": {\n        \"dtype\": \"category\",\n        \"num_unique_values\": 1371,\n        \"samples\": [\n          \"Kimberly Morris\",\n          \"Russell Ramsey\",\n          \"Joshua Foster\"\n        ],\n        \"semantic_type\": \"\",\n        \"description\": \"\"\n      }\n    },\n    {\n      \"column\": \"Supervisor\",\n      \"properties\": {\n        \"dtype\": \"category\",\n        \"num_unique_values\": 40,\n        \"samples\": [\n          \"Madison Kim\",\n          \"Mia Patel\",\n          \"Logan Lee\"\n        ],\n        \"semantic_type\": \"\",\n        \"description\": \"\"\n      }\n    },\n    {\n      \"column\": \"Manager\",\n      \"properties\": {\n        \"dtype\": \"category\",\n        \"num_unique_values\": 6,\n        \"samples\": [\n          \"Jennifer Nguyen\",\n          \"Michael Lee\",\n          \"Emily Chen\"\n        ],\n        \"semantic_type\": \"\",\n        \"description\": \"\"\n      }\n    },\n    {\n      \"column\": \"Tenure Bucket\",\n      \"properties\": {\n        \"dtype\": \"category\",\n        \"num_unique_values\": 5,\n        \"samples\": [\n          \">90\",\n          \"61-90\",\n          \"0-30\"\n        ],\n        \"semantic_type\": \"\",\n        \"description\": \"\"\n      }\n    },\n    {\n      \"column\": \"Agent Shift\",\n      \"properties\": {\n        \"dtype\": \"category\",\n        \"num_unique_values\": 5,\n        \"samples\": [\n          \"Evening\",\n          \"Night\",\n          \"Split\"\n        ],\n        \"semantic_type\": \"\",\n        \"description\": \"\"\n      }\n    },\n    {\n      \"column\": \"CSAT Score\",\n      \"properties\": {\n        \"dtype\": \"number\",\n        \"std\": 1,\n        \"min\": 1,\n        \"max\": 5,\n        \"num_unique_values\": 5,\n        \"samples\": [\n          4,\n          2,\n          1\n        ],\n        \"semantic_type\": \"\",\n        \"description\": \"\"\n      }\n    },\n    {\n      \"column\": \"response_time\",\n      \"properties\": {\n        \"dtype\": \"number\",\n        \"std\": 637377.8938145142,\n        \"min\": 0.0,\n        \"max\": 10625820.0,\n        \"num_unique_values\": 2843,\n        \"samples\": [\n          2654520.0,\n          2614440.0,\n          2558280.0\n        ],\n        \"semantic_type\": \"\",\n        \"description\": \"\"\n      }\n    }\n  ]\n}"
            }
          },
          "metadata": {},
          "execution_count": 12
        }
      ]
    },
    {
      "cell_type": "markdown",
      "source": [
        "### Dataset Rows & Columns count"
      ],
      "metadata": {
        "id": "7hBIi_osiCS2"
      }
    },
    {
      "cell_type": "code",
      "source": [
        "# Dataset Rows & Columns count\n",
        "print(f\"Number of rows: {df.shape[0]}\")\n",
        "print(f\"Number of columns: {df.shape[1]}\")"
      ],
      "metadata": {
        "id": "Kllu7SJgmLij",
        "colab": {
          "base_uri": "https://localhost:8080/"
        },
        "outputId": "ea6d57bd-31c0-4cd3-d04a-5bf34b15ece4"
      },
      "execution_count": 13,
      "outputs": [
        {
          "output_type": "stream",
          "name": "stdout",
          "text": [
            "Number of rows: 85907\n",
            "Number of columns: 20\n"
          ]
        }
      ]
    },
    {
      "cell_type": "markdown",
      "source": [
        "### Dataset Information"
      ],
      "metadata": {
        "id": "JlHwYmJAmNHm"
      }
    },
    {
      "cell_type": "code",
      "source": [
        "# Dataset Info\n",
        "df.info()"
      ],
      "metadata": {
        "id": "e9hRXRi6meOf",
        "colab": {
          "base_uri": "https://localhost:8080/"
        },
        "outputId": "fc782fbc-5a86-4711-9268-d35f39d0eb49"
      },
      "execution_count": 14,
      "outputs": [
        {
          "output_type": "stream",
          "name": "stdout",
          "text": [
            "<class 'pandas.core.frame.DataFrame'>\n",
            "RangeIndex: 85907 entries, 0 to 85906\n",
            "Data columns (total 20 columns):\n",
            " #   Column                Non-Null Count  Dtype         \n",
            "---  ------                --------------  -----         \n",
            " 0   Unique id             85907 non-null  object        \n",
            " 1   channel_name          85907 non-null  object        \n",
            " 2   category              85907 non-null  object        \n",
            " 3   Sub-category          85907 non-null  object        \n",
            " 4   Customer Remarks      85907 non-null  object        \n",
            " 5   Order_id              67675 non-null  object        \n",
            " 6   order_date_time       17214 non-null  datetime64[ns]\n",
            " 7   Issue_reported at     31974 non-null  datetime64[ns]\n",
            " 8   issue_responded       31885 non-null  datetime64[ns]\n",
            " 9   Survey_response_Date  85907 non-null  datetime64[ns]\n",
            " 10  Customer_City         17079 non-null  object        \n",
            " 11  Product_category      17196 non-null  object        \n",
            " 12  Item_price            85907 non-null  float64       \n",
            " 13  Agent_name            85907 non-null  object        \n",
            " 14  Supervisor            85907 non-null  object        \n",
            " 15  Manager               85907 non-null  object        \n",
            " 16  Tenure Bucket         85907 non-null  object        \n",
            " 17  Agent Shift           85907 non-null  object        \n",
            " 18  CSAT Score            85907 non-null  int64         \n",
            " 19  response_time         85907 non-null  float64       \n",
            "dtypes: datetime64[ns](4), float64(2), int64(1), object(13)\n",
            "memory usage: 13.1+ MB\n"
          ]
        }
      ]
    },
    {
      "cell_type": "markdown",
      "source": [
        "#### Duplicate Values"
      ],
      "metadata": {
        "id": "35m5QtbWiB9F"
      }
    },
    {
      "cell_type": "code",
      "source": [
        "# Dataset Duplicate Value Count\n",
        "print(f\"Number of duplicate values: {df.duplicated().sum()}\")"
      ],
      "metadata": {
        "id": "1sLdpKYkmox0",
        "colab": {
          "base_uri": "https://localhost:8080/"
        },
        "outputId": "d553a8a3-2c73-4272-e33b-1ce4bb495a47"
      },
      "execution_count": 15,
      "outputs": [
        {
          "output_type": "stream",
          "name": "stdout",
          "text": [
            "Number of duplicate values: 0\n"
          ]
        }
      ]
    },
    {
      "cell_type": "markdown",
      "source": [
        "#### Missing Values/Null Values"
      ],
      "metadata": {
        "id": "PoPl-ycgm1ru"
      }
    },
    {
      "cell_type": "code",
      "source": [
        "# Missing Values/Null Values Count\n",
        "print(df.isnull().sum())"
      ],
      "metadata": {
        "id": "GgHWkxvamxVg",
        "colab": {
          "base_uri": "https://localhost:8080/"
        },
        "outputId": "caafb9a6-b69c-4e18-b7e7-1ab61c90d0fe"
      },
      "execution_count": 16,
      "outputs": [
        {
          "output_type": "stream",
          "name": "stdout",
          "text": [
            "Unique id                   0\n",
            "channel_name                0\n",
            "category                    0\n",
            "Sub-category                0\n",
            "Customer Remarks            0\n",
            "Order_id                18232\n",
            "order_date_time         68693\n",
            "Issue_reported at       53933\n",
            "issue_responded         54022\n",
            "Survey_response_Date        0\n",
            "Customer_City           68828\n",
            "Product_category        68711\n",
            "Item_price                  0\n",
            "Agent_name                  0\n",
            "Supervisor                  0\n",
            "Manager                     0\n",
            "Tenure Bucket               0\n",
            "Agent Shift                 0\n",
            "CSAT Score                  0\n",
            "response_time               0\n",
            "dtype: int64\n"
          ]
        }
      ]
    },
    {
      "cell_type": "code",
      "source": [
        "# Visualizing the missing values"
      ],
      "metadata": {
        "id": "3q5wnI3om9sJ"
      },
      "execution_count": 17,
      "outputs": []
    },
    {
      "cell_type": "markdown",
      "source": [
        "### What did you know about your dataset?"
      ],
      "metadata": {
        "id": "H0kj-8xxnORC"
      }
    },
    {
      "cell_type": "markdown",
      "source": [
        "The dataset captures customer interactions,feedback and satisfaction scores across variuos support channels of flipkart. It includes details such as customer service channel issue reported ,order information and customer feedback .It contains both categorical and numerical data."
      ],
      "metadata": {
        "id": "gfoNAAC-nUe_"
      }
    },
    {
      "cell_type": "markdown",
      "source": [
        "## ***2. Understanding Your Variables***"
      ],
      "metadata": {
        "id": "nA9Y7ga8ng1Z"
      }
    },
    {
      "cell_type": "code",
      "source": [
        "# Dataset Columns\n",
        "df.columns.tolist()"
      ],
      "metadata": {
        "id": "j7xfkqrt5Ag5",
        "colab": {
          "base_uri": "https://localhost:8080/"
        },
        "outputId": "6692e36a-f2fb-4b70-f2f7-416a5ec76ab4"
      },
      "execution_count": 18,
      "outputs": [
        {
          "output_type": "execute_result",
          "data": {
            "text/plain": [
              "['Unique id',\n",
              " 'channel_name',\n",
              " 'category',\n",
              " 'Sub-category',\n",
              " 'Customer Remarks',\n",
              " 'Order_id',\n",
              " 'order_date_time',\n",
              " 'Issue_reported at',\n",
              " 'issue_responded',\n",
              " 'Survey_response_Date',\n",
              " 'Customer_City',\n",
              " 'Product_category',\n",
              " 'Item_price',\n",
              " 'Agent_name',\n",
              " 'Supervisor',\n",
              " 'Manager',\n",
              " 'Tenure Bucket',\n",
              " 'Agent Shift',\n",
              " 'CSAT Score',\n",
              " 'response_time']"
            ]
          },
          "metadata": {},
          "execution_count": 18
        }
      ]
    },
    {
      "cell_type": "code",
      "source": [
        "# Dataset Describe\n",
        "df.describe()"
      ],
      "metadata": {
        "id": "DnOaZdaE5Q5t",
        "colab": {
          "base_uri": "https://localhost:8080/",
          "height": 317
        },
        "outputId": "14d0ed25-08f9-4268-8dac-bb07941ac36b"
      },
      "execution_count": 19,
      "outputs": [
        {
          "output_type": "execute_result",
          "data": {
            "text/plain": [
              "                     order_date_time              Issue_reported at  \\\n",
              "count                          17214                          31974   \n",
              "mean   2023-07-28 15:49:45.820843520  2023-07-03 05:04:46.427097344   \n",
              "min              2022-01-16 13:15:00            2023-01-08 00:00:00   \n",
              "25%              2023-07-27 22:49:15            2023-04-08 13:34:00   \n",
              "50%              2023-08-04 22:16:30            2023-07-08 16:40:00   \n",
              "75%              2023-08-10 07:30:15            2023-10-08 11:19:00   \n",
              "max              2023-12-08 23:36:00            2023-12-08 23:59:00   \n",
              "std                              NaN                            NaN   \n",
              "\n",
              "                     issue_responded           Survey_response_Date  \\\n",
              "count                          31885                          85907   \n",
              "mean   2023-07-03 11:42:31.621138432  2023-08-16 10:18:31.760392192   \n",
              "min              2023-01-08 00:00:00            2023-08-01 00:00:00   \n",
              "25%              2023-04-08 13:39:00            2023-08-09 00:00:00   \n",
              "50%              2023-07-08 16:52:00            2023-08-16 00:00:00   \n",
              "75%              2023-10-08 11:21:00            2023-08-24 00:00:00   \n",
              "max              2023-12-08 23:59:00            2023-08-31 00:00:00   \n",
              "std                              NaN                            NaN   \n",
              "\n",
              "          Item_price    CSAT Score  response_time  \n",
              "count   85907.000000  85907.000000   8.590700e+04  \n",
              "mean     1916.695624      4.242157   1.028990e+05  \n",
              "min         0.000000      1.000000   0.000000e+00  \n",
              "25%       979.000000      4.000000   3.600000e+02  \n",
              "50%       979.000000      5.000000   3.600000e+02  \n",
              "75%       979.000000      5.000000   3.600000e+02  \n",
              "max    164999.000000      5.000000   1.062582e+07  \n",
              "std      6037.903897      1.378903   6.373779e+05  "
            ],
            "text/html": [
              "\n",
              "  <div id=\"df-fa754479-f0c0-4145-b09f-efb556a07431\" class=\"colab-df-container\">\n",
              "    <div>\n",
              "<style scoped>\n",
              "    .dataframe tbody tr th:only-of-type {\n",
              "        vertical-align: middle;\n",
              "    }\n",
              "\n",
              "    .dataframe tbody tr th {\n",
              "        vertical-align: top;\n",
              "    }\n",
              "\n",
              "    .dataframe thead th {\n",
              "        text-align: right;\n",
              "    }\n",
              "</style>\n",
              "<table border=\"1\" class=\"dataframe\">\n",
              "  <thead>\n",
              "    <tr style=\"text-align: right;\">\n",
              "      <th></th>\n",
              "      <th>order_date_time</th>\n",
              "      <th>Issue_reported at</th>\n",
              "      <th>issue_responded</th>\n",
              "      <th>Survey_response_Date</th>\n",
              "      <th>Item_price</th>\n",
              "      <th>CSAT Score</th>\n",
              "      <th>response_time</th>\n",
              "    </tr>\n",
              "  </thead>\n",
              "  <tbody>\n",
              "    <tr>\n",
              "      <th>count</th>\n",
              "      <td>17214</td>\n",
              "      <td>31974</td>\n",
              "      <td>31885</td>\n",
              "      <td>85907</td>\n",
              "      <td>85907.000000</td>\n",
              "      <td>85907.000000</td>\n",
              "      <td>8.590700e+04</td>\n",
              "    </tr>\n",
              "    <tr>\n",
              "      <th>mean</th>\n",
              "      <td>2023-07-28 15:49:45.820843520</td>\n",
              "      <td>2023-07-03 05:04:46.427097344</td>\n",
              "      <td>2023-07-03 11:42:31.621138432</td>\n",
              "      <td>2023-08-16 10:18:31.760392192</td>\n",
              "      <td>1916.695624</td>\n",
              "      <td>4.242157</td>\n",
              "      <td>1.028990e+05</td>\n",
              "    </tr>\n",
              "    <tr>\n",
              "      <th>min</th>\n",
              "      <td>2022-01-16 13:15:00</td>\n",
              "      <td>2023-01-08 00:00:00</td>\n",
              "      <td>2023-01-08 00:00:00</td>\n",
              "      <td>2023-08-01 00:00:00</td>\n",
              "      <td>0.000000</td>\n",
              "      <td>1.000000</td>\n",
              "      <td>0.000000e+00</td>\n",
              "    </tr>\n",
              "    <tr>\n",
              "      <th>25%</th>\n",
              "      <td>2023-07-27 22:49:15</td>\n",
              "      <td>2023-04-08 13:34:00</td>\n",
              "      <td>2023-04-08 13:39:00</td>\n",
              "      <td>2023-08-09 00:00:00</td>\n",
              "      <td>979.000000</td>\n",
              "      <td>4.000000</td>\n",
              "      <td>3.600000e+02</td>\n",
              "    </tr>\n",
              "    <tr>\n",
              "      <th>50%</th>\n",
              "      <td>2023-08-04 22:16:30</td>\n",
              "      <td>2023-07-08 16:40:00</td>\n",
              "      <td>2023-07-08 16:52:00</td>\n",
              "      <td>2023-08-16 00:00:00</td>\n",
              "      <td>979.000000</td>\n",
              "      <td>5.000000</td>\n",
              "      <td>3.600000e+02</td>\n",
              "    </tr>\n",
              "    <tr>\n",
              "      <th>75%</th>\n",
              "      <td>2023-08-10 07:30:15</td>\n",
              "      <td>2023-10-08 11:19:00</td>\n",
              "      <td>2023-10-08 11:21:00</td>\n",
              "      <td>2023-08-24 00:00:00</td>\n",
              "      <td>979.000000</td>\n",
              "      <td>5.000000</td>\n",
              "      <td>3.600000e+02</td>\n",
              "    </tr>\n",
              "    <tr>\n",
              "      <th>max</th>\n",
              "      <td>2023-12-08 23:36:00</td>\n",
              "      <td>2023-12-08 23:59:00</td>\n",
              "      <td>2023-12-08 23:59:00</td>\n",
              "      <td>2023-08-31 00:00:00</td>\n",
              "      <td>164999.000000</td>\n",
              "      <td>5.000000</td>\n",
              "      <td>1.062582e+07</td>\n",
              "    </tr>\n",
              "    <tr>\n",
              "      <th>std</th>\n",
              "      <td>NaN</td>\n",
              "      <td>NaN</td>\n",
              "      <td>NaN</td>\n",
              "      <td>NaN</td>\n",
              "      <td>6037.903897</td>\n",
              "      <td>1.378903</td>\n",
              "      <td>6.373779e+05</td>\n",
              "    </tr>\n",
              "  </tbody>\n",
              "</table>\n",
              "</div>\n",
              "    <div class=\"colab-df-buttons\">\n",
              "\n",
              "  <div class=\"colab-df-container\">\n",
              "    <button class=\"colab-df-convert\" onclick=\"convertToInteractive('df-fa754479-f0c0-4145-b09f-efb556a07431')\"\n",
              "            title=\"Convert this dataframe to an interactive table.\"\n",
              "            style=\"display:none;\">\n",
              "\n",
              "  <svg xmlns=\"http://www.w3.org/2000/svg\" height=\"24px\" viewBox=\"0 -960 960 960\">\n",
              "    <path d=\"M120-120v-720h720v720H120Zm60-500h600v-160H180v160Zm220 220h160v-160H400v160Zm0 220h160v-160H400v160ZM180-400h160v-160H180v160Zm440 0h160v-160H620v160ZM180-180h160v-160H180v160Zm440 0h160v-160H620v160Z\"/>\n",
              "  </svg>\n",
              "    </button>\n",
              "\n",
              "  <style>\n",
              "    .colab-df-container {\n",
              "      display:flex;\n",
              "      gap: 12px;\n",
              "    }\n",
              "\n",
              "    .colab-df-convert {\n",
              "      background-color: #E8F0FE;\n",
              "      border: none;\n",
              "      border-radius: 50%;\n",
              "      cursor: pointer;\n",
              "      display: none;\n",
              "      fill: #1967D2;\n",
              "      height: 32px;\n",
              "      padding: 0 0 0 0;\n",
              "      width: 32px;\n",
              "    }\n",
              "\n",
              "    .colab-df-convert:hover {\n",
              "      background-color: #E2EBFA;\n",
              "      box-shadow: 0px 1px 2px rgba(60, 64, 67, 0.3), 0px 1px 3px 1px rgba(60, 64, 67, 0.15);\n",
              "      fill: #174EA6;\n",
              "    }\n",
              "\n",
              "    .colab-df-buttons div {\n",
              "      margin-bottom: 4px;\n",
              "    }\n",
              "\n",
              "    [theme=dark] .colab-df-convert {\n",
              "      background-color: #3B4455;\n",
              "      fill: #D2E3FC;\n",
              "    }\n",
              "\n",
              "    [theme=dark] .colab-df-convert:hover {\n",
              "      background-color: #434B5C;\n",
              "      box-shadow: 0px 1px 3px 1px rgba(0, 0, 0, 0.15);\n",
              "      filter: drop-shadow(0px 1px 2px rgba(0, 0, 0, 0.3));\n",
              "      fill: #FFFFFF;\n",
              "    }\n",
              "  </style>\n",
              "\n",
              "    <script>\n",
              "      const buttonEl =\n",
              "        document.querySelector('#df-fa754479-f0c0-4145-b09f-efb556a07431 button.colab-df-convert');\n",
              "      buttonEl.style.display =\n",
              "        google.colab.kernel.accessAllowed ? 'block' : 'none';\n",
              "\n",
              "      async function convertToInteractive(key) {\n",
              "        const element = document.querySelector('#df-fa754479-f0c0-4145-b09f-efb556a07431');\n",
              "        const dataTable =\n",
              "          await google.colab.kernel.invokeFunction('convertToInteractive',\n",
              "                                                    [key], {});\n",
              "        if (!dataTable) return;\n",
              "\n",
              "        const docLinkHtml = 'Like what you see? Visit the ' +\n",
              "          '<a target=\"_blank\" href=https://colab.research.google.com/notebooks/data_table.ipynb>data table notebook</a>'\n",
              "          + ' to learn more about interactive tables.';\n",
              "        element.innerHTML = '';\n",
              "        dataTable['output_type'] = 'display_data';\n",
              "        await google.colab.output.renderOutput(dataTable, element);\n",
              "        const docLink = document.createElement('div');\n",
              "        docLink.innerHTML = docLinkHtml;\n",
              "        element.appendChild(docLink);\n",
              "      }\n",
              "    </script>\n",
              "  </div>\n",
              "\n",
              "\n",
              "    <div id=\"df-f5d114be-5289-47d1-91f3-58b3ab77fe57\">\n",
              "      <button class=\"colab-df-quickchart\" onclick=\"quickchart('df-f5d114be-5289-47d1-91f3-58b3ab77fe57')\"\n",
              "                title=\"Suggest charts\"\n",
              "                style=\"display:none;\">\n",
              "\n",
              "<svg xmlns=\"http://www.w3.org/2000/svg\" height=\"24px\"viewBox=\"0 0 24 24\"\n",
              "     width=\"24px\">\n",
              "    <g>\n",
              "        <path d=\"M19 3H5c-1.1 0-2 .9-2 2v14c0 1.1.9 2 2 2h14c1.1 0 2-.9 2-2V5c0-1.1-.9-2-2-2zM9 17H7v-7h2v7zm4 0h-2V7h2v10zm4 0h-2v-4h2v4z\"/>\n",
              "    </g>\n",
              "</svg>\n",
              "      </button>\n",
              "\n",
              "<style>\n",
              "  .colab-df-quickchart {\n",
              "      --bg-color: #E8F0FE;\n",
              "      --fill-color: #1967D2;\n",
              "      --hover-bg-color: #E2EBFA;\n",
              "      --hover-fill-color: #174EA6;\n",
              "      --disabled-fill-color: #AAA;\n",
              "      --disabled-bg-color: #DDD;\n",
              "  }\n",
              "\n",
              "  [theme=dark] .colab-df-quickchart {\n",
              "      --bg-color: #3B4455;\n",
              "      --fill-color: #D2E3FC;\n",
              "      --hover-bg-color: #434B5C;\n",
              "      --hover-fill-color: #FFFFFF;\n",
              "      --disabled-bg-color: #3B4455;\n",
              "      --disabled-fill-color: #666;\n",
              "  }\n",
              "\n",
              "  .colab-df-quickchart {\n",
              "    background-color: var(--bg-color);\n",
              "    border: none;\n",
              "    border-radius: 50%;\n",
              "    cursor: pointer;\n",
              "    display: none;\n",
              "    fill: var(--fill-color);\n",
              "    height: 32px;\n",
              "    padding: 0;\n",
              "    width: 32px;\n",
              "  }\n",
              "\n",
              "  .colab-df-quickchart:hover {\n",
              "    background-color: var(--hover-bg-color);\n",
              "    box-shadow: 0 1px 2px rgba(60, 64, 67, 0.3), 0 1px 3px 1px rgba(60, 64, 67, 0.15);\n",
              "    fill: var(--button-hover-fill-color);\n",
              "  }\n",
              "\n",
              "  .colab-df-quickchart-complete:disabled,\n",
              "  .colab-df-quickchart-complete:disabled:hover {\n",
              "    background-color: var(--disabled-bg-color);\n",
              "    fill: var(--disabled-fill-color);\n",
              "    box-shadow: none;\n",
              "  }\n",
              "\n",
              "  .colab-df-spinner {\n",
              "    border: 2px solid var(--fill-color);\n",
              "    border-color: transparent;\n",
              "    border-bottom-color: var(--fill-color);\n",
              "    animation:\n",
              "      spin 1s steps(1) infinite;\n",
              "  }\n",
              "\n",
              "  @keyframes spin {\n",
              "    0% {\n",
              "      border-color: transparent;\n",
              "      border-bottom-color: var(--fill-color);\n",
              "      border-left-color: var(--fill-color);\n",
              "    }\n",
              "    20% {\n",
              "      border-color: transparent;\n",
              "      border-left-color: var(--fill-color);\n",
              "      border-top-color: var(--fill-color);\n",
              "    }\n",
              "    30% {\n",
              "      border-color: transparent;\n",
              "      border-left-color: var(--fill-color);\n",
              "      border-top-color: var(--fill-color);\n",
              "      border-right-color: var(--fill-color);\n",
              "    }\n",
              "    40% {\n",
              "      border-color: transparent;\n",
              "      border-right-color: var(--fill-color);\n",
              "      border-top-color: var(--fill-color);\n",
              "    }\n",
              "    60% {\n",
              "      border-color: transparent;\n",
              "      border-right-color: var(--fill-color);\n",
              "    }\n",
              "    80% {\n",
              "      border-color: transparent;\n",
              "      border-right-color: var(--fill-color);\n",
              "      border-bottom-color: var(--fill-color);\n",
              "    }\n",
              "    90% {\n",
              "      border-color: transparent;\n",
              "      border-bottom-color: var(--fill-color);\n",
              "    }\n",
              "  }\n",
              "</style>\n",
              "\n",
              "      <script>\n",
              "        async function quickchart(key) {\n",
              "          const quickchartButtonEl =\n",
              "            document.querySelector('#' + key + ' button');\n",
              "          quickchartButtonEl.disabled = true;  // To prevent multiple clicks.\n",
              "          quickchartButtonEl.classList.add('colab-df-spinner');\n",
              "          try {\n",
              "            const charts = await google.colab.kernel.invokeFunction(\n",
              "                'suggestCharts', [key], {});\n",
              "          } catch (error) {\n",
              "            console.error('Error during call to suggestCharts:', error);\n",
              "          }\n",
              "          quickchartButtonEl.classList.remove('colab-df-spinner');\n",
              "          quickchartButtonEl.classList.add('colab-df-quickchart-complete');\n",
              "        }\n",
              "        (() => {\n",
              "          let quickchartButtonEl =\n",
              "            document.querySelector('#df-f5d114be-5289-47d1-91f3-58b3ab77fe57 button');\n",
              "          quickchartButtonEl.style.display =\n",
              "            google.colab.kernel.accessAllowed ? 'block' : 'none';\n",
              "        })();\n",
              "      </script>\n",
              "    </div>\n",
              "\n",
              "    </div>\n",
              "  </div>\n"
            ],
            "application/vnd.google.colaboratory.intrinsic+json": {
              "type": "dataframe",
              "summary": "{\n  \"name\": \"df\",\n  \"rows\": 8,\n  \"fields\": [\n    {\n      \"column\": \"order_date_time\",\n      \"properties\": {\n        \"dtype\": \"date\",\n        \"min\": \"1970-01-01 00:00:00.000017214\",\n        \"max\": \"2023-12-08 23:36:00\",\n        \"num_unique_values\": 7,\n        \"samples\": [\n          \"17214\",\n          \"2023-07-28 15:49:45.820843520\",\n          \"2023-08-10 07:30:15\"\n        ],\n        \"semantic_type\": \"\",\n        \"description\": \"\"\n      }\n    },\n    {\n      \"column\": \"Issue_reported at\",\n      \"properties\": {\n        \"dtype\": \"date\",\n        \"min\": \"1970-01-01 00:00:00.000031974\",\n        \"max\": \"2023-12-08 23:59:00\",\n        \"num_unique_values\": 7,\n        \"samples\": [\n          \"31974\",\n          \"2023-07-03 05:04:46.427097344\",\n          \"2023-10-08 11:19:00\"\n        ],\n        \"semantic_type\": \"\",\n        \"description\": \"\"\n      }\n    },\n    {\n      \"column\": \"issue_responded\",\n      \"properties\": {\n        \"dtype\": \"date\",\n        \"min\": \"1970-01-01 00:00:00.000031885\",\n        \"max\": \"2023-12-08 23:59:00\",\n        \"num_unique_values\": 7,\n        \"samples\": [\n          \"31885\",\n          \"2023-07-03 11:42:31.621138432\",\n          \"2023-10-08 11:21:00\"\n        ],\n        \"semantic_type\": \"\",\n        \"description\": \"\"\n      }\n    },\n    {\n      \"column\": \"Survey_response_Date\",\n      \"properties\": {\n        \"dtype\": \"date\",\n        \"min\": \"1970-01-01 00:00:00.000085907\",\n        \"max\": \"2023-08-31 00:00:00\",\n        \"num_unique_values\": 7,\n        \"samples\": [\n          \"85907\",\n          \"2023-08-16 10:18:31.760392192\",\n          \"2023-08-24 00:00:00\"\n        ],\n        \"semantic_type\": \"\",\n        \"description\": \"\"\n      }\n    },\n    {\n      \"column\": \"Item_price\",\n      \"properties\": {\n        \"dtype\": \"number\",\n        \"std\": 61039.14445337612,\n        \"min\": 0.0,\n        \"max\": 164999.0,\n        \"num_unique_values\": 6,\n        \"samples\": [\n          85907.0,\n          1916.6956243379468,\n          6037.903896870598\n        ],\n        \"semantic_type\": \"\",\n        \"description\": \"\"\n      }\n    },\n    {\n      \"column\": \"CSAT Score\",\n      \"properties\": {\n        \"dtype\": \"number\",\n        \"std\": 30371.417109350994,\n        \"min\": 1.0,\n        \"max\": 85907.0,\n        \"num_unique_values\": 6,\n        \"samples\": [\n          85907.0,\n          4.242157216524847,\n          1.3789030546994807\n        ],\n        \"semantic_type\": \"\",\n        \"description\": \"\"\n      }\n    },\n    {\n      \"column\": \"response_time\",\n      \"properties\": {\n        \"dtype\": \"number\",\n        \"std\": 3721282.9707750576,\n        \"min\": 0.0,\n        \"max\": 10625820.0,\n        \"num_unique_values\": 6,\n        \"samples\": [\n          85907.0,\n          102898.95584760264,\n          637377.8938145142\n        ],\n        \"semantic_type\": \"\",\n        \"description\": \"\"\n      }\n    }\n  ]\n}"
            }
          },
          "metadata": {},
          "execution_count": 19
        }
      ]
    },
    {
      "cell_type": "markdown",
      "source": [
        "### Check Unique Values for each variable."
      ],
      "metadata": {
        "id": "u3PMJOP6ngxN"
      }
    },
    {
      "cell_type": "code",
      "source": [
        "# Check Unique Values for each variable.\n",
        "df.nunique()"
      ],
      "metadata": {
        "id": "zms12Yq5n-jE",
        "colab": {
          "base_uri": "https://localhost:8080/",
          "height": 711
        },
        "outputId": "7cb4b2c7-0c02-4d15-cb5d-a11b99743f19"
      },
      "execution_count": 20,
      "outputs": [
        {
          "output_type": "execute_result",
          "data": {
            "text/plain": [
              "Unique id               85907\n",
              "channel_name                3\n",
              "category                   12\n",
              "Sub-category               57\n",
              "Customer Remarks        18232\n",
              "Order_id                67675\n",
              "order_date_time         13766\n",
              "Issue_reported at       11937\n",
              "issue_responded         12032\n",
              "Survey_response_Date       31\n",
              "Customer_City            1782\n",
              "Product_category            9\n",
              "Item_price               2789\n",
              "Agent_name               1371\n",
              "Supervisor                 40\n",
              "Manager                     6\n",
              "Tenure Bucket               5\n",
              "Agent Shift                 5\n",
              "CSAT Score                  5\n",
              "response_time            2843\n",
              "dtype: int64"
            ],
            "text/html": [
              "<div>\n",
              "<style scoped>\n",
              "    .dataframe tbody tr th:only-of-type {\n",
              "        vertical-align: middle;\n",
              "    }\n",
              "\n",
              "    .dataframe tbody tr th {\n",
              "        vertical-align: top;\n",
              "    }\n",
              "\n",
              "    .dataframe thead th {\n",
              "        text-align: right;\n",
              "    }\n",
              "</style>\n",
              "<table border=\"1\" class=\"dataframe\">\n",
              "  <thead>\n",
              "    <tr style=\"text-align: right;\">\n",
              "      <th></th>\n",
              "      <th>0</th>\n",
              "    </tr>\n",
              "  </thead>\n",
              "  <tbody>\n",
              "    <tr>\n",
              "      <th>Unique id</th>\n",
              "      <td>85907</td>\n",
              "    </tr>\n",
              "    <tr>\n",
              "      <th>channel_name</th>\n",
              "      <td>3</td>\n",
              "    </tr>\n",
              "    <tr>\n",
              "      <th>category</th>\n",
              "      <td>12</td>\n",
              "    </tr>\n",
              "    <tr>\n",
              "      <th>Sub-category</th>\n",
              "      <td>57</td>\n",
              "    </tr>\n",
              "    <tr>\n",
              "      <th>Customer Remarks</th>\n",
              "      <td>18232</td>\n",
              "    </tr>\n",
              "    <tr>\n",
              "      <th>Order_id</th>\n",
              "      <td>67675</td>\n",
              "    </tr>\n",
              "    <tr>\n",
              "      <th>order_date_time</th>\n",
              "      <td>13766</td>\n",
              "    </tr>\n",
              "    <tr>\n",
              "      <th>Issue_reported at</th>\n",
              "      <td>11937</td>\n",
              "    </tr>\n",
              "    <tr>\n",
              "      <th>issue_responded</th>\n",
              "      <td>12032</td>\n",
              "    </tr>\n",
              "    <tr>\n",
              "      <th>Survey_response_Date</th>\n",
              "      <td>31</td>\n",
              "    </tr>\n",
              "    <tr>\n",
              "      <th>Customer_City</th>\n",
              "      <td>1782</td>\n",
              "    </tr>\n",
              "    <tr>\n",
              "      <th>Product_category</th>\n",
              "      <td>9</td>\n",
              "    </tr>\n",
              "    <tr>\n",
              "      <th>Item_price</th>\n",
              "      <td>2789</td>\n",
              "    </tr>\n",
              "    <tr>\n",
              "      <th>Agent_name</th>\n",
              "      <td>1371</td>\n",
              "    </tr>\n",
              "    <tr>\n",
              "      <th>Supervisor</th>\n",
              "      <td>40</td>\n",
              "    </tr>\n",
              "    <tr>\n",
              "      <th>Manager</th>\n",
              "      <td>6</td>\n",
              "    </tr>\n",
              "    <tr>\n",
              "      <th>Tenure Bucket</th>\n",
              "      <td>5</td>\n",
              "    </tr>\n",
              "    <tr>\n",
              "      <th>Agent Shift</th>\n",
              "      <td>5</td>\n",
              "    </tr>\n",
              "    <tr>\n",
              "      <th>CSAT Score</th>\n",
              "      <td>5</td>\n",
              "    </tr>\n",
              "    <tr>\n",
              "      <th>response_time</th>\n",
              "      <td>2843</td>\n",
              "    </tr>\n",
              "  </tbody>\n",
              "</table>\n",
              "</div><br><label><b>dtype:</b> int64</label>"
            ]
          },
          "metadata": {},
          "execution_count": 20
        }
      ]
    },
    {
      "cell_type": "markdown",
      "source": [
        "## 3. ***Data Wrangling***"
      ],
      "metadata": {
        "id": "dauF4eBmngu3"
      }
    },
    {
      "cell_type": "markdown",
      "source": [
        "### Data Wrangling Code"
      ],
      "metadata": {
        "id": "bKJF3rekwFvQ"
      }
    },
    {
      "cell_type": "code",
      "source": [
        "\n",
        "\n",
        "# Convert date columns to datetime objects\n",
        "df[\"Issue_reported at\"] = pd.to_datetime(df[\"Issue_reported at\"], format='%d/%m/%Y %H:%M')\n",
        "df[\"issue_responded\"] = pd.to_datetime(df[\"issue_responded\"], format='%d/%m/%Y %H:%M')\n",
        "\n",
        "df[\"Issue_reported at {formatted}\"] = df[\"Issue_reported at\"].dt.strftime('%d/%m/%y')\n",
        "df[\"issue_responded {formatted}\"] = df[\"issue_responded\"].dt.strftime('%d/%m/%y')\n",
        "\n",
        "# Calculate response time in seconds\n",
        "df[\"Time difference\"] = (df[\"issue_responded\"] - df[\"Issue_reported at\"]).dt.total_seconds()/60"
      ],
      "metadata": {
        "id": "wk-9a2fpoLcV"
      },
      "execution_count": 21,
      "outputs": []
    },
    {
      "cell_type": "code",
      "source": [
        "#Remove columns that have a lot of null values\n",
        "rem=['order_date_time','Customer Remarks']\n",
        "ectr=[col for col in rem if col in df.columns]\n",
        "if ectr:\n",
        "  df=df.drop(columns=rem)\n",
        "  print('Columns removed successfully')\n",
        "else:\n",
        "  print('No columns to remove')"
      ],
      "metadata": {
        "colab": {
          "base_uri": "https://localhost:8080/"
        },
        "id": "wk7yKEXzmtg5",
        "outputId": "357fff4b-998d-4c4e-fa2f-6c7998305163"
      },
      "execution_count": 22,
      "outputs": [
        {
          "output_type": "stream",
          "name": "stdout",
          "text": [
            "Columns removed successfully\n"
          ]
        }
      ]
    },
    {
      "cell_type": "markdown",
      "source": [
        "### What all manipulations have you done and insights you found?"
      ],
      "metadata": {
        "id": "MSa1f5Uengrz"
      }
    },
    {
      "cell_type": "markdown",
      "source": [
        "Columns having too many null values have been removed which includes customer remarks connected handling time and order date so its been found csat score depends on remaining values .date format has been changed to appropriate format."
      ],
      "metadata": {
        "id": "LbyXE7I1olp8"
      }
    },
    {
      "cell_type": "markdown",
      "source": [
        "## ***4. Data Vizualization, Storytelling & Experimenting with charts : Understand the relationships between variables***"
      ],
      "metadata": {
        "id": "GF8Ens_Soomf"
      }
    },
    {
      "cell_type": "markdown",
      "source": [
        "#### Chart - 1"
      ],
      "metadata": {
        "id": "0wOQAZs5pc--"
      }
    },
    {
      "cell_type": "code",
      "source": [
        "plt.figure(figsize=(10,5))\n",
        "sns.countplot(x=\"CSAT Score\", data = df , palette = \"viridis\")\n",
        "plt.title(\"Distribution of CSAT Scores\")\n",
        "plt.xlabel('csat score')\n",
        "plt.ylabel('number of responses')\n",
        "plt.show"
      ],
      "metadata": {
        "colab": {
          "base_uri": "https://localhost:8080/",
          "height": 763
        },
        "id": "HGxrd42uqPZv",
        "outputId": "a7977ad6-df0d-45d2-dc69-ab161f00a33f"
      },
      "execution_count": 23,
      "outputs": [
        {
          "output_type": "stream",
          "name": "stderr",
          "text": [
            "/tmp/ipython-input-2972555442.py:2: FutureWarning: \n",
            "\n",
            "Passing `palette` without assigning `hue` is deprecated and will be removed in v0.14.0. Assign the `x` variable to `hue` and set `legend=False` for the same effect.\n",
            "\n",
            "  sns.countplot(x=\"CSAT Score\", data = df , palette = \"viridis\")\n"
          ]
        },
        {
          "output_type": "execute_result",
          "data": {
            "text/plain": [
              "<function matplotlib.pyplot.show(close=None, block=None)>"
            ],
            "text/html": [
              "<div style=\"max-width:800px; border: 1px solid var(--colab-border-color);\"><style>\n",
              "      pre.function-repr-contents {\n",
              "        overflow-x: auto;\n",
              "        padding: 8px 12px;\n",
              "        max-height: 500px;\n",
              "      }\n",
              "\n",
              "      pre.function-repr-contents.function-repr-contents-collapsed {\n",
              "        cursor: pointer;\n",
              "        max-height: 100px;\n",
              "      }\n",
              "    </style>\n",
              "    <pre style=\"white-space: initial; background:\n",
              "         var(--colab-secondary-surface-color); padding: 8px 12px;\n",
              "         border-bottom: 1px solid var(--colab-border-color);\"><b>matplotlib.pyplot.show</b><br/>def show(*args, **kwargs) -&gt; None</pre><pre class=\"function-repr-contents function-repr-contents-collapsed\" style=\"\"><a class=\"filepath\" style=\"display:none\" href=\"#\">/usr/local/lib/python3.12/dist-packages/matplotlib/pyplot.py</a>Display all open figures.\n",
              "\n",
              "Parameters\n",
              "----------\n",
              "block : bool, optional\n",
              "    Whether to wait for all figures to be closed before returning.\n",
              "\n",
              "    If `True` block and run the GUI main loop until all figure windows\n",
              "    are closed.\n",
              "\n",
              "    If `False` ensure that all figure windows are displayed and return\n",
              "    immediately.  In this case, you are responsible for ensuring\n",
              "    that the event loop is running to have responsive figures.\n",
              "\n",
              "    Defaults to True in non-interactive mode and to False in interactive\n",
              "    mode (see `.pyplot.isinteractive`).\n",
              "\n",
              "See Also\n",
              "--------\n",
              "ion : Enable interactive mode, which shows / updates the figure after\n",
              "      every plotting command, so that calling ``show()`` is not necessary.\n",
              "ioff : Disable interactive mode.\n",
              "savefig : Save the figure to an image file instead of showing it on screen.\n",
              "\n",
              "Notes\n",
              "-----\n",
              "**Saving figures to file and showing a window at the same time**\n",
              "\n",
              "If you want an image file as well as a user interface window, use\n",
              "`.pyplot.savefig` before `.pyplot.show`. At the end of (a blocking)\n",
              "``show()`` the figure is closed and thus unregistered from pyplot. Calling\n",
              "`.pyplot.savefig` afterwards would save a new and thus empty figure. This\n",
              "limitation of command order does not apply if the show is non-blocking or\n",
              "if you keep a reference to the figure and use `.Figure.savefig`.\n",
              "\n",
              "**Auto-show in jupyter notebooks**\n",
              "\n",
              "The jupyter backends (activated via ``%matplotlib inline``,\n",
              "``%matplotlib notebook``, or ``%matplotlib widget``), call ``show()`` at\n",
              "the end of every cell by default. Thus, you usually don&#x27;t have to call it\n",
              "explicitly there.</pre>\n",
              "      <script>\n",
              "      if (google.colab.kernel.accessAllowed && google.colab.files && google.colab.files.view) {\n",
              "        for (const element of document.querySelectorAll('.filepath')) {\n",
              "          element.style.display = 'block'\n",
              "          element.onclick = (event) => {\n",
              "            event.preventDefault();\n",
              "            event.stopPropagation();\n",
              "            google.colab.files.view(element.textContent, 569);\n",
              "          };\n",
              "        }\n",
              "      }\n",
              "      for (const element of document.querySelectorAll('.function-repr-contents')) {\n",
              "        element.onclick = (event) => {\n",
              "          event.preventDefault();\n",
              "          event.stopPropagation();\n",
              "          element.classList.toggle('function-repr-contents-collapsed');\n",
              "        };\n",
              "      }\n",
              "      </script>\n",
              "      </div>"
            ]
          },
          "metadata": {},
          "execution_count": 23
        },
        {
          "output_type": "display_data",
          "data": {
            "text/plain": [
              "<Figure size 1000x500 with 1 Axes>"
            ],
            "image/png": "[encoded data removed]"
          },
          "metadata": {}
        }
      ]
    },
    {
      "cell_type": "markdown",
      "source": [
        "##### 1. Why did you pick the specific chart?"
      ],
      "metadata": {
        "id": "K5QZ13OEpz2H"
      }
    },
    {
      "cell_type": "markdown",
      "source": [
        "a grouped bar chart allows comparison of csat scores accross different channel"
      ],
      "metadata": {
        "id": "XESiWehPqBRc"
      }
    },
    {
      "cell_type": "markdown",
      "source": [
        "##### 2. What is/are the insight(s) found from the chart?"
      ],
      "metadata": {
        "id": "lQ7QKXXCp7Bj"
      }
    },
    {
      "cell_type": "markdown",
      "source": [
        "certain channel like email have higher satisfaction scores compared to others like phone indicating varying effectiveness accross channels"
      ],
      "metadata": {
        "id": "C_j1G7yiqdRP"
      }
    },
    {
      "cell_type": "markdown",
      "source": [
        "##### 3. Will the gained insights help creating a positive business impact?\n",
        "Are there any insights that lead to negative growth? Justify with specific reason."
      ],
      "metadata": {
        "id": "448CDAPjqfQr"
      }
    },
    {
      "cell_type": "markdown",
      "source": [
        "identifying underperforming channel can guide resources allocation and training to improve customer satisfaction"
      ],
      "metadata": {
        "id": "3cspy4FjqxJW"
      }
    },
    {
      "cell_type": "markdown",
      "source": [
        "#### Chart - 2"
      ],
      "metadata": {
        "id": "KSlN3yHqYklG"
      }
    },
    {
      "cell_type": "code",
      "source": [
        "plt.figure(figsize = (12,6))\n",
        "plt.subplot(1,2,2)\n",
        "sns.boxplot(x = \"Agent Shift\", y = \"Time difference\" , data = df,palette='Set2')\n",
        "plt.title(\"time difference by agent shift\")\n",
        "plt.xlabel('agent shift')\n",
        "plt.ylabel('time difference')"
      ],
      "metadata": {
        "id": "R4YgtaqtYklH",
        "colab": {
          "base_uri": "https://localhost:8080/",
          "height": 688
        },
        "outputId": "ae685de7-6690-40e6-a933-0cf0779b618b"
      },
      "execution_count": 24,
      "outputs": [
        {
          "output_type": "stream",
          "name": "stderr",
          "text": [
            "/tmp/ipython-input-3795637656.py:3: FutureWarning: \n",
            "\n",
            "Passing `palette` without assigning `hue` is deprecated and will be removed in v0.14.0. Assign the `x` variable to `hue` and set `legend=False` for the same effect.\n",
            "\n",
            "  sns.boxplot(x = \"Agent Shift\", y = \"Time difference\" , data = df,palette='Set2')\n"
          ]
        },
        {
          "output_type": "execute_result",
          "data": {
            "text/plain": [
              "Text(0, 0.5, 'time difference')"
            ]
          },
          "metadata": {},
          "execution_count": 24
        },
        {
          "output_type": "display_data",
          "data": {
            "text/plain": [
              "<Figure size 1200x600 with 1 Axes>"
            ],
            "image/png": "[encoded data removed]"
          },
          "metadata": {}
        }
      ]
    },
    {
      "cell_type": "markdown",
      "source": [
        "##### 1. Why did you pick the specific chart?"
      ],
      "metadata": {
        "id": "t6dVpIINYklI"
      }
    },
    {
      "cell_type": "markdown",
      "source": [
        "The boxplot showing time difference by agent shift provides a visual summory of the distribution of time difference for each shift period it shows variability of data outlier,etc"
      ],
      "metadata": {
        "id": "5aaW0BYyYklI"
      }
    },
    {
      "cell_type": "markdown",
      "source": [
        "##### 2. What is/are the insight(s) found from the chart?"
      ],
      "metadata": {
        "id": "ijmpgYnKYklI"
      }
    },
    {
      "cell_type": "markdown",
      "source": [
        "morning might show a narrower interquartile range and lower median time difference suggesting more consistent and quicker response times"
      ],
      "metadata": {
        "id": "PSx9atu2YklI"
      }
    },
    {
      "cell_type": "markdown",
      "source": [
        "##### 3. Will the gained insights help creating a positive business impact?\n",
        "Are there any insights that lead to negative growth? Justify with specific reason."
      ],
      "metadata": {
        "id": "-JiQyfWJYklI"
      }
    },
    {
      "cell_type": "markdown",
      "source": [
        "yes it can be found that morning are peak productive time from this or more people work in morning"
      ],
      "metadata": {
        "id": "BcBbebzrYklV"
      }
    },
    {
      "cell_type": "markdown",
      "source": [
        "#### Chart - 3"
      ],
      "metadata": {
        "id": "EM7whBJCYoAo"
      }
    },
    {
      "cell_type": "code",
      "source": [
        "#distribution of time pricing\n",
        "plt.figure(figsize=(12,6))\n",
        "sns.histplot(df['Item_price'], kde=True,bins=30,color='green')\n",
        "plt.title('Distribution of Item Prices')\n",
        "plt.xlabel('Item Price')\n",
        "plt.ylabel('Frequency')\n",
        "plt.show()"
      ],
      "metadata": {
        "id": "t6GMdE67YoAp",
        "colab": {
          "base_uri": "https://localhost:8080/",
          "height": 564
        },
        "outputId": "32f03a89-0779-4fc8-8a8e-f8a169849ab9"
      },
      "execution_count": 25,
      "outputs": [
        {
          "output_type": "display_data",
          "data": {
            "text/plain": [
              "<Figure size 1200x600 with 1 Axes>"
            ],
            "image/png": "[encoded data removed]"
          },
          "metadata": {}
        }
      ]
    },
    {
      "cell_type": "markdown",
      "source": [
        "##### 1. Why did you pick the specific chart?"
      ],
      "metadata": {
        "id": "fge-S5ZAYoAp"
      }
    },
    {
      "cell_type": "markdown",
      "source": [
        "To find categorical majority of prices of products\n"
      ],
      "metadata": {
        "id": "5dBItgRVYoAp"
      }
    },
    {
      "cell_type": "markdown",
      "source": [
        "##### 2. What is/are the insight(s) found from the chart?"
      ],
      "metadata": {
        "id": "85gYPyotYoAp"
      }
    },
    {
      "cell_type": "markdown",
      "source": [
        "most products are from less then 25000"
      ],
      "metadata": {
        "id": "4jstXR6OYoAp"
      }
    },
    {
      "cell_type": "markdown",
      "source": [
        "##### 3. Will the gained insights help creating a positive business impact?\n",
        "Are there any insights that lead to negative growth? Justify with specific reason."
      ],
      "metadata": {
        "id": "RoGjAbkUYoAp"
      }
    },
    {
      "cell_type": "markdown",
      "source": [
        "not really"
      ],
      "metadata": {
        "id": "zfJ8IqMcYoAp"
      }
    },
    {
      "cell_type": "markdown",
      "source": [
        "#### Chart - 4"
      ],
      "metadata": {
        "id": "4Of9eVA-YrdM"
      }
    },
    {
      "cell_type": "code",
      "source": [
        "# scatter plot of time difference vs items prices\n",
        "plt.figure(figsize=(12,6))\n",
        "sns.scatterplot(x='Item_price', y='Time difference', data=df,hue='CSAT Score',palette='viridis')\n",
        "plt.title('Time Difference vs Item Price')\n",
        "plt.xlabel('Item Price')\n",
        "plt.ylabel('Time Difference')\n",
        "plt.legend(title='CSAT Score')\n",
        "plt.show()"
      ],
      "metadata": {
        "id": "irlUoxc8YrdO",
        "colab": {
          "base_uri": "https://localhost:8080/",
          "height": 564
        },
        "outputId": "da6d4d98-6713-4cbd-afd5-55ebfa966f18"
      },
      "execution_count": 26,
      "outputs": [
        {
          "output_type": "display_data",
          "data": {
            "text/plain": [
              "<Figure size 1200x600 with 1 Axes>"
            ],
            "image/png": "[encoded data removed]"
          },
          "metadata": {}
        }
      ]
    },
    {
      "cell_type": "markdown",
      "source": [
        "##### 1. Why did you pick the specific chart?"
      ],
      "metadata": {
        "id": "iky9q4vBYrdO"
      }
    },
    {
      "cell_type": "markdown",
      "source": [
        "visualizes the relationship between time difference and item price .by using csat scores as the hue it adds a layer of information, showing how customer satisfaction scores vary with these two variables."
      ],
      "metadata": {
        "id": "aJRCwT6DYrdO"
      }
    },
    {
      "cell_type": "markdown",
      "source": [
        "##### 2. What is/are the insight(s) found from the chart?"
      ],
      "metadata": {
        "id": "F6T5p64dYrdO"
      }
    },
    {
      "cell_type": "markdown",
      "source": [
        "can see if the pattern in customer satisfaction relative to time difference and item price"
      ],
      "metadata": {
        "id": "Xx8WAJvtYrdO"
      }
    },
    {
      "cell_type": "markdown",
      "source": [
        "##### 3. Will the gained insights help creating a positive business impact?\n",
        "Are there any insights that lead to negative growth? Justify with specific reason."
      ],
      "metadata": {
        "id": "y-Ehk30pYrdP"
      }
    },
    {
      "cell_type": "markdown",
      "source": [
        "understand the relationship between response times and item prices can help in identifying areas for improvement"
      ],
      "metadata": {
        "id": "jLNxxz7MYrdP"
      }
    },
    {
      "cell_type": "markdown",
      "source": [
        "#### Chart - 5"
      ],
      "metadata": {
        "id": "bamQiAODYuh1"
      }
    },
    {
      "cell_type": "code",
      "source": [
        "#count the occurences of each channel type\n",
        "channel_counts = df['channel_name'].value_counts()\n",
        "#plot pie chart\n",
        "plt.figure(figsize=(8,8))\n",
        "plt.pie(channel_counts, labels=channel_counts.index, autopct='%1.1f%%', colors=sns.color_palette('pastel'))\n",
        "plt.title('Distribution of Channel Types')\n",
        "plt.show()"
      ],
      "metadata": {
        "id": "TIJwrbroYuh3",
        "colab": {
          "base_uri": "https://localhost:8080/",
          "height": 675
        },
        "outputId": "b7e660f3-759c-47ac-bda3-5322df56f526"
      },
      "execution_count": 27,
      "outputs": [
        {
          "output_type": "display_data",
          "data": {
            "text/plain": [
              "<Figure size 800x800 with 1 Axes>"
            ],
            "image/png": "[encoded data removed]"
          },
          "metadata": {}
        }
      ]
    },
    {
      "cell_type": "markdown",
      "source": [
        "##### 1. Why did you pick the specific chart?"
      ],
      "metadata": {
        "id": "QHF8YVU7Yuh3"
      }
    },
    {
      "cell_type": "markdown",
      "source": [
        "pie chart provides a clear visual representation of the distribution of different customers service channel in the dataset"
      ],
      "metadata": {
        "id": "dcxuIMRPYuh3"
      }
    },
    {
      "cell_type": "markdown",
      "source": [
        "##### 2. What is/are the insight(s) found from the chart?"
      ],
      "metadata": {
        "id": "GwzvFGzlYuh3"
      }
    },
    {
      "cell_type": "markdown",
      "source": [
        "it helps  to understand which channel are most and least used by customers that is inbound"
      ],
      "metadata": {
        "id": "uyqkiB8YYuh3"
      }
    },
    {
      "cell_type": "markdown",
      "source": [
        "##### 3. Will the gained insights help creating a positive business impact?\n",
        "Are there any insights that lead to negative growth? Justify with specific reason."
      ],
      "metadata": {
        "id": "qYpmQ266Yuh3"
      }
    },
    {
      "cell_type": "markdown",
      "source": [
        "Yes it helps in planning and optimizing customer service operations based on channel usage trends"
      ],
      "metadata": {
        "id": "_WtzZ_hCYuh4"
      }
    },
    {
      "cell_type": "markdown",
      "source": [
        "#### Chart - 6"
      ],
      "metadata": {
        "id": "OH-pJp9IphqM"
      }
    },
    {
      "cell_type": "code",
      "source": [
        "# city count top 10\n",
        "# count the occurence of each city get the top 10\n",
        "city_counts = df['Customer_City'].value_counts().head(10)\n",
        "#plot bar chart\n",
        "plt.figure(figsize=(10,6))\n",
        "sns.barplot(x=city_counts.index, y=city_counts.values, palette='viridis')\n",
        "plt.title('Top 10 Cities with the Most Customers')\n",
        "plt.xlabel('Customer City')\n",
        "plt.ylabel('Number of Interactions')\n",
        "plt.xticks(rotation=45)\n",
        "plt.show()"
      ],
      "metadata": {
        "id": "kuRf4wtuphqN",
        "colab": {
          "base_uri": "https://localhost:8080/",
          "height": 731
        },
        "outputId": "8674d5f3-fdb3-4f46-bcd4-685dd31dba29"
      },
      "execution_count": 28,
      "outputs": [
        {
          "output_type": "stream",
          "name": "stderr",
          "text": [
            "/tmp/ipython-input-231381935.py:6: FutureWarning: \n",
            "\n",
            "Passing `palette` without assigning `hue` is deprecated and will be removed in v0.14.0. Assign the `x` variable to `hue` and set `legend=False` for the same effect.\n",
            "\n",
            "  sns.barplot(x=city_counts.index, y=city_counts.values, palette='viridis')\n"
          ]
        },
        {
          "output_type": "display_data",
          "data": {
            "text/plain": [
              "<Figure size 1000x600 with 1 Axes>"
            ],
            "image/png": "[encoded data removed]"
          },
          "metadata": {}
        }
      ]
    },
    {
      "cell_type": "markdown",
      "source": [
        "##### 1. Why did you pick the specific chart?"
      ],
      "metadata": {
        "id": "bbFf2-_FphqN"
      }
    },
    {
      "cell_type": "markdown",
      "source": [
        "THe bar chart provides a visual representation of the number of interaction or feedback received from the top 10 cities.this helps in understanding the distribution of customer service requests"
      ],
      "metadata": {
        "id": "loh7H2nzphqN"
      }
    },
    {
      "cell_type": "markdown",
      "source": [
        "##### 2. What is/are the insight(s) found from the chart?"
      ],
      "metadata": {
        "id": "_ouA3fa0phqN"
      }
    },
    {
      "cell_type": "markdown",
      "source": [
        "Hyderabad is the city from where most customers support closely folowed by new delhi"
      ],
      "metadata": {
        "id": "VECbqPI7phqN"
      }
    },
    {
      "cell_type": "markdown",
      "source": [
        "##### 3. Will the gained insights help creating a positive business impact?\n",
        "Are there any insights that lead to negative growth? Justify with specific reason."
      ],
      "metadata": {
        "id": "Seke61FWphqN"
      }
    },
    {
      "cell_type": "markdown",
      "source": [
        "yes by finding the cities from where most request are acquired much support would be given there"
      ],
      "metadata": {
        "id": "DW4_bGpfphqN"
      }
    },
    {
      "cell_type": "markdown",
      "source": [
        "#### Chart - 7"
      ],
      "metadata": {
        "id": "PIIx-8_IphqN"
      }
    },
    {
      "cell_type": "code",
      "source": [
        "# agent shift vs csat score\n",
        "plt.figure(figsize=(10,6))\n",
        "df.groupby('Agent Shift')['CSAT Score'].mean().plot(kind='bar',color='red')\n",
        "plt.title('Average CSAT Score by Agent Shift')\n",
        "plt.xlabel('Agent Shift')\n",
        "plt.ylabel('Average CSAT Score')\n",
        "plt.show()\n"
      ],
      "metadata": {
        "id": "lqAIGUfyphqO",
        "colab": {
          "base_uri": "https://localhost:8080/",
          "height": 618
        },
        "outputId": "e802a333-45c3-406d-c20e-59198027e434"
      },
      "execution_count": 29,
      "outputs": [
        {
          "output_type": "display_data",
          "data": {
            "text/plain": [
              "<Figure size 1000x600 with 1 Axes>"
            ],
            "image/png": "[encoded data removed]"
          },
          "metadata": {}
        }
      ]
    },
    {
      "cell_type": "markdown",
      "source": [
        "##### 1. Why did you pick the specific chart?"
      ],
      "metadata": {
        "id": "t27r6nlMphqO"
      }
    },
    {
      "cell_type": "markdown",
      "source": [
        "It helps in comparing how satisfaction varies across different times of the day when different shifts are handling customer querie"
      ],
      "metadata": {
        "id": "iv6ro40sphqO"
      }
    },
    {
      "cell_type": "markdown",
      "source": [
        "##### 2. What is/are the insight(s) found from the chart?"
      ],
      "metadata": {
        "id": "r2jJGEOYphqO"
      }
    },
    {
      "cell_type": "markdown",
      "source": [
        "Most cutomers are calling during split time and mmostly the data have an even distribution\n"
      ],
      "metadata": {
        "id": "Po6ZPi4hphqO"
      }
    },
    {
      "cell_type": "markdown",
      "source": [
        "##### 3. Will the gained insights help creating a positive business impact?\n",
        "Are there any insights that lead to negative growth? Justify with specific reason."
      ],
      "metadata": {
        "id": "b0JNsNcRphqO"
      }
    },
    {
      "cell_type": "markdown",
      "source": [
        "Yes it helps to find peak time"
      ],
      "metadata": {
        "id": "xvSq8iUTphqO"
      }
    },
    {
      "cell_type": "markdown",
      "source": [
        "#### Chart - 8"
      ],
      "metadata": {
        "id": "BZR9WyysphqO"
      }
    },
    {
      "cell_type": "code",
      "source": [
        "# csat score by product category boxplot\n",
        "plt.figure(figsize=(12,6))\n",
        "sns.boxplot(x='Product_category', y='CSAT Score', data=df, palette='viridis')\n",
        "plt.title('CSAT Score by Product Category')\n",
        "plt.xlabel('Product Category')\n",
        "plt.ylabel('CSAT Score')\n",
        "plt.xticks(rotation=45)\n",
        "plt.show()"
      ],
      "metadata": {
        "id": "TdPTWpAVphqO",
        "colab": {
          "base_uri": "https://localhost:8080/",
          "height": 816
        },
        "outputId": "28c063be-9c17-45eb-c5a6-bc54c84246e3"
      },
      "execution_count": 30,
      "outputs": [
        {
          "output_type": "stream",
          "name": "stderr",
          "text": [
            "/tmp/ipython-input-1361322583.py:3: FutureWarning: \n",
            "\n",
            "Passing `palette` without assigning `hue` is deprecated and will be removed in v0.14.0. Assign the `x` variable to `hue` and set `legend=False` for the same effect.\n",
            "\n",
            "  sns.boxplot(x='Product_category', y='CSAT Score', data=df, palette='viridis')\n"
          ]
        },
        {
          "output_type": "display_data",
          "data": {
            "text/plain": [
              "<Figure size 1200x600 with 1 Axes>"
            ],
            "image/png": "[encoded data removed]"
          },
          "metadata": {}
        }
      ]
    },
    {
      "cell_type": "markdown",
      "source": [
        "##### 1. Why did you pick the specific chart?"
      ],
      "metadata": {
        "id": "jj7wYXLtphqO"
      }
    },
    {
      "cell_type": "markdown",
      "source": [
        "The boxplot visualizes the distribution of csat scores across different prosuct categories.it helps in understanding the range,median and variabilty of customer satisfaction scores for each product category."
      ],
      "metadata": {
        "id": "Ob8u6rCTphqO"
      }
    },
    {
      "cell_type": "markdown",
      "source": [
        "##### 2. What is/are the insight(s) found from the chart?"
      ],
      "metadata": {
        "id": "eZrbJ2SmphqO"
      }
    },
    {
      "cell_type": "markdown",
      "source": [
        "shows how csat scores are distributed within each proct category including the median quartiles and potenstial outlier"
      ],
      "metadata": {
        "id": "mZtgC_hjphqO"
      }
    },
    {
      "cell_type": "markdown",
      "source": [
        "##### 3. Will the gained insights help creating a positive business impact?\n",
        "Are there any insights that lead to negative growth? Justify with specific reason."
      ],
      "metadata": {
        "id": "rFu4xreNphqO"
      }
    },
    {
      "cell_type": "markdown",
      "source": [
        "Useful for identifying which product categories are performing well and which might reqire attention or improvement."
      ],
      "metadata": {
        "id": "ey_0qi68phqO"
      }
    },
    {
      "cell_type": "markdown",
      "source": [
        "#### Chart - 9"
      ],
      "metadata": {
        "id": "YJ55k-q6phqO"
      }
    },
    {
      "cell_type": "code",
      "source": [
        "# csat scrore distribution by channel boxplot\n",
        "plt.figure(figsize=(12,6))\n",
        "sns.boxplot(x='channel_name', y='CSAT Score', data=df, palette='viridis')\n",
        "plt.title('CSAT Score Distribution by Channel')\n",
        "plt.xlabel('Channel')\n",
        "plt.ylabel('CSAT Score')\n",
        "plt.xticks(rotation=45)\n",
        "plt.show()"
      ],
      "metadata": {
        "id": "B2aS4O1ophqO",
        "colab": {
          "base_uri": "https://localhost:8080/",
          "height": 707
        },
        "outputId": "79febf3b-c488-4cb8-bcd8-2f9a874421e4"
      },
      "execution_count": 31,
      "outputs": [
        {
          "output_type": "stream",
          "name": "stderr",
          "text": [
            "/tmp/ipython-input-3520853182.py:3: FutureWarning: \n",
            "\n",
            "Passing `palette` without assigning `hue` is deprecated and will be removed in v0.14.0. Assign the `x` variable to `hue` and set `legend=False` for the same effect.\n",
            "\n",
            "  sns.boxplot(x='channel_name', y='CSAT Score', data=df, palette='viridis')\n"
          ]
        },
        {
          "output_type": "display_data",
          "data": {
            "text/plain": [
              "<Figure size 1200x600 with 1 Axes>"
            ],
            "image/png": "[encoded data removed]"
          },
          "metadata": {}
        }
      ]
    },
    {
      "cell_type": "markdown",
      "source": [
        "##### 1. Why did you pick the specific chart?"
      ],
      "metadata": {
        "id": "gCFgpxoyphqP"
      }
    },
    {
      "cell_type": "markdown",
      "source": [
        "the box plot visualizes the distribution of csat scrores accross different channels"
      ],
      "metadata": {
        "id": "TVxDimi2phqP"
      }
    },
    {
      "cell_type": "markdown",
      "source": [
        "##### 2. What is/are the insight(s) found from the chart?"
      ],
      "metadata": {
        "id": "OVtJsKN_phqQ"
      }
    },
    {
      "cell_type": "markdown",
      "source": [
        "highlights how satisfaction scores very across different customer service channel revealing which channel may require more focus or improvement"
      ],
      "metadata": {
        "id": "ngGi97qjphqQ"
      }
    },
    {
      "cell_type": "markdown",
      "source": [
        "##### 3. Will the gained insights help creating a positive business impact?\n",
        "Are there any insights that lead to negative growth? Justify with specific reason."
      ],
      "metadata": {
        "id": "lssrdh5qphqQ"
      }
    },
    {
      "cell_type": "markdown",
      "source": [
        "shows the most used or frequented channel for customer service and their satifaction frequency"
      ],
      "metadata": {
        "id": "tBpY5ekJphqQ"
      }
    },
    {
      "cell_type": "markdown",
      "source": [
        "#### Chart - 10"
      ],
      "metadata": {
        "id": "U2RJ9gkRphqQ"
      }
    },
    {
      "cell_type": "code",
      "source": [
        "# agent tenure vs average csat scores lineplot\n",
        "plt.figure(figsize=(12,6))\n",
        "t=df.groupby('Tenure Bucket')['CSAT Score'].mean()\n",
        "t.plot(kind='line',color='blue',marker='o',linestyle='-',linewidth=2)\n",
        "plt.title('Average CSAT Score by Agent Tenure')\n",
        "plt.xlabel('Agent Tenure')\n",
        "plt.ylabel('Average CSAT Score')"
      ],
      "metadata": {
        "id": "GM7a4YP4phqQ",
        "colab": {
          "base_uri": "https://localhost:8080/",
          "height": 581
        },
        "outputId": "2d80ecc9-7511-4b47-c6db-0c8593d9db10"
      },
      "execution_count": 32,
      "outputs": [
        {
          "output_type": "execute_result",
          "data": {
            "text/plain": [
              "Text(0, 0.5, 'Average CSAT Score')"
            ]
          },
          "metadata": {},
          "execution_count": 32
        },
        {
          "output_type": "display_data",
          "data": {
            "text/plain": [
              "<Figure size 1200x600 with 1 Axes>"
            ],
            "image/png": "[encoded data removed]"
          },
          "metadata": {}
        }
      ]
    },
    {
      "cell_type": "markdown",
      "source": [
        "##### 1. Why did you pick the specific chart?"
      ],
      "metadata": {
        "id": "1M8mcRywphqQ"
      }
    },
    {
      "cell_type": "markdown",
      "source": [
        "line plot visualizes trends in average csat scores across different tenure bucket"
      ],
      "metadata": {
        "id": "8agQvks0phqQ"
      }
    },
    {
      "cell_type": "markdown",
      "source": [
        "##### 2. What is/are the insight(s) found from the chart?"
      ],
      "metadata": {
        "id": "tgIPom80phqQ"
      }
    },
    {
      "cell_type": "markdown",
      "source": [
        "61-90 have highest csat score"
      ],
      "metadata": {
        "id": "Qp13pnNzphqQ"
      }
    },
    {
      "cell_type": "markdown",
      "source": [
        "##### 3. Will the gained insights help creating a positive business impact?\n",
        "Are there any insights that lead to negative growth? Justify with specific reason."
      ],
      "metadata": {
        "id": "JMzcOPDDphqR"
      }
    },
    {
      "cell_type": "markdown",
      "source": [
        "this line plot visualizes trends in average csat scores across different tenure bucket making it easier to observe any upward or downward trends as agents gain experience."
      ],
      "metadata": {
        "id": "R4Ka1PC2phqR"
      }
    },
    {
      "cell_type": "markdown",
      "source": [
        "#### Chart - 11"
      ],
      "metadata": {
        "id": "x-EpHcCOp1ci"
      }
    },
    {
      "cell_type": "code",
      "source": [
        "# managers and their average csat score heatmap\n",
        "plt.figure(figsize=(12,6))\n",
        "pivot_table = df.pivot_table(index='Manager', values='CSAT Score', aggfunc='mean').sort_values(by='CSAT Score')\n",
        "sns.heatmap(pivot_table, annot=True, cmap='coolwarm')\n",
        "plt.title('Average CSAT Score by Manager')\n",
        "plt.xlabel('csat scores')\n",
        "plt.ylabel('managers')\n",
        "plt.show()"
      ],
      "metadata": {
        "id": "mAQTIvtqp1cj",
        "colab": {
          "base_uri": "https://localhost:8080/",
          "height": 564
        },
        "outputId": "2de62cd5-746a-4a1b-fd5b-46de4b9d398b"
      },
      "execution_count": 33,
      "outputs": [
        {
          "output_type": "display_data",
          "data": {
            "text/plain": [
              "<Figure size 1200x600 with 2 Axes>"
            ],
            "image/png": "[encoded data removed]"
          },
          "metadata": {}
        }
      ]
    },
    {
      "cell_type": "markdown",
      "source": [
        "##### 1. Why did you pick the specific chart?"
      ],
      "metadata": {
        "id": "X_VqEhTip1ck"
      }
    },
    {
      "cell_type": "markdown",
      "source": [
        "heatmap helps to find the density of a value from the dataset."
      ],
      "metadata": {
        "id": "-vsMzt_np1ck"
      }
    },
    {
      "cell_type": "markdown",
      "source": [
        "##### 2. What is/are the insight(s) found from the chart?"
      ],
      "metadata": {
        "id": "8zGJKyg5p1ck"
      }
    },
    {
      "cell_type": "markdown",
      "source": [
        "emily chen as a manager have highest csat score"
      ],
      "metadata": {
        "id": "ZYdMsrqVp1ck"
      }
    },
    {
      "cell_type": "markdown",
      "source": [
        "#### Chart - 12"
      ],
      "metadata": {
        "id": "n3dbpmDWp1ck"
      }
    },
    {
      "cell_type": "code",
      "source": [
        "# agents assigned each shift total overtime countplot\n",
        "plt.figure(figsize=(12,6))\n",
        "sns.countplot(x='Agent Shift',  data=df,palette='Set2')\n",
        "plt.title('Agents Assigned to Each Shift')\n",
        "plt.xlabel('Agent Shift')\n",
        "plt.ylabel('Number of agents')\n",
        "plt.show()"
      ],
      "metadata": {
        "id": "bwevp1tKp1ck",
        "colab": {
          "base_uri": "https://localhost:8080/",
          "height": 671
        },
        "outputId": "989d19af-2f2c-465d-c666-da9600b7151c"
      },
      "execution_count": 34,
      "outputs": [
        {
          "output_type": "stream",
          "name": "stderr",
          "text": [
            "/tmp/ipython-input-3265466849.py:3: FutureWarning: \n",
            "\n",
            "Passing `palette` without assigning `hue` is deprecated and will be removed in v0.14.0. Assign the `x` variable to `hue` and set `legend=False` for the same effect.\n",
            "\n",
            "  sns.countplot(x='Agent Shift',  data=df,palette='Set2')\n"
          ]
        },
        {
          "output_type": "display_data",
          "data": {
            "text/plain": [
              "<Figure size 1200x600 with 1 Axes>"
            ],
            "image/png": "[encoded data removed]"
          },
          "metadata": {}
        }
      ]
    },
    {
      "cell_type": "markdown",
      "source": [
        "##### 1. Why did you pick the specific chart?"
      ],
      "metadata": {
        "id": "ylSl6qgtp1ck"
      }
    },
    {
      "cell_type": "markdown",
      "source": [
        "Bar plot shows categorical value of different shift in total of dataset\n",
        "\n",
        "\n",
        "\n",
        "\n",
        "\n",
        "\n",
        "\n",
        "\n"
      ],
      "metadata": {
        "id": "m2xqNkiQp1ck"
      }
    },
    {
      "cell_type": "markdown",
      "source": [
        "##### 2. What is/are the insight(s) found from the chart?"
      ],
      "metadata": {
        "id": "ZWILFDl5p1ck"
      }
    },
    {
      "cell_type": "markdown",
      "source": [
        "On total most people work in mornings and less people at night"
      ],
      "metadata": {
        "id": "x-lUsV2mp1ck"
      }
    },
    {
      "cell_type": "markdown",
      "source": [
        "##### 3. Will the gained insights help creating a positive business impact?\n",
        "Are there any insights that lead to negative growth? Justify with specific reason."
      ],
      "metadata": {
        "id": "M7G43BXep1ck"
      }
    },
    {
      "cell_type": "markdown",
      "source": [
        "can be useful when there is a need to balance the agents working each shift"
      ],
      "metadata": {
        "id": "5wwDJXsLp1cl"
      }
    },
    {
      "cell_type": "markdown",
      "source": [
        "#### Chart - 13"
      ],
      "metadata": {
        "id": "Ag9LCva-p1cl"
      }
    },
    {
      "cell_type": "code",
      "source": [
        "plt.figure(figsize=(10,5))\n",
        "sns.scatterplot(x='Time difference', y='CSAT Score', data=df,hue='CSAT Score',palette='viridis',alpha=0.7)\n",
        "sns.regplot(x='Time difference', y='CSAT Score', data=df, scatter=False, color='red')\n",
        "plt.title('Time Difference vs Item Price')\n",
        "plt.xlabel('Item Price')\n",
        "plt.ylabel('Time Difference')\n",
        "plt.grid(True)\n",
        "plt.show()"
      ],
      "metadata": {
        "id": "EUfxeq9-p1cl",
        "colab": {
          "base_uri": "https://localhost:8080/",
          "height": 487
        },
        "outputId": "98777c6f-9b5f-42e5-b434-123193c327f7"
      },
      "execution_count": 35,
      "outputs": [
        {
          "output_type": "display_data",
          "data": {
            "text/plain": [
              "<Figure size 1000x500 with 1 Axes>"
            ],
            "image/png": "[encoded data removed]"
          },
          "metadata": {}
        }
      ]
    },
    {
      "cell_type": "markdown",
      "source": [
        "##### 1. Why did you pick the specific chart?"
      ],
      "metadata": {
        "id": "E6MkPsBcp1cl"
      }
    },
    {
      "cell_type": "markdown",
      "source": [
        "scatter plot with regression line help identify any potential realtioship between the two variables.scatter plot.display individual data point representing time  difference and csat score which help visualize the distribution and any potential correlation.regression line .the red line represents the best fit line for the data points showing the trends and direction of the relationship between time difference and csat score"
      ],
      "metadata": {
        "id": "V22bRsFWp1cl"
      }
    },
    {
      "cell_type": "markdown",
      "source": [
        "##### 2. What is/are the insight(s) found from the chart?"
      ],
      "metadata": {
        "id": "2cELzS2fp1cl"
      }
    },
    {
      "cell_type": "markdown",
      "source": [
        "Helps identify if theres a positive , negative or no correlation between the time taken to handel issues and customer satisfaction score"
      ],
      "metadata": {
        "id": "ozQPc2_Ip1cl"
      }
    },
    {
      "cell_type": "markdown",
      "source": [
        "# Hypothesis Testing\n"
      ],
      "metadata": {
        "id": "z2BmxOVBp3yx"
      }
    },
    {
      "cell_type": "markdown",
      "source": [
        "Based on your chart experiments,define hypothetical statements from the dataset.In the next three questions,perform hypothesis testing to obtain final conclusion about the statements through your code and statistical testing."
      ],
      "metadata": {
        "id": "3nK-FKbiqFzO"
      }
    },
    {
      "cell_type": "markdown",
      "source": [
        "Hypothetical statement 1"
      ],
      "metadata": {
        "id": "xjhylW97q4yz"
      }
    },
    {
      "cell_type": "markdown",
      "source": [
        "Time difference and CSAT Score"
      ],
      "metadata": {
        "id": "wXgYDhbNrAbq"
      }
    },
    {
      "cell_type": "markdown",
      "source": [
        "state your reserch hypothesis as null hypothesis and alternate hypothesis"
      ],
      "metadata": {
        "id": "ed_sW5nqrJH4"
      }
    },
    {
      "cell_type": "markdown",
      "source": [
        "Null Hypothesis(h0):There is no significantly affect customer satisfaction.\n",
        "\n",
        "Alternate Hypothesis(H1):There is a significant relationship between Time Differnce and CSAT Sore.The time taken to respond to customer issues significantly affects customer satisfaction."
      ],
      "metadata": {
        "id": "8MOThSH7rfxu"
      }
    },
    {
      "cell_type": "markdown",
      "source": [
        "Perform an appropriate statistical test"
      ],
      "metadata": {
        "id": "dmgOcWvnsuqU"
      }
    },
    {
      "cell_type": "code",
      "source": [
        "#Perform statistical test to obatin P-value\n",
        "from scipy.stats import spearmanr\n",
        "\n",
        "# Fill missing values in 'Time difference' with the median\n",
        "df['Time difference'].fillna(df['Time difference'].median(), inplace=True)\n",
        "\n",
        "correlation, p_value = spearmanr(df['Time difference'], df['CSAT Score'])\n",
        "print(f\"Spearman's correlation coefficient: {correlation}\")\n",
        "print(f\"P-value: {p_value}\")\n",
        "\n",
        "alpha = 0.05\n",
        "if p_value < alpha:\n",
        "    print(\"Reject the null hypothesis.There is a significant relationship between Time Differnce and CSAT Sore.\")\n",
        "else:\n",
        "    print(\"Fail to reject the null hypothesis.There is no significant relationship between Time Differnce and CSAT Sore.\")"
      ],
      "metadata": {
        "colab": {
          "base_uri": "https://localhost:8080/"
        },
        "id": "CcpsfBIas32k",
        "outputId": "e58dcd12-8ddc-4e21-da57-555fdc53c377"
      },
      "execution_count": 36,
      "outputs": [
        {
          "output_type": "stream",
          "name": "stdout",
          "text": [
            "Spearman's correlation coefficient: -0.11032636348541058\n",
            "P-value: 8.780582197059892e-231\n",
            "Reject the null hypothesis.There is a significant relationship between Time Differnce and CSAT Sore.\n"
          ]
        },
        {
          "output_type": "stream",
          "name": "stderr",
          "text": [
            "/tmp/ipython-input-1465515980.py:5: FutureWarning: A value is trying to be set on a copy of a DataFrame or Series through chained assignment using an inplace method.\n",
            "The behavior will change in pandas 3.0. This inplace method will never work because the intermediate object on which we are setting values always behaves as a copy.\n",
            "\n",
            "For example, when doing 'df[col].method(value, inplace=True)', try using 'df.method({col: value}, inplace=True)' or df[col] = df[col].method(value) instead, to perform the operation inplace on the original object.\n",
            "\n",
            "\n",
            "  df['Time difference'].fillna(df['Time difference'].median(), inplace=True)\n"
          ]
        }
      ]
    },
    {
      "cell_type": "markdown",
      "source": [
        "Which statistical test have you done to obatin p value?"
      ],
      "metadata": {
        "id": "WQFkPa-FvKq9"
      }
    },
    {
      "cell_type": "markdown",
      "source": [
        "Spearman's rank corelation\n"
      ],
      "metadata": {
        "id": "Yk9gn7E5vuYG"
      }
    },
    {
      "cell_type": "markdown",
      "source": [
        "why did you choose the specific statistical test?\n"
      ],
      "metadata": {
        "id": "5eFH1pe8v626"
      }
    },
    {
      "cell_type": "markdown",
      "source": [
        "sperman raank correlation analyzes the strength and direction of the association between two ranked variables"
      ],
      "metadata": {
        "id": "A2fV-4C0wIKq"
      }
    },
    {
      "cell_type": "markdown",
      "source": [
        "Hypothesi Statement 2"
      ],
      "metadata": {
        "id": "8DZMS8nAwqjT"
      }
    },
    {
      "cell_type": "markdown",
      "source": [
        "Agent shift and average CSAT Score"
      ],
      "metadata": {
        "id": "EkicYz45w1G5"
      }
    },
    {
      "cell_type": "markdown",
      "source": [
        "1.State Your research hypothesu=is as a null hypothesis and alternate hypothesis"
      ],
      "metadata": {
        "id": "dihS1prMw8Wo"
      }
    },
    {
      "cell_type": "markdown",
      "source": [
        "Null Hypotheis(H0):There is no significant difference in the average CSAT Score between differnt Agent Shift\n",
        "\n",
        "Alternate Hypothesis(H1):There is significant difference in average CSAT Score between inthe average CSAT Score between different Agent Shifts."
      ],
      "metadata": {
        "id": "W3_I6ZEOxMHM"
      }
    },
    {
      "cell_type": "markdown",
      "source": [
        "Perform an appropriate statistical test"
      ],
      "metadata": {
        "id": "74UjmuIWyW_l"
      }
    },
    {
      "cell_type": "code",
      "source": [
        "#perform statistical test to obtain p value\n",
        "from scipy.stats import kruskal\n",
        "\n",
        "# Perform Kruskal-Wallis test\n",
        "groups=[df[df['Agent Shift'] == shift]['CSAT Score'] for shift in df['Agent Shift'].unique()]\n",
        "statistic, p_value = kruskal(*groups)\n",
        "\n",
        "print(f\"Kruskal-Wallis statistic: {statistic}\")\n",
        "print(f\"P-value: {p_value}\")\n",
        "\n",
        "alpha = 0.05\n",
        "if p_value < alpha:\n",
        "    print(\"Reject the null hypothesis.There is a significant difference in the average CSAT Score between different Agent Shifts.\")\n",
        "else:\n",
        "    print(\"Fail to reject the null hypothesis.There is no significant difference in the average CSAT Score between different Agent Shifts.\")"
      ],
      "metadata": {
        "colab": {
          "base_uri": "https://localhost:8080/"
        },
        "id": "w3TCczTEytmN",
        "outputId": "c4abc940-40db-4255-dbbe-5e468dc6f851"
      },
      "execution_count": 37,
      "outputs": [
        {
          "output_type": "stream",
          "name": "stdout",
          "text": [
            "Kruskal-Wallis statistic: 151.58004948556504\n",
            "P-value: 9.335020551858379e-32\n",
            "Reject the null hypothesis.There is a significant difference in the average CSAT Score between different Agent Shifts.\n"
          ]
        }
      ]
    },
    {
      "cell_type": "markdown",
      "source": [
        "Which statistical test  have you done to obtain P value?"
      ],
      "metadata": {
        "id": "zElH_-UFzdF9"
      }
    },
    {
      "cell_type": "markdown",
      "source": [
        "Krushkal Wallis H test"
      ],
      "metadata": {
        "id": "ofXim4JizwV5"
      }
    },
    {
      "cell_type": "markdown",
      "source": [
        "Why did you choose the specific stastical test?\n"
      ],
      "metadata": {
        "id": "OXG9e5HIz_8T"
      }
    },
    {
      "cell_type": "markdown",
      "source": [
        "Kruskal Wallis H test is used to determine if there are statistically significant difference between the median of three or more idependet groups.A higher statitistic suggest grater diffences between grpou median"
      ],
      "metadata": {
        "id": "ZmFl6DEm0S0Q"
      }
    },
    {
      "cell_type": "markdown",
      "source": [
        "Hypothetical statement 3"
      ],
      "metadata": {
        "id": "35dllGE46z86"
      }
    },
    {
      "cell_type": "markdown",
      "source": [
        "Item price CSAT Score\n"
      ],
      "metadata": {
        "id": "v4RAVKgb6_JI"
      }
    },
    {
      "cell_type": "markdown",
      "source": [
        "state your reserch hypothesis as a null hypothesis and alternate hypothesis"
      ],
      "metadata": {
        "id": "lihR7LXB7I0y"
      }
    },
    {
      "cell_type": "markdown",
      "source": [
        "Null Hypotheis(H0):There is no significant correlation between Item Price and CSAT Score\n",
        "\n",
        "Alternate Hypothesis(H1):There is significant correlation between Item Price and CSAT Score"
      ],
      "metadata": {
        "id": "JLG2rNUP7JJp"
      }
    },
    {
      "cell_type": "markdown",
      "source": [
        "Perform an appropriate statistical test"
      ],
      "metadata": {
        "id": "X-KIYx7k8I-b"
      }
    },
    {
      "cell_type": "code",
      "source": [
        "import scipy.stats as stats\n",
        "correlation, p_value = stats.spearmanr(df['Item_price'], df['CSAT Score'])\n",
        "\n",
        "print(f\"Pearson correlation coefficient: {correlation}\")\n",
        "print(f\"P-value: {p_value}\")\n",
        "\n",
        "alpha = 0.05\n",
        "if p_value < alpha:\n",
        "    print(\"Reject the null hypothesis.There is a significant correlation between Item Price and CSAT Score.\")\n",
        "else:\n",
        "    print(\"Fail to reject the null hypothesis.There is no significant correlation between Item Price and CSAT Score.\")"
      ],
      "metadata": {
        "colab": {
          "base_uri": "https://localhost:8080/"
        },
        "id": "JkZsoYWI8Ucj",
        "outputId": "f374427a-9504-4e7e-c870-4671225c72bd"
      },
      "execution_count": 38,
      "outputs": [
        {
          "output_type": "stream",
          "name": "stdout",
          "text": [
            "Pearson correlation coefficient: -0.03394737965612261\n",
            "P-value: 2.455179983318164e-23\n",
            "Reject the null hypothesis.There is a significant correlation between Item Price and CSAT Score.\n"
          ]
        }
      ]
    },
    {
      "cell_type": "markdown",
      "source": [
        "Which statistical test  have you done to obtain P value?"
      ],
      "metadata": {
        "id": "7Lq6NNlc9Z6S"
      }
    },
    {
      "cell_type": "markdown",
      "source": [
        "Sperman's Rank Correlation"
      ],
      "metadata": {
        "id": "AznWtTZ69l-m"
      }
    },
    {
      "cell_type": "markdown",
      "source": [
        "Why did you v=choose the specific statistical test?"
      ],
      "metadata": {
        "id": "_Jt_lgF39tsn"
      }
    },
    {
      "cell_type": "markdown",
      "source": [
        "This test helps you determine whetther there's a significant monotonic relationship between item preices and cutomer satisfaction scores"
      ],
      "metadata": {
        "id": "_QifPCra941X"
      }
    },
    {
      "cell_type": "markdown",
      "source": [
        "# Feature Engineering and data preprocessing"
      ],
      "metadata": {
        "id": "b_Gj51_H-ag5"
      }
    },
    {
      "cell_type": "markdown",
      "source": [
        "# 1. handling missing values"
      ],
      "metadata": {
        "id": "gLR24KhQ-nV2"
      }
    },
    {
      "cell_type": "code",
      "source": [
        "df.isnull().sum()"
      ],
      "metadata": {
        "colab": {
          "base_uri": "https://localhost:8080/",
          "height": 742
        },
        "id": "2lUMlGly_s20",
        "outputId": "a79d7ca7-14ff-4ede-a7a9-d18e3b0a7d2a"
      },
      "execution_count": 39,
      "outputs": [
        {
          "output_type": "execute_result",
          "data": {
            "text/plain": [
              "Unique id                            0\n",
              "channel_name                         0\n",
              "category                             0\n",
              "Sub-category                         0\n",
              "Order_id                         18232\n",
              "Issue_reported at                53933\n",
              "issue_responded                  54022\n",
              "Survey_response_Date                 0\n",
              "Customer_City                    68828\n",
              "Product_category                 68711\n",
              "Item_price                           0\n",
              "Agent_name                           0\n",
              "Supervisor                           0\n",
              "Manager                              0\n",
              "Tenure Bucket                        0\n",
              "Agent Shift                          0\n",
              "CSAT Score                           0\n",
              "response_time                        0\n",
              "Issue_reported at {formatted}    53933\n",
              "issue_responded {formatted}      54022\n",
              "Time difference                      0\n",
              "dtype: int64"
            ],
            "text/html": [
              "<div>\n",
              "<style scoped>\n",
              "    .dataframe tbody tr th:only-of-type {\n",
              "        vertical-align: middle;\n",
              "    }\n",
              "\n",
              "    .dataframe tbody tr th {\n",
              "        vertical-align: top;\n",
              "    }\n",
              "\n",
              "    .dataframe thead th {\n",
              "        text-align: right;\n",
              "    }\n",
              "</style>\n",
              "<table border=\"1\" class=\"dataframe\">\n",
              "  <thead>\n",
              "    <tr style=\"text-align: right;\">\n",
              "      <th></th>\n",
              "      <th>0</th>\n",
              "    </tr>\n",
              "  </thead>\n",
              "  <tbody>\n",
              "    <tr>\n",
              "      <th>Unique id</th>\n",
              "      <td>0</td>\n",
              "    </tr>\n",
              "    <tr>\n",
              "      <th>channel_name</th>\n",
              "      <td>0</td>\n",
              "    </tr>\n",
              "    <tr>\n",
              "      <th>category</th>\n",
              "      <td>0</td>\n",
              "    </tr>\n",
              "    <tr>\n",
              "      <th>Sub-category</th>\n",
              "      <td>0</td>\n",
              "    </tr>\n",
              "    <tr>\n",
              "      <th>Order_id</th>\n",
              "      <td>18232</td>\n",
              "    </tr>\n",
              "    <tr>\n",
              "      <th>Issue_reported at</th>\n",
              "      <td>53933</td>\n",
              "    </tr>\n",
              "    <tr>\n",
              "      <th>issue_responded</th>\n",
              "      <td>54022</td>\n",
              "    </tr>\n",
              "    <tr>\n",
              "      <th>Survey_response_Date</th>\n",
              "      <td>0</td>\n",
              "    </tr>\n",
              "    <tr>\n",
              "      <th>Customer_City</th>\n",
              "      <td>68828</td>\n",
              "    </tr>\n",
              "    <tr>\n",
              "      <th>Product_category</th>\n",
              "      <td>68711</td>\n",
              "    </tr>\n",
              "    <tr>\n",
              "      <th>Item_price</th>\n",
              "      <td>0</td>\n",
              "    </tr>\n",
              "    <tr>\n",
              "      <th>Agent_name</th>\n",
              "      <td>0</td>\n",
              "    </tr>\n",
              "    <tr>\n",
              "      <th>Supervisor</th>\n",
              "      <td>0</td>\n",
              "    </tr>\n",
              "    <tr>\n",
              "      <th>Manager</th>\n",
              "      <td>0</td>\n",
              "    </tr>\n",
              "    <tr>\n",
              "      <th>Tenure Bucket</th>\n",
              "      <td>0</td>\n",
              "    </tr>\n",
              "    <tr>\n",
              "      <th>Agent Shift</th>\n",
              "      <td>0</td>\n",
              "    </tr>\n",
              "    <tr>\n",
              "      <th>CSAT Score</th>\n",
              "      <td>0</td>\n",
              "    </tr>\n",
              "    <tr>\n",
              "      <th>response_time</th>\n",
              "      <td>0</td>\n",
              "    </tr>\n",
              "    <tr>\n",
              "      <th>Issue_reported at {formatted}</th>\n",
              "      <td>53933</td>\n",
              "    </tr>\n",
              "    <tr>\n",
              "      <th>issue_responded {formatted}</th>\n",
              "      <td>54022</td>\n",
              "    </tr>\n",
              "    <tr>\n",
              "      <th>Time difference</th>\n",
              "      <td>0</td>\n",
              "    </tr>\n",
              "  </tbody>\n",
              "</table>\n",
              "</div><br><label><b>dtype:</b> int64</label>"
            ]
          },
          "metadata": {},
          "execution_count": 39
        }
      ]
    },
    {
      "cell_type": "code",
      "source": [
        "#drop columns\n",
        "columns_to_drop=['Item_price','Product_category','Customer_City']\n",
        "df.drop(columns=[col for col in columns_to_drop if col in df.columns],axis=1,inplace=True)"
      ],
      "metadata": {
        "id": "Qh-2-oeqAtS6"
      },
      "execution_count": 40,
      "outputs": []
    },
    {
      "cell_type": "code",
      "source": [
        "#since order_id is a value to uniquelly identify each row,It is filled using forward/backwar\n",
        "df['Order_id'].fillna(method='ffill',inplace=True)\n",
        "df.head()\n",
        "df.isnull().sum()"
      ],
      "metadata": {
        "colab": {
          "base_uri": "https://localhost:8080/",
          "height": 824
        },
        "id": "iUQ_SqJLB0Jz",
        "outputId": "5db8a7c0-d1cf-4b73-fd94-6e06369a948a"
      },
      "execution_count": 41,
      "outputs": [
        {
          "output_type": "stream",
          "name": "stderr",
          "text": [
            "/tmp/ipython-input-2669266539.py:2: FutureWarning: A value is trying to be set on a copy of a DataFrame or Series through chained assignment using an inplace method.\n",
            "The behavior will change in pandas 3.0. This inplace method will never work because the intermediate object on which we are setting values always behaves as a copy.\n",
            "\n",
            "For example, when doing 'df[col].method(value, inplace=True)', try using 'df.method({col: value}, inplace=True)' or df[col] = df[col].method(value) instead, to perform the operation inplace on the original object.\n",
            "\n",
            "\n",
            "  df['Order_id'].fillna(method='ffill',inplace=True)\n",
            "/tmp/ipython-input-2669266539.py:2: FutureWarning: Series.fillna with 'method' is deprecated and will raise in a future version. Use obj.ffill() or obj.bfill() instead.\n",
            "  df['Order_id'].fillna(method='ffill',inplace=True)\n"
          ]
        },
        {
          "output_type": "execute_result",
          "data": {
            "text/plain": [
              "Unique id                            0\n",
              "channel_name                         0\n",
              "category                             0\n",
              "Sub-category                         0\n",
              "Order_id                             0\n",
              "Issue_reported at                53933\n",
              "issue_responded                  54022\n",
              "Survey_response_Date                 0\n",
              "Agent_name                           0\n",
              "Supervisor                           0\n",
              "Manager                              0\n",
              "Tenure Bucket                        0\n",
              "Agent Shift                          0\n",
              "CSAT Score                           0\n",
              "response_time                        0\n",
              "Issue_reported at {formatted}    53933\n",
              "issue_responded {formatted}      54022\n",
              "Time difference                      0\n",
              "dtype: int64"
            ],
            "text/html": [
              "<div>\n",
              "<style scoped>\n",
              "    .dataframe tbody tr th:only-of-type {\n",
              "        vertical-align: middle;\n",
              "    }\n",
              "\n",
              "    .dataframe tbody tr th {\n",
              "        vertical-align: top;\n",
              "    }\n",
              "\n",
              "    .dataframe thead th {\n",
              "        text-align: right;\n",
              "    }\n",
              "</style>\n",
              "<table border=\"1\" class=\"dataframe\">\n",
              "  <thead>\n",
              "    <tr style=\"text-align: right;\">\n",
              "      <th></th>\n",
              "      <th>0</th>\n",
              "    </tr>\n",
              "  </thead>\n",
              "  <tbody>\n",
              "    <tr>\n",
              "      <th>Unique id</th>\n",
              "      <td>0</td>\n",
              "    </tr>\n",
              "    <tr>\n",
              "      <th>channel_name</th>\n",
              "      <td>0</td>\n",
              "    </tr>\n",
              "    <tr>\n",
              "      <th>category</th>\n",
              "      <td>0</td>\n",
              "    </tr>\n",
              "    <tr>\n",
              "      <th>Sub-category</th>\n",
              "      <td>0</td>\n",
              "    </tr>\n",
              "    <tr>\n",
              "      <th>Order_id</th>\n",
              "      <td>0</td>\n",
              "    </tr>\n",
              "    <tr>\n",
              "      <th>Issue_reported at</th>\n",
              "      <td>53933</td>\n",
              "    </tr>\n",
              "    <tr>\n",
              "      <th>issue_responded</th>\n",
              "      <td>54022</td>\n",
              "    </tr>\n",
              "    <tr>\n",
              "      <th>Survey_response_Date</th>\n",
              "      <td>0</td>\n",
              "    </tr>\n",
              "    <tr>\n",
              "      <th>Agent_name</th>\n",
              "      <td>0</td>\n",
              "    </tr>\n",
              "    <tr>\n",
              "      <th>Supervisor</th>\n",
              "      <td>0</td>\n",
              "    </tr>\n",
              "    <tr>\n",
              "      <th>Manager</th>\n",
              "      <td>0</td>\n",
              "    </tr>\n",
              "    <tr>\n",
              "      <th>Tenure Bucket</th>\n",
              "      <td>0</td>\n",
              "    </tr>\n",
              "    <tr>\n",
              "      <th>Agent Shift</th>\n",
              "      <td>0</td>\n",
              "    </tr>\n",
              "    <tr>\n",
              "      <th>CSAT Score</th>\n",
              "      <td>0</td>\n",
              "    </tr>\n",
              "    <tr>\n",
              "      <th>response_time</th>\n",
              "      <td>0</td>\n",
              "    </tr>\n",
              "    <tr>\n",
              "      <th>Issue_reported at {formatted}</th>\n",
              "      <td>53933</td>\n",
              "    </tr>\n",
              "    <tr>\n",
              "      <th>issue_responded {formatted}</th>\n",
              "      <td>54022</td>\n",
              "    </tr>\n",
              "    <tr>\n",
              "      <th>Time difference</th>\n",
              "      <td>0</td>\n",
              "    </tr>\n",
              "  </tbody>\n",
              "</table>\n",
              "</div><br><label><b>dtype:</b> int64</label>"
            ]
          },
          "metadata": {},
          "execution_count": 41
        }
      ]
    },
    {
      "cell_type": "markdown",
      "source": [
        " What all missing value imputation techniques have you used and why did you use those techniques?\n",
        "\n"
      ],
      "metadata": {
        "id": "mFnvyZ8hCjAT"
      }
    },
    {
      "cell_type": "markdown",
      "source": [
        "Columns containing morethan 70% null values are dropped from the dataframe and columns used to uniquely identify each row in dataset is filled in with order ids generateed by forward/backward filling based on the assumption that the same customer or nearby entries might share an order ID"
      ],
      "metadata": {
        "id": "th_GQIuEDRL8"
      }
    },
    {
      "cell_type": "markdown",
      "source": [
        "2. Handling Outliers"
      ],
      "metadata": {
        "id": "ITtML_lwEUhd"
      }
    },
    {
      "cell_type": "code",
      "source": [
        "#handling outliers and oulier treatement\n",
        "#calate the IQR for 'CSAT Score'\n",
        "Q1 = df['CSAT Score'].quantile(0.25)\n",
        "Q3 = df['CSAT Score'].quantile(0.75)\n",
        "IQR = Q3 - Q1\n",
        "\n",
        "#define the lower and upper bound for outliers\n",
        "lower_bound = Q1 - 1.5 * IQR\n",
        "upper_bound = Q3 + 1.5 * IQR\n",
        "\n",
        "#identify outlier in \"CSAT Score\n",
        "outliers=df[(df['CSAT Score'] < lower_bound) | (df['CSAT Score'] > upper_bound)]\n",
        "print(outliers)\n",
        "\n",
        "#plot CSAT Score by Agent Shift\n",
        "plt.figure(figsize=(10,6))\n",
        "sns.boxplot(x='Agent Shift', y='CSAT Score', data=df, palette='Set1')\n",
        "plt.title('CSAT Score by Agent Shift')\n",
        "plt.xlabel('Agent Shift')\n",
        "plt.ylabel('CSAT Score')\n",
        "plt.show()"
      ],
      "metadata": {
        "id": "t9JCX5mBEi2g",
        "colab": {
          "base_uri": "https://localhost:8080/",
          "height": 1000
        },
        "outputId": "bc2b0964-76c7-489a-d3ed-e65f19fb3d1f"
      },
      "execution_count": 42,
      "outputs": [
        {
          "output_type": "stream",
          "name": "stdout",
          "text": [
            "                                  Unique id channel_name       category  \\\n",
            "11     4c28acf4-2ea4-4be8-b8f1-113e676fc8b7      Inbound  Order Related   \n",
            "25     c0edcb0a-cfa8-4f35-86ad-88c9f6b47290      Inbound  Order Related   \n",
            "31     39fb5940-dffe-49bf-8f9b-936cb1994152      Inbound  Order Related   \n",
            "32     b18b603b-2f31-49e5-8e68-64010c1c5674      Outcall        Returns   \n",
            "54     2ad4e1cb-60e8-4a0f-91aa-c253c185ba26      Inbound        Returns   \n",
            "...                                     ...          ...            ...   \n",
            "85873  d349f69a-8698-4756-bc13-72f86cc3f3b8      Inbound  Order Related   \n",
            "85876  f6848303-58d5-4641-a1db-756bb844b491      Inbound        Returns   \n",
            "85882  fa7f7e0a-6ede-4814-be7e-d0974b3c844a      Inbound        Returns   \n",
            "85887  4b666b79-a622-4e88-b284-bbb7e5d887cf      Inbound        Returns   \n",
            "85894  6a205a8e-3ae5-41e7-8cca-41fa0e016da3      Inbound       Feedback   \n",
            "\n",
            "                   Sub-category                              Order_id  \\\n",
            "11                      Delayed  55bbace3-eb2e-4f67-aacb-4f8ee8512f75   \n",
            "25         Order status enquiry  e4eed4bb-1b1e-4894-bbd0-e2ba491b562b   \n",
            "31              Unable to track  93992718-b762-4073-978a-c79ee02b561f   \n",
            "32       Reverse Pickup Enquiry  d99b00a1-24c6-4173-ab90-2fe0e0d5302f   \n",
            "54       Reverse Pickup Enquiry  e91ceda3-ffb5-47f1-9f2e-1bf2e9a18cdb   \n",
            "...                         ...                                   ...   \n",
            "85873      Order status enquiry  b1e5c9a3-4609-40e4-b24d-da233774ebfc   \n",
            "85876    Reverse Pickup Enquiry  f7869c57-3959-4640-a8d7-2008f85011b4   \n",
            "85882    Reverse Pickup Enquiry  a587efd7-f43f-4c66-8f20-64e489d3c1b2   \n",
            "85887    Reverse Pickup Enquiry  330cff59-5fa6-4ffb-a5b7-64d736d375c3   \n",
            "85894  UnProfessional Behaviour  dd3f386b-17be-46fc-8e57-f099b2603b35   \n",
            "\n",
            "        Issue_reported at     issue_responded Survey_response_Date  \\\n",
            "11    2023-02-08 10:44:00 2023-02-08 11:14:00           2023-08-02   \n",
            "25    2023-02-08 11:07:00 2023-02-08 11:10:00           2023-08-02   \n",
            "31    2023-01-08 21:28:00 2023-01-08 22:20:00           2023-08-01   \n",
            "32    2023-02-08 11:09:00 2023-02-08 15:05:00           2023-08-02   \n",
            "54                    NaT 2023-02-08 07:42:00           2023-08-02   \n",
            "...                   ...                 ...                  ...   \n",
            "85873                 NaT                 NaT           2023-08-31   \n",
            "85876                 NaT                 NaT           2023-08-31   \n",
            "85882                 NaT                 NaT           2023-08-31   \n",
            "85887                 NaT                 NaT           2023-08-31   \n",
            "85894                 NaT                 NaT           2023-08-31   \n",
            "\n",
            "              Agent_name      Supervisor          Manager    Tenure Bucket  \\\n",
            "11         Stanley Hogan     Harper Wong       Emily Chen              >90   \n",
            "25     Michelle Williams     Mason Gupta  Jennifer Nguyen  On Job Training   \n",
            "31       Ashley Hamilton    Jackson Park      William Kim  On Job Training   \n",
            "32     Rhonda Martin DVM       Wyatt Kim  Jennifer Nguyen  On Job Training   \n",
            "54        Colleen Morton    Zoe Yamamoto       John Smith              >90   \n",
            "...                  ...             ...              ...              ...   \n",
            "85873         James Tran      Jacob Sato  Jennifer Nguyen  On Job Training   \n",
            "85876      Timothy Green       Mia Patel      William Kim  On Job Training   \n",
            "85882        Daniel Ball  Ethan Nakamura       Olivia Tan              >90   \n",
            "85887        Robert Lara    Brayden Wong       John Smith            31-60   \n",
            "85894   Taylor Frederick       Mia Patel      William Kim  On Job Training   \n",
            "\n",
            "      Agent Shift  CSAT Score  response_time Issue_reported at {formatted}  \\\n",
            "11          Split           1         1800.0                      08/02/23   \n",
            "25        Morning           1          180.0                      08/02/23   \n",
            "31        Evening           1         3120.0                      08/01/23   \n",
            "32        Morning           1        14160.0                      08/02/23   \n",
            "54      Afternoon           1          360.0                           NaN   \n",
            "...           ...         ...            ...                           ...   \n",
            "85873     Morning           1          360.0                           NaN   \n",
            "85876     Evening           1          360.0                           NaN   \n",
            "85882     Morning           1          360.0                           NaN   \n",
            "85887     Evening           1          360.0                           NaN   \n",
            "85894     Evening           1          360.0                           NaN   \n",
            "\n",
            "      issue_responded {formatted}  Time difference  \n",
            "11                       08/02/23             30.0  \n",
            "25                       08/02/23              3.0  \n",
            "31                       08/01/23             52.0  \n",
            "32                       08/02/23            236.0  \n",
            "54                       08/02/23              6.0  \n",
            "...                           ...              ...  \n",
            "85873                         NaN              6.0  \n",
            "85876                         NaN              6.0  \n",
            "85882                         NaN              6.0  \n",
            "85887                         NaN              6.0  \n",
            "85894                         NaN              6.0  \n",
            "\n",
            "[12513 rows x 18 columns]\n"
          ]
        },
        {
          "output_type": "stream",
          "name": "stderr",
          "text": [
            "/tmp/ipython-input-124957650.py:17: FutureWarning: \n",
            "\n",
            "Passing `palette` without assigning `hue` is deprecated and will be removed in v0.14.0. Assign the `x` variable to `hue` and set `legend=False` for the same effect.\n",
            "\n",
            "  sns.boxplot(x='Agent Shift', y='CSAT Score', data=df, palette='Set1')\n"
          ]
        },
        {
          "output_type": "display_data",
          "data": {
            "text/plain": [
              "<Figure size 1000x600 with 1 Axes>"
            ],
            "image/png": "[encoded data removed]"
          },
          "metadata": {}
        }
      ]
    },
    {
      "cell_type": "markdown",
      "source": [
        "What all outlier treatment techniques have you used and why did you use those teqniques?"
      ],
      "metadata": {
        "id": "7jX0p9dIgBgp"
      }
    },
    {
      "cell_type": "markdown",
      "source": [
        "Capped outlier values to boundary values to get the data even"
      ],
      "metadata": {
        "id": "HjID4uJQgb2Q"
      }
    },
    {
      "cell_type": "code",
      "source": [
        "#Reve columns that have no effect on testing like ids and timestamps\n",
        "to_remove=['Unique Id','Order_id','Issue_reported at','issue_responded','Issue_reported at {formatted}','issue_responded {formatted}','Survey_response_Date']\n",
        "#loop thrugh colmns and drop if they exist in dataframe\n",
        "df.drop(columns=[col for col in to_remove if col in df.columns],axis=1,inplace=True)"
      ],
      "metadata": {
        "id": "ZtMbhnNYgnM8"
      },
      "execution_count": 43,
      "outputs": []
    },
    {
      "cell_type": "markdown",
      "source": [
        "Textual Data Preprocessing"
      ],
      "metadata": {
        "id": "wzRLuzIsiDK9"
      }
    },
    {
      "cell_type": "code",
      "source": [
        "df.head()"
      ],
      "metadata": {
        "colab": {
          "base_uri": "https://localhost:8080/",
          "height": 504
        },
        "id": "VjTr-484iBys",
        "outputId": "9ac0ea06-e5de-4852-bd0e-f2aeb1f2bbf5"
      },
      "execution_count": 44,
      "outputs": [
        {
          "output_type": "execute_result",
          "data": {
            "text/plain": [
              "                              Unique id channel_name         category  \\\n",
              "0  7e9ae164-6a8b-4521-a2d4-58f7c9fff13f      Outcall  Product Queries   \n",
              "1  b07ec1b0-f376-43b6-86df-ec03da3b2e16      Outcall  Product Queries   \n",
              "2  200814dd-27c7-4149-ba2b-bd3af3092880      Inbound    Order Related   \n",
              "3  eb0d3e53-c1ca-42d3-8486-e42c8d622135      Inbound          Returns   \n",
              "4  ba903143-1e54-406c-b969-46c52f92e5df      Inbound     Cancellation   \n",
              "\n",
              "                   Sub-category           Agent_name      Supervisor  \\\n",
              "0                Life Insurance     Richard Buchanan     Mason Gupta   \n",
              "1  Product Specific Information        Vicki Collins       Dylan Kim   \n",
              "2             Installation/demo         Duane Norman    Jackson Park   \n",
              "3        Reverse Pickup Enquiry       Patrick Flores     Olivia Wang   \n",
              "4                    Not Needed  Christopher Sanchez  Austin Johnson   \n",
              "\n",
              "           Manager    Tenure Bucket Agent Shift  CSAT Score  response_time  \\\n",
              "0  Jennifer Nguyen  On Job Training     Morning           5         2040.0   \n",
              "1      Michael Lee              >90     Morning           5          120.0   \n",
              "2      William Kim  On Job Training     Evening           5         1320.0   \n",
              "3       John Smith              >90     Evening           5         1200.0   \n",
              "4      Michael Lee             0-30     Morning           5          120.0   \n",
              "\n",
              "   Time difference  \n",
              "0             34.0  \n",
              "1              2.0  \n",
              "2             22.0  \n",
              "3             20.0  \n",
              "4              2.0  "
            ],
            "text/html": [
              "\n",
              "  <div id=\"df-d1ceb3a1-1a94-49f7-8903-756e5bedb1cc\" class=\"colab-df-container\">\n",
              "    <div>\n",
              "<style scoped>\n",
              "    .dataframe tbody tr th:only-of-type {\n",
              "        vertical-align: middle;\n",
              "    }\n",
              "\n",
              "    .dataframe tbody tr th {\n",
              "        vertical-align: top;\n",
              "    }\n",
              "\n",
              "    .dataframe thead th {\n",
              "        text-align: right;\n",
              "    }\n",
              "</style>\n",
              "<table border=\"1\" class=\"dataframe\">\n",
              "  <thead>\n",
              "    <tr style=\"text-align: right;\">\n",
              "      <th></th>\n",
              "      <th>Unique id</th>\n",
              "      <th>channel_name</th>\n",
              "      <th>category</th>\n",
              "      <th>Sub-category</th>\n",
              "      <th>Agent_name</th>\n",
              "      <th>Supervisor</th>\n",
              "      <th>Manager</th>\n",
              "      <th>Tenure Bucket</th>\n",
              "      <th>Agent Shift</th>\n",
              "      <th>CSAT Score</th>\n",
              "      <th>response_time</th>\n",
              "      <th>Time difference</th>\n",
              "    </tr>\n",
              "  </thead>\n",
              "  <tbody>\n",
              "    <tr>\n",
              "      <th>0</th>\n",
              "      <td>7e9ae164-6a8b-4521-a2d4-58f7c9fff13f</td>\n",
              "      <td>Outcall</td>\n",
              "      <td>Product Queries</td>\n",
              "      <td>Life Insurance</td>\n",
              "      <td>Richard Buchanan</td>\n",
              "      <td>Mason Gupta</td>\n",
              "      <td>Jennifer Nguyen</td>\n",
              "      <td>On Job Training</td>\n",
              "      <td>Morning</td>\n",
              "      <td>5</td>\n",
              "      <td>2040.0</td>\n",
              "      <td>34.0</td>\n",
              "    </tr>\n",
              "    <tr>\n",
              "      <th>1</th>\n",
              "      <td>b07ec1b0-f376-43b6-86df-ec03da3b2e16</td>\n",
              "      <td>Outcall</td>\n",
              "      <td>Product Queries</td>\n",
              "      <td>Product Specific Information</td>\n",
              "      <td>Vicki Collins</td>\n",
              "      <td>Dylan Kim</td>\n",
              "      <td>Michael Lee</td>\n",
              "      <td>&gt;90</td>\n",
              "      <td>Morning</td>\n",
              "      <td>5</td>\n",
              "      <td>120.0</td>\n",
              "      <td>2.0</td>\n",
              "    </tr>\n",
              "    <tr>\n",
              "      <th>2</th>\n",
              "      <td>200814dd-27c7-4149-ba2b-bd3af3092880</td>\n",
              "      <td>Inbound</td>\n",
              "      <td>Order Related</td>\n",
              "      <td>Installation/demo</td>\n",
              "      <td>Duane Norman</td>\n",
              "      <td>Jackson Park</td>\n",
              "      <td>William Kim</td>\n",
              "      <td>On Job Training</td>\n",
              "      <td>Evening</td>\n",
              "      <td>5</td>\n",
              "      <td>1320.0</td>\n",
              "      <td>22.0</td>\n",
              "    </tr>\n",
              "    <tr>\n",
              "      <th>3</th>\n",
              "      <td>eb0d3e53-c1ca-42d3-8486-e42c8d622135</td>\n",
              "      <td>Inbound</td>\n",
              "      <td>Returns</td>\n",
              "      <td>Reverse Pickup Enquiry</td>\n",
              "      <td>Patrick Flores</td>\n",
              "      <td>Olivia Wang</td>\n",
              "      <td>John Smith</td>\n",
              "      <td>&gt;90</td>\n",
              "      <td>Evening</td>\n",
              "      <td>5</td>\n",
              "      <td>1200.0</td>\n",
              "      <td>20.0</td>\n",
              "    </tr>\n",
              "    <tr>\n",
              "      <th>4</th>\n",
              "      <td>ba903143-1e54-406c-b969-46c52f92e5df</td>\n",
              "      <td>Inbound</td>\n",
              "      <td>Cancellation</td>\n",
              "      <td>Not Needed</td>\n",
              "      <td>Christopher Sanchez</td>\n",
              "      <td>Austin Johnson</td>\n",
              "      <td>Michael Lee</td>\n",
              "      <td>0-30</td>\n",
              "      <td>Morning</td>\n",
              "      <td>5</td>\n",
              "      <td>120.0</td>\n",
              "      <td>2.0</td>\n",
              "    </tr>\n",
              "  </tbody>\n",
              "</table>\n",
              "</div>\n",
              "    <div class=\"colab-df-buttons\">\n",
              "\n",
              "  <div class=\"colab-df-container\">\n",
              "    <button class=\"colab-df-convert\" onclick=\"convertToInteractive('df-d1ceb3a1-1a94-49f7-8903-756e5bedb1cc')\"\n",
              "            title=\"Convert this dataframe to an interactive table.\"\n",
              "            style=\"display:none;\">\n",
              "\n",
              "  <svg xmlns=\"http://www.w3.org/2000/svg\" height=\"24px\" viewBox=\"0 -960 960 960\">\n",
              "    <path d=\"M120-120v-720h720v720H120Zm60-500h600v-160H180v160Zm220 220h160v-160H400v160Zm0 220h160v-160H400v160ZM180-400h160v-160H180v160Zm440 0h160v-160H620v160ZM180-180h160v-160H180v160Zm440 0h160v-160H620v160Z\"/>\n",
              "  </svg>\n",
              "    </button>\n",
              "\n",
              "  <style>\n",
              "    .colab-df-container {\n",
              "      display:flex;\n",
              "      gap: 12px;\n",
              "    }\n",
              "\n",
              "    .colab-df-convert {\n",
              "      background-color: #E8F0FE;\n",
              "      border: none;\n",
              "      border-radius: 50%;\n",
              "      cursor: pointer;\n",
              "      display: none;\n",
              "      fill: #1967D2;\n",
              "      height: 32px;\n",
              "      padding: 0 0 0 0;\n",
              "      width: 32px;\n",
              "    }\n",
              "\n",
              "    .colab-df-convert:hover {\n",
              "      background-color: #E2EBFA;\n",
              "      box-shadow: 0px 1px 2px rgba(60, 64, 67, 0.3), 0px 1px 3px 1px rgba(60, 64, 67, 0.15);\n",
              "      fill: #174EA6;\n",
              "    }\n",
              "\n",
              "    .colab-df-buttons div {\n",
              "      margin-bottom: 4px;\n",
              "    }\n",
              "\n",
              "    [theme=dark] .colab-df-convert {\n",
              "      background-color: #3B4455;\n",
              "      fill: #D2E3FC;\n",
              "    }\n",
              "\n",
              "    [theme=dark] .colab-df-convert:hover {\n",
              "      background-color: #434B5C;\n",
              "      box-shadow: 0px 1px 3px 1px rgba(0, 0, 0, 0.15);\n",
              "      filter: drop-shadow(0px 1px 2px rgba(0, 0, 0, 0.3));\n",
              "      fill: #FFFFFF;\n",
              "    }\n",
              "  </style>\n",
              "\n",
              "    <script>\n",
              "      const buttonEl =\n",
              "        document.querySelector('#df-d1ceb3a1-1a94-49f7-8903-756e5bedb1cc button.colab-df-convert');\n",
              "      buttonEl.style.display =\n",
              "        google.colab.kernel.accessAllowed ? 'block' : 'none';\n",
              "\n",
              "      async function convertToInteractive(key) {\n",
              "        const element = document.querySelector('#df-d1ceb3a1-1a94-49f7-8903-756e5bedb1cc');\n",
              "        const dataTable =\n",
              "          await google.colab.kernel.invokeFunction('convertToInteractive',\n",
              "                                                    [key], {});\n",
              "        if (!dataTable) return;\n",
              "\n",
              "        const docLinkHtml = 'Like what you see? Visit the ' +\n",
              "          '<a target=\"_blank\" href=https://colab.research.google.com/notebooks/data_table.ipynb>data table notebook</a>'\n",
              "          + ' to learn more about interactive tables.';\n",
              "        element.innerHTML = '';\n",
              "        dataTable['output_type'] = 'display_data';\n",
              "        await google.colab.output.renderOutput(dataTable, element);\n",
              "        const docLink = document.createElement('div');\n",
              "        docLink.innerHTML = docLinkHtml;\n",
              "        element.appendChild(docLink);\n",
              "      }\n",
              "    </script>\n",
              "  </div>\n",
              "\n",
              "\n",
              "    <div id=\"df-01a06b72-8a28-4702-8b28-db433a89118d\">\n",
              "      <button class=\"colab-df-quickchart\" onclick=\"quickchart('df-01a06b72-8a28-4702-8b28-db433a89118d')\"\n",
              "                title=\"Suggest charts\"\n",
              "                style=\"display:none;\">\n",
              "\n",
              "<svg xmlns=\"http://www.w3.org/2000/svg\" height=\"24px\"viewBox=\"0 0 24 24\"\n",
              "     width=\"24px\">\n",
              "    <g>\n",
              "        <path d=\"M19 3H5c-1.1 0-2 .9-2 2v14c0 1.1.9 2 2 2h14c1.1 0 2-.9 2-2V5c0-1.1-.9-2-2-2zM9 17H7v-7h2v7zm4 0h-2V7h2v10zm4 0h-2v-4h2v4z\"/>\n",
              "    </g>\n",
              "</svg>\n",
              "      </button>\n",
              "\n",
              "<style>\n",
              "  .colab-df-quickchart {\n",
              "      --bg-color: #E8F0FE;\n",
              "      --fill-color: #1967D2;\n",
              "      --hover-bg-color: #E2EBFA;\n",
              "      --hover-fill-color: #174EA6;\n",
              "      --disabled-fill-color: #AAA;\n",
              "      --disabled-bg-color: #DDD;\n",
              "  }\n",
              "\n",
              "  [theme=dark] .colab-df-quickchart {\n",
              "      --bg-color: #3B4455;\n",
              "      --fill-color: #D2E3FC;\n",
              "      --hover-bg-color: #434B5C;\n",
              "      --hover-fill-color: #FFFFFF;\n",
              "      --disabled-bg-color: #3B4455;\n",
              "      --disabled-fill-color: #666;\n",
              "  }\n",
              "\n",
              "  .colab-df-quickchart {\n",
              "    background-color: var(--bg-color);\n",
              "    border: none;\n",
              "    border-radius: 50%;\n",
              "    cursor: pointer;\n",
              "    display: none;\n",
              "    fill: var(--fill-color);\n",
              "    height: 32px;\n",
              "    padding: 0;\n",
              "    width: 32px;\n",
              "  }\n",
              "\n",
              "  .colab-df-quickchart:hover {\n",
              "    background-color: var(--hover-bg-color);\n",
              "    box-shadow: 0 1px 2px rgba(60, 64, 67, 0.3), 0 1px 3px 1px rgba(60, 64, 67, 0.15);\n",
              "    fill: var(--button-hover-fill-color);\n",
              "  }\n",
              "\n",
              "  .colab-df-quickchart-complete:disabled,\n",
              "  .colab-df-quickchart-complete:disabled:hover {\n",
              "    background-color: var(--disabled-bg-color);\n",
              "    fill: var(--disabled-fill-color);\n",
              "    box-shadow: none;\n",
              "  }\n",
              "\n",
              "  .colab-df-spinner {\n",
              "    border: 2px solid var(--fill-color);\n",
              "    border-color: transparent;\n",
              "    border-bottom-color: var(--fill-color);\n",
              "    animation:\n",
              "      spin 1s steps(1) infinite;\n",
              "  }\n",
              "\n",
              "  @keyframes spin {\n",
              "    0% {\n",
              "      border-color: transparent;\n",
              "      border-bottom-color: var(--fill-color);\n",
              "      border-left-color: var(--fill-color);\n",
              "    }\n",
              "    20% {\n",
              "      border-color: transparent;\n",
              "      border-left-color: var(--fill-color);\n",
              "      border-top-color: var(--fill-color);\n",
              "    }\n",
              "    30% {\n",
              "      border-color: transparent;\n",
              "      border-left-color: var(--fill-color);\n",
              "      border-top-color: var(--fill-color);\n",
              "      border-right-color: var(--fill-color);\n",
              "    }\n",
              "    40% {\n",
              "      border-color: transparent;\n",
              "      border-right-color: var(--fill-color);\n",
              "      border-top-color: var(--fill-color);\n",
              "    }\n",
              "    60% {\n",
              "      border-color: transparent;\n",
              "      border-right-color: var(--fill-color);\n",
              "    }\n",
              "    80% {\n",
              "      border-color: transparent;\n",
              "      border-right-color: var(--fill-color);\n",
              "      border-bottom-color: var(--fill-color);\n",
              "    }\n",
              "    90% {\n",
              "      border-color: transparent;\n",
              "      border-bottom-color: var(--fill-color);\n",
              "    }\n",
              "  }\n",
              "</style>\n",
              "\n",
              "      <script>\n",
              "        async function quickchart(key) {\n",
              "          const quickchartButtonEl =\n",
              "            document.querySelector('#' + key + ' button');\n",
              "          quickchartButtonEl.disabled = true;  // To prevent multiple clicks.\n",
              "          quickchartButtonEl.classList.add('colab-df-spinner');\n",
              "          try {\n",
              "            const charts = await google.colab.kernel.invokeFunction(\n",
              "                'suggestCharts', [key], {});\n",
              "          } catch (error) {\n",
              "            console.error('Error during call to suggestCharts:', error);\n",
              "          }\n",
              "          quickchartButtonEl.classList.remove('colab-df-spinner');\n",
              "          quickchartButtonEl.classList.add('colab-df-quickchart-complete');\n",
              "        }\n",
              "        (() => {\n",
              "          let quickchartButtonEl =\n",
              "            document.querySelector('#df-01a06b72-8a28-4702-8b28-db433a89118d button');\n",
              "          quickchartButtonEl.style.display =\n",
              "            google.colab.kernel.accessAllowed ? 'block' : 'none';\n",
              "        })();\n",
              "      </script>\n",
              "    </div>\n",
              "\n",
              "    </div>\n",
              "  </div>\n"
            ],
            "application/vnd.google.colaboratory.intrinsic+json": {
              "type": "dataframe",
              "variable_name": "df",
              "summary": "{\n  \"name\": \"df\",\n  \"rows\": 85907,\n  \"fields\": [\n    {\n      \"column\": \"Unique id\",\n      \"properties\": {\n        \"dtype\": \"string\",\n        \"num_unique_values\": 85907,\n        \"samples\": [\n          \"fc42f862-7521-472c-b569-8bce866ebe8c\",\n          \"a7bb8900-a120-430f-b573-55ed6c16faab\",\n          \"b697f809-0d10-4839-9ccd-152ab6a179f4\"\n        ],\n        \"semantic_type\": \"\",\n        \"description\": \"\"\n      }\n    },\n    {\n      \"column\": \"channel_name\",\n      \"properties\": {\n        \"dtype\": \"category\",\n        \"num_unique_values\": 3,\n        \"samples\": [\n          \"Outcall\",\n          \"Inbound\",\n          \"Email\"\n        ],\n        \"semantic_type\": \"\",\n        \"description\": \"\"\n      }\n    },\n    {\n      \"column\": \"category\",\n      \"properties\": {\n        \"dtype\": \"category\",\n        \"num_unique_values\": 12,\n        \"samples\": [\n          \"Others\",\n          \"Onboarding related\",\n          \"Product Queries\"\n        ],\n        \"semantic_type\": \"\",\n        \"description\": \"\"\n      }\n    },\n    {\n      \"column\": \"Sub-category\",\n      \"properties\": {\n        \"dtype\": \"category\",\n        \"num_unique_values\": 57,\n        \"samples\": [\n          \"Life Insurance\",\n          \"Fraudulent User\",\n          \"Card/EMI\"\n        ],\n        \"semantic_type\": \"\",\n        \"description\": \"\"\n      }\n    },\n    {\n      \"column\": \"Agent_name\",\n      \"properties\": {\n        \"dtype\": \"category\",\n        \"num_unique_values\": 1371,\n        \"samples\": [\n          \"Kimberly Morris\",\n          \"Russell Ramsey\",\n          \"Joshua Foster\"\n        ],\n        \"semantic_type\": \"\",\n        \"description\": \"\"\n      }\n    },\n    {\n      \"column\": \"Supervisor\",\n      \"properties\": {\n        \"dtype\": \"category\",\n        \"num_unique_values\": 40,\n        \"samples\": [\n          \"Madison Kim\",\n          \"Mia Patel\",\n          \"Logan Lee\"\n        ],\n        \"semantic_type\": \"\",\n        \"description\": \"\"\n      }\n    },\n    {\n      \"column\": \"Manager\",\n      \"properties\": {\n        \"dtype\": \"category\",\n        \"num_unique_values\": 6,\n        \"samples\": [\n          \"Jennifer Nguyen\",\n          \"Michael Lee\",\n          \"Emily Chen\"\n        ],\n        \"semantic_type\": \"\",\n        \"description\": \"\"\n      }\n    },\n    {\n      \"column\": \"Tenure Bucket\",\n      \"properties\": {\n        \"dtype\": \"category\",\n        \"num_unique_values\": 5,\n        \"samples\": [\n          \">90\",\n          \"61-90\",\n          \"0-30\"\n        ],\n        \"semantic_type\": \"\",\n        \"description\": \"\"\n      }\n    },\n    {\n      \"column\": \"Agent Shift\",\n      \"properties\": {\n        \"dtype\": \"category\",\n        \"num_unique_values\": 5,\n        \"samples\": [\n          \"Evening\",\n          \"Night\",\n          \"Split\"\n        ],\n        \"semantic_type\": \"\",\n        \"description\": \"\"\n      }\n    },\n    {\n      \"column\": \"CSAT Score\",\n      \"properties\": {\n        \"dtype\": \"number\",\n        \"std\": 1,\n        \"min\": 1,\n        \"max\": 5,\n        \"num_unique_values\": 5,\n        \"samples\": [\n          4,\n          2,\n          1\n        ],\n        \"semantic_type\": \"\",\n        \"description\": \"\"\n      }\n    },\n    {\n      \"column\": \"response_time\",\n      \"properties\": {\n        \"dtype\": \"number\",\n        \"std\": 637377.8938145142,\n        \"min\": 0.0,\n        \"max\": 10625820.0,\n        \"num_unique_values\": 2843,\n        \"samples\": [\n          2654520.0,\n          2614440.0,\n          2558280.0\n        ],\n        \"semantic_type\": \"\",\n        \"description\": \"\"\n      }\n    },\n    {\n      \"column\": \"Time difference\",\n      \"properties\": {\n        \"dtype\": \"number\",\n        \"std\": 10622.964896870488,\n        \"min\": 0.0,\n        \"max\": 177097.0,\n        \"num_unique_values\": 2843,\n        \"samples\": [\n          44242.0,\n          43574.0,\n          42638.0\n        ],\n        \"semantic_type\": \"\",\n        \"description\": \"\"\n      }\n    }\n  ]\n}"
            }
          },
          "metadata": {},
          "execution_count": 44
        }
      ]
    },
    {
      "cell_type": "markdown",
      "source": [
        "Lower Casting"
      ],
      "metadata": {
        "id": "Eo9mgeGnjJen"
      }
    },
    {
      "cell_type": "code",
      "source": [
        "#lowe Casting\n",
        "columns_to_clean=['channel_name','category','Sub-category','Manager',\"Agent_name\",'Supervisor','Tenure Bucket','Agent Shift']\n",
        "#convert specific column to lower case\n",
        "df[columns_to_clean]=df[columns_to_clean].applymap(lambda x: x.lower() if isinstance(x,str) else x)"
      ],
      "metadata": {
        "colab": {
          "base_uri": "https://localhost:8080/"
        },
        "id": "FXTFMBAAjPHp",
        "outputId": "7c8bfd6f-8b00-4e09-ed69-4086451dd3ac"
      },
      "execution_count": 45,
      "outputs": [
        {
          "output_type": "stream",
          "name": "stderr",
          "text": [
            "/tmp/ipython-input-1147573621.py:4: FutureWarning: DataFrame.applymap has been deprecated. Use DataFrame.map instead.\n",
            "  df[columns_to_clean]=df[columns_to_clean].applymap(lambda x: x.lower() if isinstance(x,str) else x)\n"
          ]
        }
      ]
    },
    {
      "cell_type": "markdown",
      "source": [
        "Removing puntuation\n"
      ],
      "metadata": {
        "id": "GsJZZEuVk4lq"
      }
    },
    {
      "cell_type": "code",
      "source": [
        "#remove puntuation from specified column\n",
        "import string\n",
        "for col in columns_to_clean:\n",
        "  if col in df.columns:\n",
        "    df[col]=df[col].str.replace(f'[{string.punctuation}]','',regex=True)"
      ],
      "metadata": {
        "id": "-ml8pAgBk-Oj"
      },
      "execution_count": 46,
      "outputs": []
    },
    {
      "cell_type": "markdown",
      "source": [
        "Removing url and words and digits contain digits"
      ],
      "metadata": {
        "id": "7250IGASlz91"
      }
    },
    {
      "cell_type": "code",
      "source": [
        "#remove urls and words and digits contain digit\n",
        "for col in columns_to_clean:\n",
        "  if col in df.columns:\n",
        "    df[col]=df[col].str.replace(r'http\\S+|www\\S+|https\\S+','',regex=True)\n",
        "    df[col]=df[col].str.replace('\\b\\w*\\d\\w*\\b','',regex=True)"
      ],
      "metadata": {
        "colab": {
          "base_uri": "https://localhost:8080/"
        },
        "id": "WYsvfgmLly3g",
        "outputId": "b188aeb2-eac9-42a4-f762-dfcc522867e8"
      },
      "execution_count": 47,
      "outputs": [
        {
          "output_type": "stream",
          "name": "stderr",
          "text": [
            "<>:5: SyntaxWarning: invalid escape sequence '\\w'\n",
            "<>:5: SyntaxWarning: invalid escape sequence '\\w'\n",
            "/tmp/ipython-input-2898558631.py:5: SyntaxWarning: invalid escape sequence '\\w'\n",
            "  df[col]=df[col].str.replace('\\b\\w*\\d\\w*\\b','',regex=True)\n"
          ]
        }
      ]
    },
    {
      "cell_type": "markdown",
      "source": [
        "Removing White Spaces"
      ],
      "metadata": {
        "id": "hE7taJrPmyic"
      }
    },
    {
      "cell_type": "code",
      "source": [
        "#remove white space\n",
        "for col in columns_to_clean:\n",
        "  if col in df.columns:\n",
        "    df[col]=df[col].str.strip()\n",
        "df.head()"
      ],
      "metadata": {
        "colab": {
          "base_uri": "https://localhost:8080/",
          "height": 504
        },
        "id": "BUH3EGFHmxlI",
        "outputId": "9ba901a9-d9b6-4d01-b220-e421e90a547f"
      },
      "execution_count": 48,
      "outputs": [
        {
          "output_type": "execute_result",
          "data": {
            "text/plain": [
              "                              Unique id channel_name         category  \\\n",
              "0  7e9ae164-6a8b-4521-a2d4-58f7c9fff13f      outcall  product queries   \n",
              "1  b07ec1b0-f376-43b6-86df-ec03da3b2e16      outcall  product queries   \n",
              "2  200814dd-27c7-4149-ba2b-bd3af3092880      inbound    order related   \n",
              "3  eb0d3e53-c1ca-42d3-8486-e42c8d622135      inbound          returns   \n",
              "4  ba903143-1e54-406c-b969-46c52f92e5df      inbound     cancellation   \n",
              "\n",
              "                   Sub-category           Agent_name      Supervisor  \\\n",
              "0                life insurance     richard buchanan     mason gupta   \n",
              "1  product specific information        vicki collins       dylan kim   \n",
              "2              installationdemo         duane norman    jackson park   \n",
              "3        reverse pickup enquiry       patrick flores     olivia wang   \n",
              "4                    not needed  christopher sanchez  austin johnson   \n",
              "\n",
              "           Manager    Tenure Bucket Agent Shift  CSAT Score  response_time  \\\n",
              "0  jennifer nguyen  on job training     morning           5         2040.0   \n",
              "1      michael lee               90     morning           5          120.0   \n",
              "2      william kim  on job training     evening           5         1320.0   \n",
              "3       john smith               90     evening           5         1200.0   \n",
              "4      michael lee              030     morning           5          120.0   \n",
              "\n",
              "   Time difference  \n",
              "0             34.0  \n",
              "1              2.0  \n",
              "2             22.0  \n",
              "3             20.0  \n",
              "4              2.0  "
            ],
            "text/html": [
              "\n",
              "  <div id=\"df-7e4e99e4-4fec-4825-aa7a-32e10a9bba26\" class=\"colab-df-container\">\n",
              "    <div>\n",
              "<style scoped>\n",
              "    .dataframe tbody tr th:only-of-type {\n",
              "        vertical-align: middle;\n",
              "    }\n",
              "\n",
              "    .dataframe tbody tr th {\n",
              "        vertical-align: top;\n",
              "    }\n",
              "\n",
              "    .dataframe thead th {\n",
              "        text-align: right;\n",
              "    }\n",
              "</style>\n",
              "<table border=\"1\" class=\"dataframe\">\n",
              "  <thead>\n",
              "    <tr style=\"text-align: right;\">\n",
              "      <th></th>\n",
              "      <th>Unique id</th>\n",
              "      <th>channel_name</th>\n",
              "      <th>category</th>\n",
              "      <th>Sub-category</th>\n",
              "      <th>Agent_name</th>\n",
              "      <th>Supervisor</th>\n",
              "      <th>Manager</th>\n",
              "      <th>Tenure Bucket</th>\n",
              "      <th>Agent Shift</th>\n",
              "      <th>CSAT Score</th>\n",
              "      <th>response_time</th>\n",
              "      <th>Time difference</th>\n",
              "    </tr>\n",
              "  </thead>\n",
              "  <tbody>\n",
              "    <tr>\n",
              "      <th>0</th>\n",
              "      <td>7e9ae164-6a8b-4521-a2d4-58f7c9fff13f</td>\n",
              "      <td>outcall</td>\n",
              "      <td>product queries</td>\n",
              "      <td>life insurance</td>\n",
              "      <td>richard buchanan</td>\n",
              "      <td>mason gupta</td>\n",
              "      <td>jennifer nguyen</td>\n",
              "      <td>on job training</td>\n",
              "      <td>morning</td>\n",
              "      <td>5</td>\n",
              "      <td>2040.0</td>\n",
              "      <td>34.0</td>\n",
              "    </tr>\n",
              "    <tr>\n",
              "      <th>1</th>\n",
              "      <td>b07ec1b0-f376-43b6-86df-ec03da3b2e16</td>\n",
              "      <td>outcall</td>\n",
              "      <td>product queries</td>\n",
              "      <td>product specific information</td>\n",
              "      <td>vicki collins</td>\n",
              "      <td>dylan kim</td>\n",
              "      <td>michael lee</td>\n",
              "      <td>90</td>\n",
              "      <td>morning</td>\n",
              "      <td>5</td>\n",
              "      <td>120.0</td>\n",
              "      <td>2.0</td>\n",
              "    </tr>\n",
              "    <tr>\n",
              "      <th>2</th>\n",
              "      <td>200814dd-27c7-4149-ba2b-bd3af3092880</td>\n",
              "      <td>inbound</td>\n",
              "      <td>order related</td>\n",
              "      <td>installationdemo</td>\n",
              "      <td>duane norman</td>\n",
              "      <td>jackson park</td>\n",
              "      <td>william kim</td>\n",
              "      <td>on job training</td>\n",
              "      <td>evening</td>\n",
              "      <td>5</td>\n",
              "      <td>1320.0</td>\n",
              "      <td>22.0</td>\n",
              "    </tr>\n",
              "    <tr>\n",
              "      <th>3</th>\n",
              "      <td>eb0d3e53-c1ca-42d3-8486-e42c8d622135</td>\n",
              "      <td>inbound</td>\n",
              "      <td>returns</td>\n",
              "      <td>reverse pickup enquiry</td>\n",
              "      <td>patrick flores</td>\n",
              "      <td>olivia wang</td>\n",
              "      <td>john smith</td>\n",
              "      <td>90</td>\n",
              "      <td>evening</td>\n",
              "      <td>5</td>\n",
              "      <td>1200.0</td>\n",
              "      <td>20.0</td>\n",
              "    </tr>\n",
              "    <tr>\n",
              "      <th>4</th>\n",
              "      <td>ba903143-1e54-406c-b969-46c52f92e5df</td>\n",
              "      <td>inbound</td>\n",
              "      <td>cancellation</td>\n",
              "      <td>not needed</td>\n",
              "      <td>christopher sanchez</td>\n",
              "      <td>austin johnson</td>\n",
              "      <td>michael lee</td>\n",
              "      <td>030</td>\n",
              "      <td>morning</td>\n",
              "      <td>5</td>\n",
              "      <td>120.0</td>\n",
              "      <td>2.0</td>\n",
              "    </tr>\n",
              "  </tbody>\n",
              "</table>\n",
              "</div>\n",
              "    <div class=\"colab-df-buttons\">\n",
              "\n",
              "  <div class=\"colab-df-container\">\n",
              "    <button class=\"colab-df-convert\" onclick=\"convertToInteractive('df-7e4e99e4-4fec-4825-aa7a-32e10a9bba26')\"\n",
              "            title=\"Convert this dataframe to an interactive table.\"\n",
              "            style=\"display:none;\">\n",
              "\n",
              "  <svg xmlns=\"http://www.w3.org/2000/svg\" height=\"24px\" viewBox=\"0 -960 960 960\">\n",
              "    <path d=\"M120-120v-720h720v720H120Zm60-500h600v-160H180v160Zm220 220h160v-160H400v160Zm0 220h160v-160H400v160ZM180-400h160v-160H180v160Zm440 0h160v-160H620v160ZM180-180h160v-160H180v160Zm440 0h160v-160H620v160Z\"/>\n",
              "  </svg>\n",
              "    </button>\n",
              "\n",
              "  <style>\n",
              "    .colab-df-container {\n",
              "      display:flex;\n",
              "      gap: 12px;\n",
              "    }\n",
              "\n",
              "    .colab-df-convert {\n",
              "      background-color: #E8F0FE;\n",
              "      border: none;\n",
              "      border-radius: 50%;\n",
              "      cursor: pointer;\n",
              "      display: none;\n",
              "      fill: #1967D2;\n",
              "      height: 32px;\n",
              "      padding: 0 0 0 0;\n",
              "      width: 32px;\n",
              "    }\n",
              "\n",
              "    .colab-df-convert:hover {\n",
              "      background-color: #E2EBFA;\n",
              "      box-shadow: 0px 1px 2px rgba(60, 64, 67, 0.3), 0px 1px 3px 1px rgba(60, 64, 67, 0.15);\n",
              "      fill: #174EA6;\n",
              "    }\n",
              "\n",
              "    .colab-df-buttons div {\n",
              "      margin-bottom: 4px;\n",
              "    }\n",
              "\n",
              "    [theme=dark] .colab-df-convert {\n",
              "      background-color: #3B4455;\n",
              "      fill: #D2E3FC;\n",
              "    }\n",
              "\n",
              "    [theme=dark] .colab-df-convert:hover {\n",
              "      background-color: #434B5C;\n",
              "      box-shadow: 0px 1px 3px 1px rgba(0, 0, 0, 0.15);\n",
              "      filter: drop-shadow(0px 1px 2px rgba(0, 0, 0, 0.3));\n",
              "      fill: #FFFFFF;\n",
              "    }\n",
              "  </style>\n",
              "\n",
              "    <script>\n",
              "      const buttonEl =\n",
              "        document.querySelector('#df-7e4e99e4-4fec-4825-aa7a-32e10a9bba26 button.colab-df-convert');\n",
              "      buttonEl.style.display =\n",
              "        google.colab.kernel.accessAllowed ? 'block' : 'none';\n",
              "\n",
              "      async function convertToInteractive(key) {\n",
              "        const element = document.querySelector('#df-7e4e99e4-4fec-4825-aa7a-32e10a9bba26');\n",
              "        const dataTable =\n",
              "          await google.colab.kernel.invokeFunction('convertToInteractive',\n",
              "                                                    [key], {});\n",
              "        if (!dataTable) return;\n",
              "\n",
              "        const docLinkHtml = 'Like what you see? Visit the ' +\n",
              "          '<a target=\"_blank\" href=https://colab.research.google.com/notebooks/data_table.ipynb>data table notebook</a>'\n",
              "          + ' to learn more about interactive tables.';\n",
              "        element.innerHTML = '';\n",
              "        dataTable['output_type'] = 'display_data';\n",
              "        await google.colab.output.renderOutput(dataTable, element);\n",
              "        const docLink = document.createElement('div');\n",
              "        docLink.innerHTML = docLinkHtml;\n",
              "        element.appendChild(docLink);\n",
              "      }\n",
              "    </script>\n",
              "  </div>\n",
              "\n",
              "\n",
              "    <div id=\"df-7dbddb52-07ad-46da-86a3-dae858c2b1e7\">\n",
              "      <button class=\"colab-df-quickchart\" onclick=\"quickchart('df-7dbddb52-07ad-46da-86a3-dae858c2b1e7')\"\n",
              "                title=\"Suggest charts\"\n",
              "                style=\"display:none;\">\n",
              "\n",
              "<svg xmlns=\"http://www.w3.org/2000/svg\" height=\"24px\"viewBox=\"0 0 24 24\"\n",
              "     width=\"24px\">\n",
              "    <g>\n",
              "        <path d=\"M19 3H5c-1.1 0-2 .9-2 2v14c0 1.1.9 2 2 2h14c1.1 0 2-.9 2-2V5c0-1.1-.9-2-2-2zM9 17H7v-7h2v7zm4 0h-2V7h2v10zm4 0h-2v-4h2v4z\"/>\n",
              "    </g>\n",
              "</svg>\n",
              "      </button>\n",
              "\n",
              "<style>\n",
              "  .colab-df-quickchart {\n",
              "      --bg-color: #E8F0FE;\n",
              "      --fill-color: #1967D2;\n",
              "      --hover-bg-color: #E2EBFA;\n",
              "      --hover-fill-color: #174EA6;\n",
              "      --disabled-fill-color: #AAA;\n",
              "      --disabled-bg-color: #DDD;\n",
              "  }\n",
              "\n",
              "  [theme=dark] .colab-df-quickchart {\n",
              "      --bg-color: #3B4455;\n",
              "      --fill-color: #D2E3FC;\n",
              "      --hover-bg-color: #434B5C;\n",
              "      --hover-fill-color: #FFFFFF;\n",
              "      --disabled-bg-color: #3B4455;\n",
              "      --disabled-fill-color: #666;\n",
              "  }\n",
              "\n",
              "  .colab-df-quickchart {\n",
              "    background-color: var(--bg-color);\n",
              "    border: none;\n",
              "    border-radius: 50%;\n",
              "    cursor: pointer;\n",
              "    display: none;\n",
              "    fill: var(--fill-color);\n",
              "    height: 32px;\n",
              "    padding: 0;\n",
              "    width: 32px;\n",
              "  }\n",
              "\n",
              "  .colab-df-quickchart:hover {\n",
              "    background-color: var(--hover-bg-color);\n",
              "    box-shadow: 0 1px 2px rgba(60, 64, 67, 0.3), 0 1px 3px 1px rgba(60, 64, 67, 0.15);\n",
              "    fill: var(--button-hover-fill-color);\n",
              "  }\n",
              "\n",
              "  .colab-df-quickchart-complete:disabled,\n",
              "  .colab-df-quickchart-complete:disabled:hover {\n",
              "    background-color: var(--disabled-bg-color);\n",
              "    fill: var(--disabled-fill-color);\n",
              "    box-shadow: none;\n",
              "  }\n",
              "\n",
              "  .colab-df-spinner {\n",
              "    border: 2px solid var(--fill-color);\n",
              "    border-color: transparent;\n",
              "    border-bottom-color: var(--fill-color);\n",
              "    animation:\n",
              "      spin 1s steps(1) infinite;\n",
              "  }\n",
              "\n",
              "  @keyframes spin {\n",
              "    0% {\n",
              "      border-color: transparent;\n",
              "      border-bottom-color: var(--fill-color);\n",
              "      border-left-color: var(--fill-color);\n",
              "    }\n",
              "    20% {\n",
              "      border-color: transparent;\n",
              "      border-left-color: var(--fill-color);\n",
              "      border-top-color: var(--fill-color);\n",
              "    }\n",
              "    30% {\n",
              "      border-color: transparent;\n",
              "      border-left-color: var(--fill-color);\n",
              "      border-top-color: var(--fill-color);\n",
              "      border-right-color: var(--fill-color);\n",
              "    }\n",
              "    40% {\n",
              "      border-color: transparent;\n",
              "      border-right-color: var(--fill-color);\n",
              "      border-top-color: var(--fill-color);\n",
              "    }\n",
              "    60% {\n",
              "      border-color: transparent;\n",
              "      border-right-color: var(--fill-color);\n",
              "    }\n",
              "    80% {\n",
              "      border-color: transparent;\n",
              "      border-right-color: var(--fill-color);\n",
              "      border-bottom-color: var(--fill-color);\n",
              "    }\n",
              "    90% {\n",
              "      border-color: transparent;\n",
              "      border-bottom-color: var(--fill-color);\n",
              "    }\n",
              "  }\n",
              "</style>\n",
              "\n",
              "      <script>\n",
              "        async function quickchart(key) {\n",
              "          const quickchartButtonEl =\n",
              "            document.querySelector('#' + key + ' button');\n",
              "          quickchartButtonEl.disabled = true;  // To prevent multiple clicks.\n",
              "          quickchartButtonEl.classList.add('colab-df-spinner');\n",
              "          try {\n",
              "            const charts = await google.colab.kernel.invokeFunction(\n",
              "                'suggestCharts', [key], {});\n",
              "          } catch (error) {\n",
              "            console.error('Error during call to suggestCharts:', error);\n",
              "          }\n",
              "          quickchartButtonEl.classList.remove('colab-df-spinner');\n",
              "          quickchartButtonEl.classList.add('colab-df-quickchart-complete');\n",
              "        }\n",
              "        (() => {\n",
              "          let quickchartButtonEl =\n",
              "            document.querySelector('#df-7dbddb52-07ad-46da-86a3-dae858c2b1e7 button');\n",
              "          quickchartButtonEl.style.display =\n",
              "            google.colab.kernel.accessAllowed ? 'block' : 'none';\n",
              "        })();\n",
              "      </script>\n",
              "    </div>\n",
              "\n",
              "    </div>\n",
              "  </div>\n"
            ],
            "application/vnd.google.colaboratory.intrinsic+json": {
              "type": "dataframe",
              "variable_name": "df",
              "summary": "{\n  \"name\": \"df\",\n  \"rows\": 85907,\n  \"fields\": [\n    {\n      \"column\": \"Unique id\",\n      \"properties\": {\n        \"dtype\": \"string\",\n        \"num_unique_values\": 85907,\n        \"samples\": [\n          \"fc42f862-7521-472c-b569-8bce866ebe8c\",\n          \"a7bb8900-a120-430f-b573-55ed6c16faab\",\n          \"b697f809-0d10-4839-9ccd-152ab6a179f4\"\n        ],\n        \"semantic_type\": \"\",\n        \"description\": \"\"\n      }\n    },\n    {\n      \"column\": \"channel_name\",\n      \"properties\": {\n        \"dtype\": \"category\",\n        \"num_unique_values\": 3,\n        \"samples\": [\n          \"outcall\",\n          \"inbound\",\n          \"email\"\n        ],\n        \"semantic_type\": \"\",\n        \"description\": \"\"\n      }\n    },\n    {\n      \"column\": \"category\",\n      \"properties\": {\n        \"dtype\": \"category\",\n        \"num_unique_values\": 12,\n        \"samples\": [\n          \"others\",\n          \"onboarding related\",\n          \"product queries\"\n        ],\n        \"semantic_type\": \"\",\n        \"description\": \"\"\n      }\n    },\n    {\n      \"column\": \"Sub-category\",\n      \"properties\": {\n        \"dtype\": \"category\",\n        \"num_unique_values\": 57,\n        \"samples\": [\n          \"life insurance\",\n          \"fraudulent user\",\n          \"cardemi\"\n        ],\n        \"semantic_type\": \"\",\n        \"description\": \"\"\n      }\n    },\n    {\n      \"column\": \"Agent_name\",\n      \"properties\": {\n        \"dtype\": \"category\",\n        \"num_unique_values\": 1371,\n        \"samples\": [\n          \"kimberly morris\",\n          \"russell ramsey\",\n          \"joshua foster\"\n        ],\n        \"semantic_type\": \"\",\n        \"description\": \"\"\n      }\n    },\n    {\n      \"column\": \"Supervisor\",\n      \"properties\": {\n        \"dtype\": \"category\",\n        \"num_unique_values\": 40,\n        \"samples\": [\n          \"madison kim\",\n          \"mia patel\",\n          \"logan lee\"\n        ],\n        \"semantic_type\": \"\",\n        \"description\": \"\"\n      }\n    },\n    {\n      \"column\": \"Manager\",\n      \"properties\": {\n        \"dtype\": \"category\",\n        \"num_unique_values\": 6,\n        \"samples\": [\n          \"jennifer nguyen\",\n          \"michael lee\",\n          \"emily chen\"\n        ],\n        \"semantic_type\": \"\",\n        \"description\": \"\"\n      }\n    },\n    {\n      \"column\": \"Tenure Bucket\",\n      \"properties\": {\n        \"dtype\": \"category\",\n        \"num_unique_values\": 5,\n        \"samples\": [\n          \"90\",\n          \"6190\",\n          \"030\"\n        ],\n        \"semantic_type\": \"\",\n        \"description\": \"\"\n      }\n    },\n    {\n      \"column\": \"Agent Shift\",\n      \"properties\": {\n        \"dtype\": \"category\",\n        \"num_unique_values\": 5,\n        \"samples\": [\n          \"evening\",\n          \"night\",\n          \"split\"\n        ],\n        \"semantic_type\": \"\",\n        \"description\": \"\"\n      }\n    },\n    {\n      \"column\": \"CSAT Score\",\n      \"properties\": {\n        \"dtype\": \"number\",\n        \"std\": 1,\n        \"min\": 1,\n        \"max\": 5,\n        \"num_unique_values\": 5,\n        \"samples\": [\n          4,\n          2,\n          1\n        ],\n        \"semantic_type\": \"\",\n        \"description\": \"\"\n      }\n    },\n    {\n      \"column\": \"response_time\",\n      \"properties\": {\n        \"dtype\": \"number\",\n        \"std\": 637377.8938145142,\n        \"min\": 0.0,\n        \"max\": 10625820.0,\n        \"num_unique_values\": 2843,\n        \"samples\": [\n          2654520.0,\n          2614440.0,\n          2558280.0\n        ],\n        \"semantic_type\": \"\",\n        \"description\": \"\"\n      }\n    },\n    {\n      \"column\": \"Time difference\",\n      \"properties\": {\n        \"dtype\": \"number\",\n        \"std\": 10622.964896870488,\n        \"min\": 0.0,\n        \"max\": 177097.0,\n        \"num_unique_values\": 2843,\n        \"samples\": [\n          44242.0,\n          43574.0,\n          42638.0\n        ],\n        \"semantic_type\": \"\",\n        \"description\": \"\"\n      }\n    }\n  ]\n}"
            }
          },
          "metadata": {},
          "execution_count": 48
        }
      ]
    },
    {
      "cell_type": "markdown",
      "source": [
        "Feature Manipulation and Selection"
      ],
      "metadata": {
        "id": "uY0ozP-gnFiO"
      }
    },
    {
      "cell_type": "markdown",
      "source": [
        "1. Feature Manipulation"
      ],
      "metadata": {
        "id": "dETrneUGnLzP"
      }
    },
    {
      "cell_type": "code",
      "source": [
        "df_numeric=df.select_dtypes(include=['int','float'])\n",
        "#compute correlation matrix\n",
        "correlation_matrix=df_numeric.corr()\n",
        "#create a heatmap of the correlation matrix\n",
        "plt.figure(figsize=(10,8))\n",
        "sns.heatmap(correlation_matrix,annot=True,cmap='coolwarm',fmt=\".2f\")\n",
        "plt.title('Correlation Matrix')\n",
        "plt.show()"
      ],
      "metadata": {
        "colab": {
          "base_uri": "https://localhost:8080/",
          "height": 699
        },
        "id": "ovQiQuM1nXnh",
        "outputId": "a559cbbf-0d47-4581-d2b3-f78c624e787f"
      },
      "execution_count": 49,
      "outputs": [
        {
          "output_type": "display_data",
          "data": {
            "text/plain": [
              "<Figure size 1000x800 with 2 Axes>"
            ],
            "image/png": "[encoded data removed]"
          },
          "metadata": {}
        }
      ]
    },
    {
      "cell_type": "markdown",
      "source": [
        "2. Feature Selection"
      ],
      "metadata": {
        "id": "UGBeXlHqn28t"
      }
    },
    {
      "cell_type": "markdown",
      "source": [
        "What all feature selection methods have you used and why?\n"
      ],
      "metadata": {
        "id": "hqnf_FXIn_3l"
      }
    },
    {
      "cell_type": "markdown",
      "source": [
        "Correlation matrix has been used to find which coulmns have higher connection with CSAT Score and that is selected"
      ],
      "metadata": {
        "id": "WiM8E4CUoK4g"
      }
    },
    {
      "cell_type": "markdown",
      "source": [
        "Which all features you found import and why?\n"
      ],
      "metadata": {
        "id": "Kk6FOIdjofqo"
      }
    },
    {
      "cell_type": "markdown",
      "source": [
        "Time difference is one feature which has higher connection to CSAT Score and its can be used  to predict CSAT Score"
      ],
      "metadata": {
        "id": "a-TKtLyXoqLa"
      }
    },
    {
      "cell_type": "markdown",
      "source": [
        "# ML Model Implementation"
      ],
      "metadata": {
        "id": "kNg3v9UL-Six"
      }
    },
    {
      "cell_type": "markdown",
      "source": [
        "ML Model 1"
      ],
      "metadata": {
        "id": "utH0xdZC-zes"
      }
    },
    {
      "cell_type": "code",
      "source": [
        "#import libraries\n",
        "from sklearn.model_selection import train_test_split\n",
        "from sklearn.linear_model import LogisticRegression\n",
        "from sklearn.metrics import classification_report,accuracy_score\n",
        "from sklearn.preprocessing import LabelEncoder\n",
        "from sklearn.preprocessing import StandardScaler\n",
        "from imblearn.over_sampling import SMOTE\n",
        "\n",
        "#convert continous CSAT Score into categories for classification\n",
        "df['CSAT Score Category'] = pd.cut(df['CSAT Score'],bins=[1,2,3,4,5,6],labels=['Very Poor','Poor','Average','Good','Excellent'])\n",
        "\n",
        "# Fill missing values in 'CSAT Score Category' with the mode\n",
        "df['CSAT Score Category'].fillna(df['CSAT Score Category'].mode()[0], inplace=True)\n",
        "\n",
        "\n",
        "#use Label Encoder to convert categorical features(Channelname,Category and Agent shift)\n",
        "label_encoder=LabelEncoder()\n",
        "df['channel_name']=label_encoder.fit_transform(df['channel_name'])\n",
        "df['Agent Shift']=label_encoder.fit_transform(df['Agent Shift'])\n",
        "df['CSAT Score Category']=label_encoder.fit_transform(df['CSAT Score Category'])\n",
        "\n",
        "#Select features and target variable\n",
        "X=df[['Time difference','Agent Shift']]\n",
        "y=df['CSAT Score Category']\n",
        "\n",
        "#split the data into train and test\n",
        "X_train,X_test,y_train,y_test=train_test_split(X,y,test_size=0.2,random_state=42)\n",
        "\n",
        "#Use SMOTE to oversample the minority class\n",
        "smote=SMOTE(random_state=42)\n",
        "X_train_resampled,y_train_resampled=smote.fit_resample(X_train,y_train)\n",
        "\n",
        "#train the model\n",
        "model=LogisticRegression(class_weight='balanced')\n",
        "model.fit(X_train,y_train)\n",
        "\n",
        "#make prediction\n",
        "y_pred=model.predict(X_test)"
      ],
      "metadata": {
        "colab": {
          "base_uri": "https://localhost:8080/"
        },
        "id": "gOLU_xxF-5RK",
        "outputId": "3cb686fc-ae83-4153-e734-f6fba72e603e"
      },
      "execution_count": 59,
      "outputs": [
        {
          "output_type": "stream",
          "name": "stderr",
          "text": [
            "/tmp/ipython-input-2437038123.py:13: FutureWarning: A value is trying to be set on a copy of a DataFrame or Series through chained assignment using an inplace method.\n",
            "The behavior will change in pandas 3.0. This inplace method will never work because the intermediate object on which we are setting values always behaves as a copy.\n",
            "\n",
            "For example, when doing 'df[col].method(value, inplace=True)', try using 'df.method({col: value}, inplace=True)' or df[col] = df[col].method(value) instead, to perform the operation inplace on the original object.\n",
            "\n",
            "\n",
            "  df['CSAT Score Category'].fillna(df['CSAT Score Category'].mode()[0], inplace=True)\n"
          ]
        }
      ]
    },
    {
      "cell_type": "markdown",
      "source": [
        "Explain the ML Model used and its performance using evaluation metric score chart"
      ],
      "metadata": {
        "id": "Gjv8gFQNE_8X"
      }
    },
    {
      "cell_type": "code",
      "source": [
        "#evaluate the model\n",
        "accuracy=accuracy_score(y_test,y_pred)\n",
        "print(f'Accuracy:{accuracy}')\n",
        "\n",
        "print(classification_report(y_test,y_pred))"
      ],
      "metadata": {
        "colab": {
          "base_uri": "https://localhost:8080/"
        },
        "id": "VpHkS_QCFSpf",
        "outputId": "346c75b4-f0f4-4b40-f9f3-387ec4266cdc"
      },
      "execution_count": 60,
      "outputs": [
        {
          "output_type": "stream",
          "name": "stdout",
          "text": [
            "Accuracy:0.12332673728320336\n",
            "              precision    recall  f1-score   support\n",
            "\n",
            "           0       0.13      0.91      0.23      2277\n",
            "           1       0.00      0.00      0.00     14175\n",
            "           2       0.03      0.05      0.03       503\n",
            "           3       0.03      0.07      0.04       227\n",
            "\n",
            "    accuracy                           0.12     17182\n",
            "   macro avg       0.05      0.26      0.08     17182\n",
            "weighted avg       0.02      0.12      0.03     17182\n",
            "\n"
          ]
        },
        {
          "output_type": "stream",
          "name": "stderr",
          "text": [
            "/usr/local/lib/python3.12/dist-packages/sklearn/metrics/_classification.py:1565: UndefinedMetricWarning: Precision is ill-defined and being set to 0.0 in labels with no predicted samples. Use `zero_division` parameter to control this behavior.\n",
            "  _warn_prf(average, modifier, f\"{metric.capitalize()} is\", len(result))\n",
            "/usr/local/lib/python3.12/dist-packages/sklearn/metrics/_classification.py:1565: UndefinedMetricWarning: Precision is ill-defined and being set to 0.0 in labels with no predicted samples. Use `zero_division` parameter to control this behavior.\n",
            "  _warn_prf(average, modifier, f\"{metric.capitalize()} is\", len(result))\n",
            "/usr/local/lib/python3.12/dist-packages/sklearn/metrics/_classification.py:1565: UndefinedMetricWarning: Precision is ill-defined and being set to 0.0 in labels with no predicted samples. Use `zero_division` parameter to control this behavior.\n",
            "  _warn_prf(average, modifier, f\"{metric.capitalize()} is\", len(result))\n"
          ]
        }
      ]
    },
    {
      "cell_type": "markdown",
      "source": [
        "Cross validation and hyperparameter tuning"
      ],
      "metadata": {
        "id": "wKzH19wnGD1l"
      }
    },
    {
      "cell_type": "code",
      "source": [
        "from sklearn.model_selection import cross_val_score,KFold\n",
        "#split the data into kfolds\n",
        "kfold=KFold(n_splits=10,shuffle=True,random_state=42)\n",
        "#implement cross validation\n",
        "cv_scores=cross_val_score(model,X,y,cv=kfold,scoring='accuracy')\n",
        "print(f'Cross-validation std:{cv_scores.std()}')\n",
        "print(f'Mean accuracy:{cv_scores.mean()}')\n"
      ],
      "metadata": {
        "colab": {
          "base_uri": "https://localhost:8080/"
        },
        "id": "Bp-26Ha1GB80",
        "outputId": "72c3ffa9-4f98-4dc4-d074-d9a8583b4123"
      },
      "execution_count": 62,
      "outputs": [
        {
          "output_type": "stream",
          "name": "stdout",
          "text": [
            "Cross-validation std:0.11813452831776357\n",
            "Mean accuracy:0.1751170303166714\n"
          ]
        }
      ]
    },
    {
      "cell_type": "code",
      "source": [
        "from sklearn.model_selection import GridSearchCV\n",
        "from sklearn.metrics import classification_report,confusion_matrix,accuracy_score\n",
        "\n",
        "#define parameter grid\n",
        "param_grid={'C':[0.01,0.1,1,10,100],'solver':['liblinear','saga']}\n",
        "\n",
        "#set up grid search cv\n",
        "grid_search=GridSearchCV(model,param_grid,cv=5,scoring='accuracy')\n",
        "grid_search.fit(X_train,y_train)\n",
        "\n",
        "best_params=grid_search.best_params_\n",
        "best_score=grid_search.best_score_\n",
        "print(f'Best score:{best_score}')\n",
        "print(f'Best parameters:{best_params}')\n",
        "\n",
        "best_model=grid_search.best_estimator_"
      ],
      "metadata": {
        "colab": {
          "base_uri": "https://localhost:8080/"
        },
        "id": "qEwwN_pvHSpd",
        "outputId": "b979333a-db15-4b05-bdcd-1759d37ab944"
      },
      "execution_count": 64,
      "outputs": [
        {
          "output_type": "stream",
          "name": "stderr",
          "text": [
            "/usr/local/lib/python3.12/dist-packages/sklearn/linear_model/_sag.py:348: ConvergenceWarning: The max_iter was reached which means the coef_ did not converge\n",
            "  warnings.warn(\n",
            "/usr/local/lib/python3.12/dist-packages/sklearn/linear_model/_sag.py:348: ConvergenceWarning: The max_iter was reached which means the coef_ did not converge\n",
            "  warnings.warn(\n",
            "/usr/local/lib/python3.12/dist-packages/sklearn/linear_model/_sag.py:348: ConvergenceWarning: The max_iter was reached which means the coef_ did not converge\n",
            "  warnings.warn(\n",
            "/usr/local/lib/python3.12/dist-packages/sklearn/linear_model/_sag.py:348: ConvergenceWarning: The max_iter was reached which means the coef_ did not converge\n",
            "  warnings.warn(\n",
            "/usr/local/lib/python3.12/dist-packages/sklearn/linear_model/_sag.py:348: ConvergenceWarning: The max_iter was reached which means the coef_ did not converge\n",
            "  warnings.warn(\n",
            "/usr/local/lib/python3.12/dist-packages/sklearn/linear_model/_sag.py:348: ConvergenceWarning: The max_iter was reached which means the coef_ did not converge\n",
            "  warnings.warn(\n",
            "/usr/local/lib/python3.12/dist-packages/sklearn/linear_model/_sag.py:348: ConvergenceWarning: The max_iter was reached which means the coef_ did not converge\n",
            "  warnings.warn(\n",
            "/usr/local/lib/python3.12/dist-packages/sklearn/linear_model/_sag.py:348: ConvergenceWarning: The max_iter was reached which means the coef_ did not converge\n",
            "  warnings.warn(\n",
            "/usr/local/lib/python3.12/dist-packages/sklearn/linear_model/_sag.py:348: ConvergenceWarning: The max_iter was reached which means the coef_ did not converge\n",
            "  warnings.warn(\n",
            "/usr/local/lib/python3.12/dist-packages/sklearn/linear_model/_sag.py:348: ConvergenceWarning: The max_iter was reached which means the coef_ did not converge\n",
            "  warnings.warn(\n",
            "/usr/local/lib/python3.12/dist-packages/sklearn/linear_model/_sag.py:348: ConvergenceWarning: The max_iter was reached which means the coef_ did not converge\n",
            "  warnings.warn(\n",
            "/usr/local/lib/python3.12/dist-packages/sklearn/linear_model/_sag.py:348: ConvergenceWarning: The max_iter was reached which means the coef_ did not converge\n",
            "  warnings.warn(\n",
            "/usr/local/lib/python3.12/dist-packages/sklearn/linear_model/_sag.py:348: ConvergenceWarning: The max_iter was reached which means the coef_ did not converge\n",
            "  warnings.warn(\n",
            "/usr/local/lib/python3.12/dist-packages/sklearn/linear_model/_sag.py:348: ConvergenceWarning: The max_iter was reached which means the coef_ did not converge\n",
            "  warnings.warn(\n",
            "/usr/local/lib/python3.12/dist-packages/sklearn/linear_model/_sag.py:348: ConvergenceWarning: The max_iter was reached which means the coef_ did not converge\n",
            "  warnings.warn(\n",
            "/usr/local/lib/python3.12/dist-packages/sklearn/linear_model/_sag.py:348: ConvergenceWarning: The max_iter was reached which means the coef_ did not converge\n",
            "  warnings.warn(\n",
            "/usr/local/lib/python3.12/dist-packages/sklearn/linear_model/_sag.py:348: ConvergenceWarning: The max_iter was reached which means the coef_ did not converge\n",
            "  warnings.warn(\n",
            "/usr/local/lib/python3.12/dist-packages/sklearn/linear_model/_sag.py:348: ConvergenceWarning: The max_iter was reached which means the coef_ did not converge\n",
            "  warnings.warn(\n",
            "/usr/local/lib/python3.12/dist-packages/sklearn/linear_model/_sag.py:348: ConvergenceWarning: The max_iter was reached which means the coef_ did not converge\n",
            "  warnings.warn(\n",
            "/usr/local/lib/python3.12/dist-packages/sklearn/linear_model/_sag.py:348: ConvergenceWarning: The max_iter was reached which means the coef_ did not converge\n",
            "  warnings.warn(\n",
            "/usr/local/lib/python3.12/dist-packages/sklearn/linear_model/_sag.py:348: ConvergenceWarning: The max_iter was reached which means the coef_ did not converge\n",
            "  warnings.warn(\n",
            "/usr/local/lib/python3.12/dist-packages/sklearn/linear_model/_sag.py:348: ConvergenceWarning: The max_iter was reached which means the coef_ did not converge\n",
            "  warnings.warn(\n",
            "/usr/local/lib/python3.12/dist-packages/sklearn/linear_model/_sag.py:348: ConvergenceWarning: The max_iter was reached which means the coef_ did not converge\n",
            "  warnings.warn(\n",
            "/usr/local/lib/python3.12/dist-packages/sklearn/linear_model/_sag.py:348: ConvergenceWarning: The max_iter was reached which means the coef_ did not converge\n",
            "  warnings.warn(\n",
            "/usr/local/lib/python3.12/dist-packages/sklearn/linear_model/_sag.py:348: ConvergenceWarning: The max_iter was reached which means the coef_ did not converge\n",
            "  warnings.warn(\n"
          ]
        },
        {
          "output_type": "stream",
          "name": "stdout",
          "text": [
            "Best score:0.8246198617679156\n",
            "Best parameters:{'C': 0.01, 'solver': 'liblinear'}\n"
          ]
        }
      ]
    },
    {
      "cell_type": "markdown",
      "source": [
        "Which hyperparameter optimization teqnique have you used?\n"
      ],
      "metadata": {
        "id": "X_XTk05fJZGI"
      }
    },
    {
      "cell_type": "markdown",
      "source": [
        "Hyperparameter tuning is finding the best parameter the your model to improve its performance.GridSearchCV is used a hyperparameter optimization teqniquesince it works well with classification algorithm."
      ],
      "metadata": {
        "id": "uL3qSx9sJs4V"
      }
    },
    {
      "cell_type": "markdown",
      "source": [
        "Have you seen any improvement?Note down the improvement with updates Evaluation metric Score chart"
      ],
      "metadata": {
        "id": "K4dCTaW5KXz4"
      }
    },
    {
      "cell_type": "markdown",
      "source": [
        "Yes The accuracy score after using grid search cv has went up than initial test of model"
      ],
      "metadata": {
        "id": "HK0kLTnVKX3T"
      }
    },
    {
      "cell_type": "markdown",
      "source": [
        "# **Conclusion**"
      ],
      "metadata": {
        "id": "gCX9965dhzqZ"
      }
    },
    {
      "cell_type": "markdown",
      "source": [
        "Machine Learning model to create a logistic regression task to predict CSAT Score based on features like time difference and agent has been successfully implemented with accuracy score of 82%"
      ],
      "metadata": {
        "id": "Fjb1IsQkh3yE"
      }
    }
  ]
}